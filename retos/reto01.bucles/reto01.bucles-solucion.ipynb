{
 "cells": [
  {
   "cell_type": "markdown",
   "metadata": {},
   "source": [
    "![Logo iMAT Retos](logo_retos.jpg)\n",
    "\n",
    "# Reto 1. Bucles (Tema 3)\n",
    "\n",
    "Crear los retos que se describen a continuación."
   ]
  },
  {
   "cell_type": "markdown",
   "metadata": {},
   "source": [
    "**Objetivos**: \n",
    "- Dominar el almacenamiento de datos en variables.\n",
    "- Dominar las estructuras de control if y while."
   ]
  },
  {
   "cell_type": "markdown",
   "metadata": {},
   "source": [
    "Se programarán las soluciones en este mismo Notebook en la celda que se suministra al efecto.\n",
    "\n",
    "**IMPORTANTE**\n",
    "\n",
    "Cuando trabajamos con bucles es muy fácil crear bucles infinitos, es decir, bucles que no terminan nunca porque no se llega a cumplir la condición de parada. La forma de parar la ejecución infinita de una celda es pulsando en el botón de parar ejecución (en VSC a la izquierda de la celda y en Jupyter en la parte superior)."
   ]
  },
  {
   "cell_type": "markdown",
   "metadata": {},
   "source": [
    "## Cálculo del número Pi\n",
    "\n",
    "La serie de **Nilakantha** es una serie infinita que se utiliza para la aproximación del número Pi:\n",
    "\n",
    "$\\pi = 3 + \\frac{4}{2·3·4} - \\frac{4}{4·5·6} + \\frac{4}{6·7·8} - \\frac{4}{8·9·10} + \\frac{4}{10·11·12} - \\frac{4}{12·13·14} ...$\n",
    "\n",
    "El tema de series será visto ampliamente en la asignatura de Análisis Matemático.\n",
    "\n",
    "**Solución en las celdas siguientes a cada apartado**\n",
    "\n",
    "**Se pide**\n",
    "\n",
    "a) Copia la serie y genera el número Pi manualmente con los **2** primeros términos mediante una operación artimética Python."
   ]
  },
  {
   "cell_type": "code",
   "execution_count": 1,
   "metadata": {},
   "outputs": [
    {
     "data": {
      "text/plain": [
       "3.1666666666666665"
      ]
     },
     "execution_count": 1,
     "metadata": {},
     "output_type": "execute_result"
    }
   ],
   "source": [
    "3 + 4/(2*3*4)"
   ]
  },
  {
   "cell_type": "markdown",
   "metadata": {},
   "source": [
    "b) Copia la serie y genera el número Pi manualmente con los **4** primeros términos mediante una operación artimética Python."
   ]
  },
  {
   "cell_type": "code",
   "execution_count": 2,
   "metadata": {},
   "outputs": [
    {
     "data": {
      "text/plain": [
       "3.145238095238095"
      ]
     },
     "execution_count": 2,
     "metadata": {},
     "output_type": "execute_result"
    }
   ],
   "source": [
    "3 + 4/(2*3*4) - 4/(4*5*6) + 4/(6*7*8) "
   ]
  },
  {
   "cell_type": "markdown",
   "metadata": {},
   "source": [
    "c) Copia la serie y genera el número Pi manualmente con los **6** primeros términos mediante una operación artimética Python."
   ]
  },
  {
   "cell_type": "code",
   "execution_count": 3,
   "metadata": {},
   "outputs": [
    {
     "data": {
      "text/plain": [
       "3.1408813408813407"
      ]
     },
     "execution_count": 3,
     "metadata": {},
     "output_type": "execute_result"
    }
   ],
   "source": [
    "3 + 4/(2*3*4) - 4/(4*5*6) + 4/(6*7*8) - 4/(8*9*10) + 4/(10*11*12) - 4/(12*13*14)"
   ]
  },
  {
   "cell_type": "markdown",
   "metadata": {},
   "source": [
    "d) Implementa un programa que genere la serie mediante un bucle realizando las iteraciones que el usuario desee (inicializando la variable solamente, sin pedir por teclado). A continuación ve comprobando que el resultado coincide con el de los términos elegidos anteriormente. ¿Cuál es el número Pi obtenido después de 20 iteraciones?"
   ]
  },
  {
   "cell_type": "code",
   "execution_count": 19,
   "metadata": {},
   "outputs": [
    {
     "name": "stdout",
     "output_type": "stream",
     "text": [
      "3.141565734658547\n"
     ]
    }
   ],
   "source": [
    "pi = 3\n",
    "iteraciones_max = 20\n",
    "iteracion = 1\n",
    "\n",
    "while iteracion <= iteraciones_max:\n",
    "    if iteracion % 2 != 0:  #En las iteraciones pares se suma el siguiente término, en las impares se resta\n",
    "        producto = 1\n",
    "    else:\n",
    "        producto = -1\n",
    "\n",
    "    denominador_inicial = iteracion * 2\n",
    "    \n",
    "    # Cálculo del producto del denominador. Solución escalable\n",
    "    contador = denominador_inicial   \n",
    "    while contador < denominador_inicial + 3:  # [denominador_inicial, denominador_inicial + 3) --> 2, 3, 4\n",
    "        producto = producto * contador\n",
    "        contador = contador + 1\n",
    "    \n",
    "    \"\"\"\n",
    "    Otra posible solución que no escala:\n",
    "    producto = denominador_inicial * (denominador_inicial + 1) * (denominador_inicial + 2)\n",
    "    \"\"\"\n",
    "    \n",
    "    producto = 4/producto  # Cálculo del término\n",
    "    pi = pi + producto  # Acumulación del valor de PI\n",
    "\n",
    "    iteracion = iteracion + 1\n",
    "\n",
    "print(pi)"
   ]
  },
  {
   "cell_type": "code",
   "execution_count": null,
   "metadata": {},
   "outputs": [],
   "source": []
  }
 ],
 "metadata": {
  "kernelspec": {
   "display_name": "Python 3 (ipykernel)",
   "language": "python",
   "name": "python3"
  },
  "language_info": {
   "codemirror_mode": {
    "name": "ipython",
    "version": 3
   },
   "file_extension": ".py",
   "mimetype": "text/x-python",
   "name": "python",
   "nbconvert_exporter": "python",
   "pygments_lexer": "ipython3",
   "version": "3.9.13"
  },
  "vscode": {
   "interpreter": {
    "hash": "03f549537fa19b43efbf5aa4d6467b94388b966112c368cc66a2484d89a4a6bd"
   }
  }
 },
 "nbformat": 4,
 "nbformat_minor": 4
}
