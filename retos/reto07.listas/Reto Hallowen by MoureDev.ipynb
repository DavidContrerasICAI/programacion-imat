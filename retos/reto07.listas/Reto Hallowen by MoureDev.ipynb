{
 "cells": [
  {
   "cell_type": "markdown",
   "metadata": {},
   "source": [
    "\n",
    "# Reto de Halloween\n",
    "\n",
    "Te encuentras explorando una mansión abandonada llena de habitaciones. Empezarás la partida en la **puerta de la mansión** y la única manera de poder avanzar a la siguiente habitación será resolviendo un acertijo. Estos acertijos los deberás crear tú y podrás ser todo lo creativo que te apetezca. Tu misión será encontrar la habitación de las chuches. \n",
    "\n",
    "La mansión se corresponde con una estructura cuadrada 4 x 4 que deberás modelar, en la cual cada celda será una habitación. De las 16 habitaciones disponibles existirán 2 de ellas que son especiales y no tienen acertijo asociado: la entrada (donde se incia el juego) y la salida (donde se termina, que será la habitación de las chuches). Esta podría ser una representación:\n",
    "  \n",
    " - 🚪⬜️⬜️⬜️\n",
    " - ⬜️👻⬜️⬜️\n",
    " - ⬜️⬜️⬜️👻\n",
    " - ⬜️⬜️🍭⬜️\n",
    " \n",
    "\n",
    "El usuario se podrá desplazar por las habitaciones solo si responde correctamente a las preguntas del acertijo, indicando su nueva posición en el tablero mediante un desplazamiento de una unidad (paso de una habitación a otra) en la dirección que indique: N (norte), S (sur), E (este) u O (oeste).\n",
    "\n",
    "Los elementos que tendrán las habitaciones de la mansión serán los siguientes:\n",
    " - ❓ Acertijo: cada habitación propone un acertijo aleatorio que deberás responder con texto. Si no lo aciertas no podrás desplazarte.\n",
    " - 🍭 Salida: sales de la casa si encuentras la habitación de los dulces.\n",
    " - 👻 (Bonus) Fantasmas: existe un 20% de probabilidad que en una habitación aparezca un fantasma y tengas que responder dos preguntas para salir de ella.\n",
    " "
   ]
  },
  {
   "cell_type": "markdown",
   "metadata": {},
   "source": []
  }
 ],
 "metadata": {
  "kernelspec": {
   "display_name": "Python 3",
   "language": "python",
   "name": "python3"
  },
  "language_info": {
   "codemirror_mode": {
    "name": "ipython",
    "version": 3
   },
   "file_extension": ".py",
   "mimetype": "text/x-python",
   "name": "python",
   "nbconvert_exporter": "python",
   "pygments_lexer": "ipython3",
   "version": "3.8.5"
  }
 },
 "nbformat": 4,
 "nbformat_minor": 4
}
