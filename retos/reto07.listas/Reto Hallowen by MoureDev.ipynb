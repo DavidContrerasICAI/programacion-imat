{
 "cells": [
  {
   "cell_type": "markdown",
   "metadata": {},
   "source": [
    "\n",
    "Este es un reto especial por Halloween. Te encuentras explorando una mansión abandonada llena de habitaciones.\n",
    "En cada habitación tendrás que resolver un acertijo para poder avanzar a la siguiente. Tu misión es encontrar la habitación de los dulces.\n",
    "\n",
    "Se trata de implementar un juego interactivo de preguntas y respuestas por terminal.\n",
    "  (Tienes total libertad para ser creativo con los textos)\n",
    "\n",
    " - 🏰 Casa: La mansión se corresponde con una estructura cuadrada 4 x 4 que deberás modelar. Las habitaciones de puerta y dulces no tienen enigma.\n",
    " (16 habitaciones, siendo una de entrada y otra donde están los dulces). Esta podría ser una representación:\n",
    "  \n",
    " - 🚪⬜️⬜️⬜️\n",
    " - ⬜️👻⬜️⬜️\n",
    " - ⬜️⬜️⬜️👻\n",
    " - ⬜️⬜️🍭⬜️\n",
    " \n",
    " \n",
    " - ❓ Enigmas: Cada habitación propone un enigma aleatorio que deberás responder con texto. Si no lo aciertas no podrás desplazarte.\n",
    " \n",
    "- 🧭 Movimiento: Si resuelves el enigma se te preguntará a donde quieres desplazarte.(Ejemplo: norte/sur/este/oeste. Sólo deben proporcionarse las opciones posibles)\n",
    "\n",
    "- 🍭 Salida: Sales de la casa si encuentras la habitación de los dulces.\n",
    "\n",
    "- 👻 (Bonus) Fantasmas: Existe un 10% de que en una habitación aparezca un fantasma y tengas que responder dos preguntas para salir de ella.\n",
    " "
   ]
  }
 ],
 "metadata": {
  "kernelspec": {
   "display_name": "Python 3",
   "language": "python",
   "name": "python3"
  },
  "language_info": {
   "codemirror_mode": {
    "name": "ipython",
    "version": 3
   },
   "file_extension": ".py",
   "mimetype": "text/x-python",
   "name": "python",
   "nbconvert_exporter": "python",
   "pygments_lexer": "ipython3",
   "version": "3.8.5"
  }
 },
 "nbformat": 4,
 "nbformat_minor": 4
}
