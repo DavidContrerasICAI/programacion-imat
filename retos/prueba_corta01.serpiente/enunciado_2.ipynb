{
 "cells": [
  {
   "cell_type": "markdown",
   "id": "c612b4a6",
   "metadata": {},
   "source": [
    "# Prueba corta 2. Bucles\n",
    "\n",
    "Realizar un programa que simule el movimiento de una serpiente: _-----#. \n",
    "La serpiente deberá estar definida por una variable denominada SIZE para que en cualquier momento se pueda modificar su tamaño y sea escalable el programa.\n",
    "```\n",
    "SIZE = 5\n",
    "```\n",
    "La salida del programa será la siguiente: "
   ]
  },
  {
   "attachments": {
    "image-3.png": {
     "image/png": "[encoded data removed]"
    }
   },
   "cell_type": "markdown",
   "id": "d0399f1c",
   "metadata": {},
   "source": [
    "![image-3.png](attachment:image-3.png)"
   ]
  },
  {
   "cell_type": "markdown",
   "id": "0e7f427d",
   "metadata": {},
   "source": [
    "**IMPORTANTE**: la primera fila es solo una referencia que muestra la posición de la columna donde se pinta cada serpiente, no forma parte de la salida, por lo que no tendrá que ser mostrada por el programa. \n",
    "\n",
    "```\n",
    "0    5   10    15\n",
    "_-----#\n",
    "     _-----#\n",
    "          _-----#\n",
    "               _-----#\n",
    "          _-----#\n",
    "               _-----#\n",
    "          _-----#\n",
    "               _-----#\n",
    "          _-----#\n",
    "               _-----#\n",
    "\n",
    "```"
   ]
  },
  {
   "cell_type": "markdown",
   "id": "c61f3cc7",
   "metadata": {},
   "source": []
  }
 ],
 "metadata": {
  "kernelspec": {
   "display_name": "Python 3 (ipykernel)",
   "language": "python",
   "name": "python3"
  },
  "language_info": {
   "codemirror_mode": {
    "name": "ipython",
    "version": 3
   },
   "file_extension": ".py",
   "mimetype": "text/x-python",
   "name": "python",
   "nbconvert_exporter": "python",
   "pygments_lexer": "ipython3",
   "version": "3.12.4"
  }
 },
 "nbformat": 4,
 "nbformat_minor": 5
}
