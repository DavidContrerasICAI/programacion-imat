{
 "cells": [
  {
   "cell_type": "markdown",
   "metadata": {},
   "source": [
    "# Reto 8. Diccionarios"
   ]
  },
  {
   "cell_type": "markdown",
   "metadata": {},
   "source": [
    "## Programa 1. Traductor de emojis\n",
    "Desarollar un programa que traduzca frases a emojis.\n",
    "\n",
    "El programa permitirá traducir, no solo palabras a emojis, si no también sinónimos.\n",
    "\n",
    "### Ejemplo de funcionamiento\n",
    "\n",
    "#### Ej1\n",
    "- Input: Hoy me siento triste, pero con un poco de comida y un libro, sentiré amor y correré a sentirme feliz\n",
    "- Output: Hoy me siento 😢, pero con un poco de 🍔 y un 📖, sentiré ❤️ y 🏃 a sentirme 😊\n",
    "\n",
    "#### Ej2\n",
    "- Input: Hoy siento tristeza, pero con un poco de alimento y una lectura, sentiré cariño y andaré a sentir felicidad\n",
    "- Output: Hoy me siento 😢, pero con un poco de 🍔 y un 📖, sentiré ❤️ y 🏃 a sentirme 😊"
   ]
  },
  {
   "cell_type": "markdown",
   "metadata": {},
   "source": [
    "## Programa 2. Biblioteca\n",
    "Desarollar un programa que gestione los libros prestados de una biblioteca. Será clave que este programa facilite y permita realizar búsquedas de la forma más eficiente posible.\n",
    "\n",
    "El campo por el que el personal de la biblioteca realiza búsquedas en el ISBN. A partir de este dato, se deberá localizar el libro, que poseerá la información siguiente: título, autor y año de publicación. El acceso a la información interna del libro, deberá realizarse también de una forma muy rápida.\n",
    "\n",
    "Es importante que el programa facilite el estado del libro: prestado o disponible.\n",
    "\n",
    "Crear un programa que permita realizar búsquedas en la bilblioteca a partir de su ISBN. Una vez localizado el libro, se accerá a su información mediante un menú que permita acceder a su información. Además, deberá poseer la funcionalidad que aparece en el menú siguiente.\n",
    "\n",
    "### Menú de ejemplo\n",
    "\n",
    "```\n",
    "Menú\n",
    "----\n",
    "1. Buscar por ISBN\n",
    "2. Mostrar los libros disponibles\n",
    "3. Mostrar todos los libros\n",
    "\n",
    "ISBN a buscar: 978-3-16-148410-0\n",
    "\n",
    "Buscar por ISBN\n",
    "---------------\n",
    "1. Mostrar título\n",
    "2. Mostrar autor\n",
    "3. Mostrar año\n",
    "4. Mostrar estado\n",
    "5. Mostrar toda la info\n",
    "\n",
    "```"
   ]
  },
  {
   "cell_type": "markdown",
   "metadata": {},
   "source": [
    "## Programa 3. Votación de delegados\n",
    "\n",
    "Desarollar un programa que gestione el sistema de votación de un grupo de clase. Por un lado se registrarán los alumnos candidatos. Por otro lado, se deberá registrar el censo electoral, para conocer cuántos alumnos existen y cuántos de ellos han votado. Así se evitarán votos duplicados cuando se acerquen a las urnas.\n",
    "\n",
    "Crear un programa que utilice las estructuras pertinentes para que sea lo más eficiente posible. \n"
   ]
  },
  {
   "cell_type": "code",
   "execution_count": null,
   "metadata": {},
   "outputs": [],
   "source": []
  }
 ],
 "metadata": {
  "kernelspec": {
   "display_name": "Python 3 (ipykernel)",
   "language": "python",
   "name": "python3"
  },
  "language_info": {
   "codemirror_mode": {
    "name": "ipython",
    "version": 3
   },
   "file_extension": ".py",
   "mimetype": "text/x-python",
   "name": "python",
   "nbconvert_exporter": "python",
   "pygments_lexer": "ipython3",
   "version": "3.9.13"
  }
 },
 "nbformat": 4,
 "nbformat_minor": 4
}
