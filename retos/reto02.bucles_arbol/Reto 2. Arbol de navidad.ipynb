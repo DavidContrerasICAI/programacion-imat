{
 "cells": [
  {
   "cell_type": "markdown",
   "metadata": {},
   "source": [
    "## Reto 2. Bucles - Árbol de navidad\n",
    "**Objetivo**: Pintar un árbol de navidad como el que se muestra a continuación (basado en asteriscos), programado de la forma más automatizada posible mediante la utilización de bucles.\n",
    "\n",
    "**Tipo de trabajo**: Colaborativo en grupos de 4 alumnos.\n",
    "\n",
    "**Duración**: 20 minutos\n",
    "\n",
    "**Datos**: El árbol debe tener 3 pisos, con las siguientes características:\n",
    "1. Altura de 5 líneas y un ancho máximo de 10 asteriscos\n",
    "2. Altura de 7 líneas y un ancho máximo de 14 asteriscos\n",
    "3. Altura de 9 líneas y un ancho máximo de 18 asteriscos\n",
    "\n",
    "El ancho mínimo es de dos asteriscos.\n",
    "\n",
    "```python\n",
    "PISOS = 3   # Los pisos o plantas del árbol, como los de un edificio\n",
    "ALTO_PRIMER_PISO = 5    # El número de ramas de cada piso. El resto, 2 más\n",
    "```\n",
    "\n",
    "**Salida del programa**:\n",
    " ```\n",
    "                 **\n",
    "                ****\n",
    "               ******\n",
    "              ********\n",
    "             **********\n",
    "                 **\n",
    "                ****\n",
    "               ******\n",
    "              ********\n",
    "             **********\n",
    "            ************\n",
    "           **************\n",
    "                 **\n",
    "                ****\n",
    "               ******\n",
    "              ********\n",
    "             **********\n",
    "            ************\n",
    "           **************\n",
    "          ****************\n",
    "         ******************\n",
    "\n",
    "```"
   ]
  },
  {
   "cell_type": "markdown",
   "metadata": {},
   "source": [
    "**Prohibiciones**: No se podrá utilizar el operador de la multiplicación con caracteres que permite Python."
   ]
  },
  {
   "cell_type": "markdown",
   "metadata": {},
   "source": [
    "**Recomendación**: Trabajar siempre por iteraciones. En primer lugar se intentará pintar una sola planta, de las tres que tiene."
   ]
  },
  {
   "cell_type": "code",
   "execution_count": null,
   "metadata": {},
   "outputs": [],
   "source": [
    "palabra = \"Python\"\n",
    "print(palabra * 3)       # NO se podrá utilizar"
   ]
  },
  {
   "cell_type": "markdown",
   "metadata": {},
   "source": [
    "**Ayuda**: La función print por defecto inserta un retorno de carro (nueva línea) al final de los caracteres."
   ]
  },
  {
   "cell_type": "code",
   "execution_count": null,
   "metadata": {},
   "outputs": [],
   "source": [
    "print(\"Hola\")\n",
    "print(\"Adiós\")"
   ]
  },
  {
   "cell_type": "markdown",
   "metadata": {},
   "source": [
    "Esta operación por defecto se puede evitar indicando el parámetro **end = ''**"
   ]
  },
  {
   "cell_type": "code",
   "execution_count": null,
   "metadata": {},
   "outputs": [],
   "source": [
    "print(\"Hola\", end = '')\n",
    "print(\"Adiós\", end = '')"
   ]
  }
 ],
 "metadata": {
  "kernelspec": {
   "display_name": "Python 3 (ipykernel)",
   "language": "python",
   "name": "python3"
  },
  "language_info": {
   "codemirror_mode": {
    "name": "ipython",
    "version": 3
   },
   "file_extension": ".py",
   "mimetype": "text/x-python",
   "name": "python",
   "nbconvert_exporter": "python",
   "pygments_lexer": "ipython3",
   "version": "3.12.4"
  }
 },
 "nbformat": 4,
 "nbformat_minor": 4
}
