{
 "cells": [
  {
   "cell_type": "code",
   "execution_count": 1,
   "id": "3b6109d6-1495-435b-99b4-b7cdc2f42797",
   "metadata": {},
   "outputs": [
    {
     "name": "stdout",
     "output_type": "stream",
     "text": [
      "Adiós\n",
      "Adiós\n",
      "Adiós\n",
      "Adiós\n"
     ]
    }
   ],
   "source": [
    "contador = 0\n",
    "while contador < 4:\n",
    "    print(\"Adiós\")\n",
    "    contador = contador + 1"
   ]
  },
  {
   "cell_type": "code",
   "execution_count": 3,
   "id": "c672adb0-cc00-4b08-9fe9-d0534534221b",
   "metadata": {},
   "outputs": [
    {
     "name": "stdout",
     "output_type": "stream",
     "text": [
      "18\n"
     ]
    }
   ],
   "source": [
    "edad = 18\n",
    "print(edad)"
   ]
  },
  {
   "cell_type": "code",
   "execution_count": 5,
   "id": "5fab91b7-6b0d-4e7c-ade3-d46b440e11e0",
   "metadata": {},
   "outputs": [
    {
     "name": "stdout",
     "output_type": "stream",
     "text": [
      "19\n"
     ]
    }
   ],
   "source": [
    "print(edad + 1)"
   ]
  },
  {
   "cell_type": "code",
   "execution_count": 7,
   "id": "3e907418-2f78-4116-bf0d-419442820482",
   "metadata": {},
   "outputs": [
    {
     "name": "stdout",
     "output_type": "stream",
     "text": [
      "18\n"
     ]
    }
   ],
   "source": [
    "print(edad)"
   ]
  },
  {
   "cell_type": "code",
   "execution_count": 9,
   "id": "ece97ecd-7707-456b-8118-178083d3a9be",
   "metadata": {},
   "outputs": [],
   "source": [
    "edad = edad + 1"
   ]
  },
  {
   "cell_type": "code",
   "execution_count": 11,
   "id": "c54c4097-5b98-4a6c-8d7b-877eb08c650c",
   "metadata": {},
   "outputs": [
    {
     "name": "stdout",
     "output_type": "stream",
     "text": [
      "19\n"
     ]
    }
   ],
   "source": [
    "print(edad)"
   ]
  },
  {
   "cell_type": "code",
   "execution_count": 17,
   "id": "1a7d3b8f-9196-486c-8bb9-829fc384bfe2",
   "metadata": {},
   "outputs": [
    {
     "name": "stdout",
     "output_type": "stream",
     "text": [
      "INICIO\n",
      "Mi nombre es David\n",
      "Mi nombre es David\n",
      "Mi nombre es David\n",
      "Mi nombre es David\n",
      "Mi nombre es David\n",
      "FIN\n"
     ]
    }
   ],
   "source": [
    "print(\"INICIO\")\n",
    "contador = 0\n",
    "while contador < 5:\n",
    "    print(\"Mi nombre es David\")\n",
    "    contador = contador + 1\n",
    "print(\"FIN\")"
   ]
  },
  {
   "cell_type": "markdown",
   "id": "a3bc1ed2-ecf6-4cbf-bd41-19437863df76",
   "metadata": {},
   "source": [
    "### Mal código: contador = 0 justo antes del while"
   ]
  },
  {
   "cell_type": "code",
   "execution_count": 19,
   "id": "d6c984db-5abd-4535-befc-b65ea98f015e",
   "metadata": {},
   "outputs": [
    {
     "name": "stdout",
     "output_type": "stream",
     "text": [
      "INICIO\n",
      "Mi nombre es David\n",
      "Mi nombre es David\n",
      "Mi nombre es David\n",
      "Mi nombre es David\n",
      "Mi nombre es David\n",
      "FIN\n"
     ]
    }
   ],
   "source": [
    "contador = 0\n",
    "print(\"INICIO\")\n",
    "while contador < 5:\n",
    "    print(\"Mi nombre es David\")\n",
    "    contador = contador + 1\n",
    "print(\"FIN\")"
   ]
  },
  {
   "cell_type": "code",
   "execution_count": 24,
   "id": "50f523b0-bef6-4acb-b690-21ecb31aeaa4",
   "metadata": {},
   "outputs": [
    {
     "name": "stdout",
     "output_type": "stream",
     "text": [
      "1,2,3,4,5,6,7,8,9,10,"
     ]
    }
   ],
   "source": [
    "contador = 1\n",
    "while contador <= 10:\n",
    "    print(contador, end=\",\")\n",
    "    contador = contador + 1"
   ]
  },
  {
   "cell_type": "code",
   "execution_count": 30,
   "id": "eda79986-0367-4c4d-a1db-31ce0288cc51",
   "metadata": {},
   "outputs": [
    {
     "name": "stdout",
     "output_type": "stream",
     "text": [
      "2,4,6,8,10,12,14,16,18,20,"
     ]
    }
   ],
   "source": [
    "contador = 2\n",
    "while contador <= 20:\n",
    "    print(contador, end=\",\")\n",
    "    contador = contador + 2"
   ]
  },
  {
   "cell_type": "code",
   "execution_count": 32,
   "id": "49f1d312-4d2d-4b03-a50c-121b69b6bde7",
   "metadata": {},
   "outputs": [
    {
     "data": {
      "text/plain": [
       "4"
      ]
     },
     "execution_count": 32,
     "metadata": {},
     "output_type": "execute_result"
    }
   ],
   "source": [
    "2+2"
   ]
  },
  {
   "cell_type": "code",
   "execution_count": 36,
   "id": "13bae223-ffe1-413f-929b-94673b54ef26",
   "metadata": {},
   "outputs": [
    {
     "data": {
      "text/plain": [
       "6"
      ]
     },
     "execution_count": 36,
     "metadata": {},
     "output_type": "execute_result"
    }
   ],
   "source": [
    "2*3"
   ]
  },
  {
   "cell_type": "code",
   "execution_count": 38,
   "id": "dc1e5424-8588-435a-8be2-31963b8260df",
   "metadata": {},
   "outputs": [
    {
     "data": {
      "text/plain": [
       "8"
      ]
     },
     "execution_count": 38,
     "metadata": {},
     "output_type": "execute_result"
    }
   ],
   "source": [
    "2**3"
   ]
  },
  {
   "cell_type": "code",
   "execution_count": 40,
   "id": "23d76baf-0c72-46fc-99f4-4718e9b25103",
   "metadata": {},
   "outputs": [
    {
     "data": {
      "text/plain": [
       "2.5"
      ]
     },
     "execution_count": 40,
     "metadata": {},
     "output_type": "execute_result"
    }
   ],
   "source": [
    "5/2"
   ]
  },
  {
   "cell_type": "code",
   "execution_count": 42,
   "id": "9394e8ac-9bef-4df3-a8c6-e640ccf7e12d",
   "metadata": {},
   "outputs": [
    {
     "data": {
      "text/plain": [
       "2"
      ]
     },
     "execution_count": 42,
     "metadata": {},
     "output_type": "execute_result"
    }
   ],
   "source": [
    "5//2"
   ]
  },
  {
   "cell_type": "code",
   "execution_count": 44,
   "id": "e8f16478-8e89-4fd4-8330-d5d7bc2ec801",
   "metadata": {},
   "outputs": [
    {
     "data": {
      "text/plain": [
       "1"
      ]
     },
     "execution_count": 44,
     "metadata": {},
     "output_type": "execute_result"
    }
   ],
   "source": [
    "5%2"
   ]
  },
  {
   "cell_type": "code",
   "execution_count": 48,
   "id": "41c3e5d1-4d35-4914-aa98-87d7c466ee2c",
   "metadata": {},
   "outputs": [
    {
     "name": "stdout",
     "output_type": "stream",
     "text": [
      "2,4,6,8,10,12,14,16,18,20,"
     ]
    }
   ],
   "source": [
    "contador = 1\n",
    "while contador <= 20:\n",
    "    resto = contador % 2\n",
    "    if resto == 0:\n",
    "        print(contador, end=\",\")\n",
    "    contador = contador + 1"
   ]
  },
  {
   "cell_type": "code",
   "execution_count": null,
   "id": "36f2ac9b-a0b1-4bb0-9388-225a2875b519",
   "metadata": {},
   "outputs": [],
   "source": [
    "contador = 1\n",
    "while contador <= 20: \n",
    "    if contador % 2 == 0:\n",
    "        print(contador, end=\",\")\n",
    "    contador = contador + 1"
   ]
  },
  {
   "cell_type": "code",
   "execution_count": null,
   "id": "e6395664-d0c5-4cbb-aaa6-8f6df8a63f95",
   "metadata": {},
   "outputs": [],
   "source": []
  }
 ],
 "metadata": {
  "kernelspec": {
   "display_name": "Python 3 (ipykernel)",
   "language": "python",
   "name": "python3"
  },
  "language_info": {
   "codemirror_mode": {
    "name": "ipython",
    "version": 3
   },
   "file_extension": ".py",
   "mimetype": "text/x-python",
   "name": "python",
   "nbconvert_exporter": "python",
   "pygments_lexer": "ipython3",
   "version": "3.12.4"
  }
 },
 "nbformat": 4,
 "nbformat_minor": 5
}
