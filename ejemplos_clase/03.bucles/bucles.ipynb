{
 "cells": [
  {
   "cell_type": "markdown",
   "id": "ea07947c-6bbc-4cdf-9cf8-30ee304f265d",
   "metadata": {},
   "source": [
    "# Variables"
   ]
  },
  {
   "cell_type": "code",
   "execution_count": 2,
   "id": "396080f6-76c3-45fe-8903-c5205cee9b9c",
   "metadata": {},
   "outputs": [],
   "source": [
    " numero1 = 23"
   ]
  },
  {
   "cell_type": "code",
   "execution_count": 4,
   "id": "a0c54538-9d17-475a-9bbb-5efcfa47a97a",
   "metadata": {},
   "outputs": [],
   "source": [
    "edad = 18"
   ]
  },
  {
   "cell_type": "code",
   "execution_count": 17,
   "id": "8571658e-df1f-45e3-9c5d-bc647502a22f",
   "metadata": {},
   "outputs": [],
   "source": [
    "temp=22.5# MUY MAL\n",
    "temperatura = 22.5    # MUY BIEN"
   ]
  },
  {
   "cell_type": "code",
   "execution_count": 8,
   "id": "20dd6b3b-733a-4643-997e-9eb3d3893998",
   "metadata": {},
   "outputs": [],
   "source": [
    "nombre = \"Luis López de Miguel\""
   ]
  },
  {
   "cell_type": "code",
   "execution_count": 10,
   "id": "283ba1bb-c653-41e3-9c42-cca3b33bcf1c",
   "metadata": {},
   "outputs": [],
   "source": [
    "dni = \"530292882-T\"    # Es una cadena de caracteres"
   ]
  },
  {
   "cell_type": "code",
   "execution_count": 12,
   "id": "c1e77804-5cb1-4983-aec4-253ab3d05d98",
   "metadata": {},
   "outputs": [],
   "source": [
    "# Mi peso el lunes \n",
    "peso = 84.6"
   ]
  },
  {
   "cell_type": "markdown",
   "id": "50922a24-be85-4464-9406-767850024a08",
   "metadata": {},
   "source": [
    "# Funciones"
   ]
  },
  {
   "cell_type": "markdown",
   "id": "a51b79c5-b242-481e-aaa1-1d8d726cbd23",
   "metadata": {},
   "source": [
    "### Output"
   ]
  },
  {
   "cell_type": "code",
   "execution_count": 20,
   "id": "a9b3b05b-da9e-4fca-9f29-6bbe8ba05500",
   "metadata": {},
   "outputs": [
    {
     "name": "stdout",
     "output_type": "stream",
     "text": [
      "12\n"
     ]
    }
   ],
   "source": [
    "print(12)"
   ]
  },
  {
   "cell_type": "code",
   "execution_count": 22,
   "id": "ad74219c-1627-4989-a60e-adfa17e74ec6",
   "metadata": {},
   "outputs": [
    {
     "name": "stdout",
     "output_type": "stream",
     "text": [
      "Luis\n"
     ]
    }
   ],
   "source": [
    "print(\"Luis\")"
   ]
  },
  {
   "cell_type": "code",
   "execution_count": 24,
   "id": "b8eaaf6f-5eb8-4fb2-8ce0-64cce0f75b16",
   "metadata": {},
   "outputs": [
    {
     "name": "stdout",
     "output_type": "stream",
     "text": [
      "Luis López de Miguel 530292882-T\n"
     ]
    }
   ],
   "source": [
    "print(nombre, dni)"
   ]
  },
  {
   "cell_type": "markdown",
   "id": "f9eb164d-630a-45fb-9b72-fedf7ff4661e",
   "metadata": {},
   "source": [
    "### Input"
   ]
  },
  {
   "cell_type": "code",
   "execution_count": 30,
   "id": "ed544710-0b9a-474c-a348-b7e44e10ee98",
   "metadata": {},
   "outputs": [
    {
     "name": "stdin",
     "output_type": "stream",
     "text": [
      "Dime tu nombre David\n"
     ]
    },
    {
     "name": "stdout",
     "output_type": "stream",
     "text": [
      "Hola David\n"
     ]
    }
   ],
   "source": [
    "nombre = input(\"Dime tu nombre\")\n",
    "print(\"Hola\", nombre)"
   ]
  },
  {
   "cell_type": "markdown",
   "id": "ce05b1f3-0e3b-486b-a722-409d22349465",
   "metadata": {},
   "source": [
    "# Ejemplo de condicional"
   ]
  },
  {
   "cell_type": "code",
   "execution_count": 40,
   "id": "f5a9bb1d-44cc-4d10-b664-b391160600a3",
   "metadata": {},
   "outputs": [
    {
     "name": "stdin",
     "output_type": "stream",
     "text": [
      "Nombre? ds\n"
     ]
    },
    {
     "name": "stdout",
     "output_type": "stream",
     "text": [
      "No tiene permiso\n"
     ]
    }
   ],
   "source": [
    "nombre = input(\"Nombre?\")\n",
    "if nombre == \"David\":\n",
    "    print(\"Bienvenido\", nombre)\n",
    "    print(\"Empieza el juego...\")\n",
    "else:\n",
    "    print(\"No tiene permiso\")"
   ]
  },
  {
   "cell_type": "code",
   "execution_count": null,
   "id": "1c5816e1-7671-4481-95cf-10403a073a51",
   "metadata": {},
   "outputs": [],
   "source": [
    "nombre = input(\"Nombre?\")\n",
    "if nombre == \"David\":\n",
    "    print(\"Bienvenido\", nombre)\n",
    "    print(\"Empieza el juego...\")"
   ]
  },
  {
   "cell_type": "markdown",
   "id": "97c1fbfb-ab63-4a14-80f3-118b00d81d53",
   "metadata": {},
   "source": [
    "# Bucles"
   ]
  },
  {
   "cell_type": "code",
   "execution_count": 43,
   "id": "cc402e69-a45d-48e6-8454-ec83e4a5278c",
   "metadata": {},
   "outputs": [
    {
     "name": "stdout",
     "output_type": "stream",
     "text": [
      "Hola\n",
      "Hola\n",
      "Hola\n",
      "Hola\n",
      "Hola\n"
     ]
    }
   ],
   "source": [
    "print(\"Hola\")\n",
    "print(\"Hola\")\n",
    "print(\"Hola\")\n",
    "print(\"Hola\")\n",
    "print(\"Hola\")"
   ]
  },
  {
   "cell_type": "code",
   "execution_count": 45,
   "id": "a7576dc5-651f-4ec0-a590-366c5bf4ebe1",
   "metadata": {},
   "outputs": [
    {
     "name": "stdout",
     "output_type": "stream",
     "text": [
      "Hola\n",
      "Hola\n",
      "Hola\n",
      "Hola\n",
      "Hola\n"
     ]
    }
   ],
   "source": [
    "contador = 0\n",
    "while contador < 5:\n",
    "    print(\"Hola\")\n",
    "    contador = contador + 1 "
   ]
  },
  {
   "cell_type": "code",
   "execution_count": null,
   "id": "36da06f3-60ae-4205-9211-a0fcc9a2ce7f",
   "metadata": {},
   "outputs": [],
   "source": []
  }
 ],
 "metadata": {
  "kernelspec": {
   "display_name": "Python 3 (ipykernel)",
   "language": "python",
   "name": "python3"
  },
  "language_info": {
   "codemirror_mode": {
    "name": "ipython",
    "version": 3
   },
   "file_extension": ".py",
   "mimetype": "text/x-python",
   "name": "python",
   "nbconvert_exporter": "python",
   "pygments_lexer": "ipython3",
   "version": "3.12.4"
  }
 },
 "nbformat": 4,
 "nbformat_minor": 5
}
