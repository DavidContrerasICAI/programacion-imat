{
 "cells": [
  {
   "cell_type": "code",
   "execution_count": 7,
   "id": "a84f1ccc-cf16-4fd9-b911-a144c434bd19",
   "metadata": {},
   "outputs": [
    {
     "name": "stdout",
     "output_type": "stream",
     "text": [
      "C\\navarra alias \"pamplona\"\n"
     ]
    }
   ],
   "source": [
    "direccion = \"C\\\\navarra alias \\\"pamplona\\\"\"\n",
    "print(direccion)"
   ]
  },
  {
   "cell_type": "code",
   "execution_count": 9,
   "id": "8eb9a6f3-cb50-49c4-8deb-67ac644ca473",
   "metadata": {},
   "outputs": [
    {
     "name": "stdout",
     "output_type": "stream",
     "text": [
      "a\n",
      "b\n",
      "c\tg\n"
     ]
    }
   ],
   "source": [
    "s = \"a\\nb\\nc\\tg\"\n",
    "print(s)"
   ]
  },
  {
   "cell_type": "code",
   "execution_count": 12,
   "id": "1a43df56-b7a5-48a1-aa7e-12675ea12e0d",
   "metadata": {},
   "outputs": [
    {
     "name": "stdout",
     "output_type": "stream",
     "text": [
      "*\n"
     ]
    }
   ],
   "source": [
    "s = \"*\"\n",
    "print(s)"
   ]
  },
  {
   "cell_type": "code",
   "execution_count": 14,
   "id": "218da5ec-1d52-40d8-a45f-525f149cb19a",
   "metadata": {},
   "outputs": [
    {
     "name": "stdout",
     "output_type": "stream",
     "text": [
      "***\n"
     ]
    }
   ],
   "source": [
    "print(s + s + s)"
   ]
  },
  {
   "cell_type": "code",
   "execution_count": 18,
   "id": "4b1c3cd7-5059-4d04-8ca4-151bd2a7ce96",
   "metadata": {},
   "outputs": [
    {
     "name": "stdout",
     "output_type": "stream",
     "text": [
      "ABC#\n"
     ]
    }
   ],
   "source": [
    "s = \"ABC\"\n",
    "s = s + \"#\"\n",
    "print(s)"
   ]
  },
  {
   "cell_type": "code",
   "execution_count": 20,
   "id": "db74c8ef-7aa8-4470-a58d-58b828189752",
   "metadata": {},
   "outputs": [
    {
     "name": "stdout",
     "output_type": "stream",
     "text": [
      "#####"
     ]
    }
   ],
   "source": [
    "i = 0\n",
    "while i < 5:\n",
    "    print(\"#\", end=\"\")\n",
    "    i += 1"
   ]
  },
  {
   "cell_type": "code",
   "execution_count": 22,
   "id": "30c85189-7c21-474b-9431-66849e1ee4af",
   "metadata": {},
   "outputs": [
    {
     "name": "stdout",
     "output_type": "stream",
     "text": [
      "#####\n"
     ]
    }
   ],
   "source": [
    "serpiente = \"\"\n",
    "i = 0\n",
    "while i < 5:\n",
    "    serpiente += \"#\"\n",
    "    #serpiente = serpiente + \"#\"\n",
    "    i += 1\n",
    "print(serpiente)"
   ]
  },
  {
   "cell_type": "code",
   "execution_count": 25,
   "id": "a0ecffaa-4ef3-4faf-bbfe-ba9cd61f0cfc",
   "metadata": {},
   "outputs": [
    {
     "data": {
      "text/plain": [
       "False"
      ]
     },
     "execution_count": 25,
     "metadata": {},
     "output_type": "execute_result"
    }
   ],
   "source": [
    "12 > 34"
   ]
  },
  {
   "cell_type": "code",
   "execution_count": 27,
   "id": "9f01667c-c003-4535-81f8-b52289394025",
   "metadata": {},
   "outputs": [
    {
     "data": {
      "text/plain": [
       "True"
      ]
     },
     "execution_count": 27,
     "metadata": {},
     "output_type": "execute_result"
    }
   ],
   "source": [
    "\"a\" > \"A\""
   ]
  },
  {
   "cell_type": "code",
   "execution_count": 29,
   "id": "0dd4620e-a9d2-433a-994e-b2860df5aee4",
   "metadata": {},
   "outputs": [
    {
     "data": {
      "text/plain": [
       "97"
      ]
     },
     "execution_count": 29,
     "metadata": {},
     "output_type": "execute_result"
    }
   ],
   "source": [
    "ord(\"a\")"
   ]
  },
  {
   "cell_type": "code",
   "execution_count": 32,
   "id": "afd08b9e-532b-48fa-b681-d9a9d5513071",
   "metadata": {},
   "outputs": [
    {
     "ename": "TypeError",
     "evalue": "can only concatenate str (not \"int\") to str",
     "output_type": "error",
     "traceback": [
      "\u001b[1;31m------------------------------------------------------------------------\u001b[0m",
      "\u001b[1;31mTypeError\u001b[0m                              Traceback (most recent call last)",
      "Cell \u001b[1;32mIn[32], line 1\u001b[0m\n\u001b[1;32m----> 1\u001b[0m persona \u001b[38;5;241m=\u001b[39m \u001b[38;5;124m\"\u001b[39m\u001b[38;5;124mLuis\u001b[39m\u001b[38;5;124m\"\u001b[39m \u001b[38;5;241m+\u001b[39m \u001b[38;5;124m\"\u001b[39m\u001b[38;5;124m(\u001b[39m\u001b[38;5;124m\"\u001b[39m \u001b[38;5;241m+\u001b[39m \u001b[38;5;241m22\u001b[39m \u001b[38;5;241m+\u001b[39m \u001b[38;5;124m\"\u001b[39m\u001b[38;5;124m)\u001b[39m\u001b[38;5;124m\"\u001b[39m\n\u001b[0;32m      2\u001b[0m \u001b[38;5;28mprint\u001b[39m(persona)\n",
      "\u001b[1;31mTypeError\u001b[0m: can only concatenate str (not \"int\") to str"
     ]
    }
   ],
   "source": [
    "persona = \"Luis\" + \"(\" + 22 + \")\"\n",
    "print(persona)"
   ]
  },
  {
   "cell_type": "code",
   "execution_count": 34,
   "id": "817fe17c-edcb-40dd-9c1c-978e3ee500e1",
   "metadata": {},
   "outputs": [
    {
     "name": "stdout",
     "output_type": "stream",
     "text": [
      "Luis(22)\n"
     ]
    }
   ],
   "source": [
    "persona = \"Luis\" + \"(\" + str(22) + \")\"\n",
    "print(persona)"
   ]
  },
  {
   "cell_type": "code",
   "execution_count": 36,
   "id": "e0f279fa-62e7-4c4e-9616-12abc6a5595b",
   "metadata": {},
   "outputs": [
    {
     "name": "stdout",
     "output_type": "stream",
     "text": [
      "12\n"
     ]
    }
   ],
   "source": [
    "print(\"1\" + \"2\")"
   ]
  },
  {
   "cell_type": "code",
   "execution_count": 38,
   "id": "158d3900-6ce7-4f34-9925-dd96811091bd",
   "metadata": {},
   "outputs": [
    {
     "name": "stdout",
     "output_type": "stream",
     "text": [
      "3\n"
     ]
    }
   ],
   "source": [
    "print(1 + 2)"
   ]
  },
  {
   "cell_type": "code",
   "execution_count": 51,
   "id": "7459410e-8a58-43da-9300-7f7c16b30212",
   "metadata": {},
   "outputs": [],
   "source": [
    "nombre = \"Luis\"\n",
    "edad = 22"
   ]
  },
  {
   "cell_type": "code",
   "execution_count": 57,
   "id": "9af93fa4-a620-4951-a9a0-73a338bd97b0",
   "metadata": {},
   "outputs": [
    {
     "name": "stdout",
     "output_type": "stream",
     "text": [
      "Luis con la edad de 22 años y tiene estos apellidos\n"
     ]
    }
   ],
   "source": [
    "print(nombre + \" con la edad de \" + str(edad) + \" años y tiene estos apellidos\")"
   ]
  },
  {
   "cell_type": "code",
   "execution_count": 61,
   "id": "42e98846-d783-4ebe-8fff-0b97e9f02091",
   "metadata": {},
   "outputs": [
    {
     "name": "stdout",
     "output_type": "stream",
     "text": [
      "Luis con la edad de 22 años y tiene estos apellidos\n"
     ]
    }
   ],
   "source": [
    "salida = nombre + \" con la edad de \" + str(edad) + \" años y tiene estos apellidos\"\n",
    "print(salida)"
   ]
  },
  {
   "cell_type": "code",
   "execution_count": 59,
   "id": "d3df7f13-5ab0-40ba-9198-ad29980dab52",
   "metadata": {},
   "outputs": [
    {
     "name": "stdout",
     "output_type": "stream",
     "text": [
      "Luis  con la edad de  22  años y tiene estos apellidos\n"
     ]
    }
   ],
   "source": [
    "print(nombre, \" con la edad de \", edad, \" años y tiene estos apellidos\")"
   ]
  },
  {
   "cell_type": "code",
   "execution_count": 55,
   "id": "0773cb95-9b60-4332-8e97-6a3871ffe13f",
   "metadata": {},
   "outputs": [
    {
     "name": "stdout",
     "output_type": "stream",
     "text": [
      "Luis con la edad de 22 años y tiene estos apellidos\n"
     ]
    }
   ],
   "source": [
    "print(f\"{nombre} con la edad de {edad} años y tiene estos apellidos\")"
   ]
  },
  {
   "cell_type": "code",
   "execution_count": 64,
   "id": "3b5dabdb-0957-4eca-b371-db7deff572f9",
   "metadata": {},
   "outputs": [],
   "source": [
    "numero = 1_000_000"
   ]
  },
  {
   "cell_type": "code",
   "execution_count": 179,
   "id": "1b5b5ade-b72e-465c-8955-602da1e76bb6",
   "metadata": {},
   "outputs": [
    {
     "name": "stdout",
     "output_type": "stream",
     "text": [
      "L\n",
      "s\n"
     ]
    }
   ],
   "source": [
    "nombre = \"Luis\"\n",
    "print(nombre[0])\n",
    "print(nombre[3])"
   ]
  },
  {
   "cell_type": "code",
   "execution_count": 181,
   "id": "a1771cf1-779c-4aac-9389-39613917001c",
   "metadata": {},
   "outputs": [
    {
     "ename": "IndexError",
     "evalue": "string index out of range",
     "output_type": "error",
     "traceback": [
      "\u001b[1;31m---------------------------------------------------------------------------\u001b[0m",
      "\u001b[1;31mIndexError\u001b[0m                                Traceback (most recent call last)",
      "Cell \u001b[1;32mIn[181], line 1\u001b[0m\n\u001b[1;32m----> 1\u001b[0m \u001b[38;5;28mprint\u001b[39m(nombre[\u001b[38;5;241m5\u001b[39m])\n",
      "\u001b[1;31mIndexError\u001b[0m: string index out of range"
     ]
    }
   ],
   "source": [
    "print(nombre[5])"
   ]
  },
  {
   "cell_type": "code",
   "execution_count": 79,
   "id": "79956369-13ce-4a2c-8f70-96e425f97d3b",
   "metadata": {},
   "outputs": [
    {
     "name": "stdout",
     "output_type": "stream",
     "text": [
      "L\n",
      "u\n",
      "i\n",
      "s\n"
     ]
    }
   ],
   "source": [
    "nombre = \"Luis\"\n",
    "SIZE = 4\n",
    "i = 0\n",
    "while i < SIZE:\n",
    "    print(nombre[i])\n",
    "    i += 1"
   ]
  },
  {
   "cell_type": "code",
   "execution_count": 81,
   "id": "f16e2df3-e9b4-4c3e-9cda-4e2e2031ac57",
   "metadata": {},
   "outputs": [
    {
     "name": "stdout",
     "output_type": "stream",
     "text": [
      "A\n",
      "n\n",
      "a\n"
     ]
    },
    {
     "ename": "IndexError",
     "evalue": "string index out of range",
     "output_type": "error",
     "traceback": [
      "\u001b[1;31m------------------------------------------------------------------------\u001b[0m",
      "\u001b[1;31mIndexError\u001b[0m                             Traceback (most recent call last)",
      "Cell \u001b[1;32mIn[81], line 5\u001b[0m\n\u001b[0;32m      3\u001b[0m i \u001b[38;5;241m=\u001b[39m \u001b[38;5;241m0\u001b[39m\n\u001b[0;32m      4\u001b[0m \u001b[38;5;28;01mwhile\u001b[39;00m i \u001b[38;5;241m<\u001b[39m SIZE:\n\u001b[1;32m----> 5\u001b[0m     \u001b[38;5;28mprint\u001b[39m(nombre[i])\n\u001b[0;32m      6\u001b[0m     i \u001b[38;5;241m+\u001b[39m\u001b[38;5;241m=\u001b[39m \u001b[38;5;241m1\u001b[39m\n",
      "\u001b[1;31mIndexError\u001b[0m: string index out of range"
     ]
    }
   ],
   "source": [
    "nombre = \"Ana\"\n",
    "SIZE = 4\n",
    "i = 0\n",
    "while i < SIZE:\n",
    "    print(nombre[i])\n",
    "    i += 1"
   ]
  },
  {
   "cell_type": "code",
   "execution_count": 113,
   "id": "20dfd18f-66fb-468a-9fe4-e68e39149f12",
   "metadata": {},
   "outputs": [
    {
     "name": "stdout",
     "output_type": "stream",
     "text": [
      "FVEU\n",
      "DOUO\n",
      "MLYN\n",
      "NKRN\n",
      "VHAR\n"
     ]
    }
   ],
   "source": [
    "import random\n",
    "NOMBRES_MAX = 5\n",
    "numero_nombre = 0\n",
    "while numero_nombre < NOMBRES_MAX:\n",
    "    nombre = \"\"\n",
    "    i = 0\n",
    "    while i < 4:\n",
    "        n = random.randint(65, 90)\n",
    "        nombre = nombre + chr(n)\n",
    "        i += 1\n",
    "    print(nombre)\n",
    "    numero_nombre += 1"
   ]
  },
  {
   "cell_type": "code",
   "execution_count": 89,
   "id": "0bde31ba-956b-4582-b854-952350a7d666",
   "metadata": {},
   "outputs": [
    {
     "name": "stdout",
     "output_type": "stream",
     "text": [
      "Posición 1: M\n",
      "Posición 2: a\n",
      "Posición 3: t\n",
      "Posición 4: e\n",
      "Posición 5: o\n"
     ]
    }
   ],
   "source": [
    "nombre = \"Mateo\"\n",
    "i = 0\n",
    "while i < len(nombre):\n",
    "    print(f\"Posición {i+1}: {nombre[i]}\")\n",
    "    i += 1"
   ]
  },
  {
   "cell_type": "code",
   "execution_count": 167,
   "id": "7b740f61-35ab-4cf3-8a18-c0fd25d647ac",
   "metadata": {},
   "outputs": [
    {
     "name": "stdout",
     "output_type": "stream",
     "text": [
      "25 \u0019\t26 \u001a\t27 \u001b\t28 \u001c",
      "\t29 \u001d",
      "\t30 \u001e",
      "\t31 \u001f\t32  \t33 !\t34 \"\t35 #\t36 $\t37 %\t38 &\t39 '\t40 (\t41 )\t42 *\t43 +\t44 ,\t45 -\t46 .\t47 /\t48 0\t49 1\t50 2\t51 3\t52 4\t53 5\t54 6\t55 7\t56 8\t57 9\t58 :\t59 ;\t60 <\t61 =\t62 >\t63 ?\t64 @\t65 A\t66 B\t67 C\t68 D\t69 E\t70 F\t71 G\t72 H\t73 I\t74 J\t75 K\t76 L\t77 M\t78 N\t79 O\t80 P\t81 Q\t82 R\t83 S\t84 T\t85 U\t86 V\t87 W\t88 X\t89 Y\t90 Z\t91 [\t92 \\\t93 ]\t94 ^\t95 _\t96 `\t97 a\t98 b\t99 c\t100 d\t101 e\t102 f\t103 g\t104 h\t105 i\t106 j\t107 k\t108 l\t109 m\t110 n\t111 o\t112 p\t113 q\t114 r\t115 s\t116 t\t117 u\t118 v\t119 w\t120 x\t121 y\t122 z\t"
     ]
    }
   ],
   "source": [
    "i = 25\n",
    "while i < 123:\n",
    "    print(i, chr(i), end = \"\\t\")\n",
    "    i += 1"
   ]
  },
  {
   "cell_type": "code",
   "execution_count": 177,
   "id": "6b5cdc93-d7e6-47f6-b33d-e86b03cac193",
   "metadata": {},
   "outputs": [
    {
     "name": "stdout",
     "output_type": "stream",
     "text": [
      "65 A->a 66 B->b 67 C->c 68 D->d 69 E->e 70 F->f 71 G->g 72 H->h 73 I->i 74 J->j 75 K->k 76 L->l 77 M->m 78 N->n 79 O->o 80 P->p 81 Q->q 82 R->r 83 S->s 84 T->t 85 U->u 86 V->v 87 W->w 88 X->x 89 Y->y 90 Z->z "
     ]
    }
   ],
   "source": [
    "i = 65\n",
    "while i < 91:\n",
    "    print(f\"{i} {chr(i)}->{chr(i+32)}\", end = \" \")\n",
    "    i += 1"
   ]
  },
  {
   "cell_type": "code",
   "execution_count": 117,
   "id": "38f5bf3f-c1a2-4e02-86ec-d92bd11f8b56",
   "metadata": {},
   "outputs": [
    {
     "name": "stdout",
     "output_type": "stream",
     "text": [
      "oebacaM"
     ]
    }
   ],
   "source": [
    "nombre = \"Macabeo\"\n",
    "i = len(nombre)-1\n",
    "while i >= 0:\n",
    "    print(nombre[i], end=\"\")\n",
    "    i -= 1"
   ]
  },
  {
   "cell_type": "code",
   "execution_count": 123,
   "id": "733cd151-b4d2-40da-8b18-9bfd8473fa2e",
   "metadata": {},
   "outputs": [
    {
     "name": "stdout",
     "output_type": "stream",
     "text": [
      "oebacaM\n"
     ]
    }
   ],
   "source": [
    "nombre = \"Macabeo\"\n",
    "nombre_invertido = \"\"\n",
    "i = len(nombre)-1\n",
    "while i >= 0:\n",
    "    nombre_invertido += nombre[i]\n",
    "    i -= 1\n",
    "print(nombre_invertido)"
   ]
  },
  {
   "cell_type": "code",
   "execution_count": null,
   "id": "e6d7cfc7-ce3e-474e-ab68-8e697f6ca708",
   "metadata": {},
   "outputs": [],
   "source": [
    "i = 0\n",
    "while i < 100:\n",
    "    print(i, chr(i))\n",
    "    i += 1"
   ]
  },
  {
   "cell_type": "code",
   "execution_count": 139,
   "id": "9e92c8c0-6150-4085-ad7f-739c2354ff44",
   "metadata": {},
   "outputs": [
    {
     "name": "stdout",
     "output_type": "stream",
     "text": [
      "AnA contiene una A\n"
     ]
    }
   ],
   "source": [
    "nombre = \"AnA\"\n",
    "encontrado = False\n",
    "i = 0\n",
    "while i < len(nombre) and not encontrado:\n",
    "    if nombre[i] == \"a\" or nombre[i] == \"A\":\n",
    "       encontrado = True\n",
    "    i += 1\n",
    "\n",
    "if encontrado:\n",
    "    print(f\"{nombre} contiene una A\")\n",
    "else:\n",
    "    print(f\"{nombre} NO contiene una A\")"
   ]
  },
  {
   "cell_type": "code",
   "execution_count": 143,
   "id": "c59776c5-87a6-4f2d-b5e3-3fbdd8e26f7e",
   "metadata": {},
   "outputs": [
    {
     "name": "stdout",
     "output_type": "stream",
     "text": [
      "AnA contiene una A\n"
     ]
    }
   ],
   "source": [
    "nombre = \"AnA\"\n",
    "encontrado = False\n",
    "i = 0\n",
    "while i < len(nombre) and not encontrado:\n",
    "    if nombre[i] == \"a\" or nombre[i] == \"A\":\n",
    "       encontrado = True\n",
    "    i += 1\n",
    "    \n",
    "print(nombre, end=\"\")\n",
    "# if encontrado == False:\n",
    "if not encontrado:    \n",
    "    print(\" NO\", end=\"\")\n",
    "print(\" contiene una A\")"
   ]
  },
  {
   "cell_type": "code",
   "execution_count": 157,
   "id": "3b4d10d0-8c9f-4d06-a09e-f86f0f25f0fd",
   "metadata": {},
   "outputs": [
    {
     "name": "stdout",
     "output_type": "stream",
     "text": [
      "Nombre: ANA Goles: 3\n",
      "Nombre: MIG Goles: 2\n",
      "Nombre: DAV Goles: 1\n"
     ]
    }
   ],
   "source": [
    "s = \"ANA3MIG2DAV1\"\n",
    "i = 0\n",
    "while i < len(s):\n",
    "    print(\"Nombre:\", s[i] + s[i+1] + s[i+2], end= \" \")\n",
    "    print(\"Goles:\", s[i+3])\n",
    "    i += 4"
   ]
  },
  {
   "cell_type": "code",
   "execution_count": null,
   "id": "96c53d24-6616-4ceb-a2ab-8d024403f651",
   "metadata": {},
   "outputs": [],
   "source": []
  }
 ],
 "metadata": {
  "kernelspec": {
   "display_name": "Python 3 (ipykernel)",
   "language": "python",
   "name": "python3"
  },
  "language_info": {
   "codemirror_mode": {
    "name": "ipython",
    "version": 3
   },
   "file_extension": ".py",
   "mimetype": "text/x-python",
   "name": "python",
   "nbconvert_exporter": "python",
   "pygments_lexer": "ipython3",
   "version": "3.12.4"
  }
 },
 "nbformat": 4,
 "nbformat_minor": 5
}
