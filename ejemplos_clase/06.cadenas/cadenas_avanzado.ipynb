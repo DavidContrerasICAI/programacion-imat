{
 "cells": [
  {
   "cell_type": "markdown",
   "id": "cb1622f5-c371-43db-a442-1e858f347e7f",
   "metadata": {},
   "source": [
    "Definición de una cadena"
   ]
  },
  {
   "cell_type": "code",
   "execution_count": 129,
   "id": "434fd716-b79e-4883-9b9b-d7037da53634",
   "metadata": {},
   "outputs": [],
   "source": [
    "matricula = \"1234ABC\""
   ]
  },
  {
   "cell_type": "code",
   "execution_count": 131,
   "id": "d5c96ba6-b4eb-4422-a50b-704848af51c8",
   "metadata": {},
   "outputs": [
    {
     "data": {
      "text/plain": [
       "'1'"
      ]
     },
     "execution_count": 131,
     "metadata": {},
     "output_type": "execute_result"
    }
   ],
   "source": [
    "matricula[0]"
   ]
  },
  {
   "cell_type": "markdown",
   "id": "5b1eb7ce-c3cb-4663-afb3-c993138f3525",
   "metadata": {},
   "source": [
    "Los string son inmutables"
   ]
  },
  {
   "cell_type": "code",
   "execution_count": 66,
   "id": "bd686541-17ee-411a-9547-911104bf41ab",
   "metadata": {},
   "outputs": [
    {
     "ename": "TypeError",
     "evalue": "'str' object does not support item assignment",
     "output_type": "error",
     "traceback": [
      "\u001b[1;31m---------------------------------------------------------------------------\u001b[0m",
      "\u001b[1;31mTypeError\u001b[0m                                 Traceback (most recent call last)",
      "Cell \u001b[1;32mIn[66], line 1\u001b[0m\n\u001b[1;32m----> 1\u001b[0m matricula[\u001b[38;5;241m0\u001b[39m] \u001b[38;5;241m=\u001b[39m \u001b[38;5;124m\"\u001b[39m\u001b[38;5;124m9\u001b[39m\u001b[38;5;124m\"\u001b[39m\n",
      "\u001b[1;31mTypeError\u001b[0m: 'str' object does not support item assignment"
     ]
    }
   ],
   "source": [
    "matricula[0] = \"9\""
   ]
  },
  {
   "cell_type": "markdown",
   "id": "6e2f418f-2fce-4b6f-81db-8e670e90e80e",
   "metadata": {},
   "source": [
    "### Concatenación de caracteres\n",
    "Mejor que printear"
   ]
  },
  {
   "cell_type": "code",
   "execution_count": 137,
   "id": "cdcf0545-41c3-445b-9949-08f0c9c4c04c",
   "metadata": {},
   "outputs": [],
   "source": [
    "matricula = \"9\" + \"1234ABC\""
   ]
  },
  {
   "cell_type": "code",
   "execution_count": 139,
   "id": "2fcd75d1-b33b-4536-87d4-c76a2df9842d",
   "metadata": {},
   "outputs": [
    {
     "data": {
      "text/plain": [
       "'91234ABC'"
      ]
     },
     "execution_count": 139,
     "metadata": {},
     "output_type": "execute_result"
    }
   ],
   "source": [
    "matricula"
   ]
  },
  {
   "cell_type": "markdown",
   "id": "7a969604-0b66-47dd-a056-d31463e02410",
   "metadata": {},
   "source": [
    "### Subcadenas"
   ]
  },
  {
   "cell_type": "code",
   "execution_count": 88,
   "id": "01a1e3e2-2053-4afb-9512-d7359af55713",
   "metadata": {},
   "outputs": [
    {
     "name": "stdout",
     "output_type": "stream",
     "text": [
      "234ABC"
     ]
    }
   ],
   "source": [
    "matricula = \"1234ABC\"\n",
    "i = 1\n",
    "while i < len(matricula):\n",
    "    print(matricula[i], end=\"\")\n",
    "    i += 1"
   ]
  },
  {
   "cell_type": "markdown",
   "id": "8b532f0a-e9d9-4e3f-8c2a-a9a4069c4f41",
   "metadata": {},
   "source": [
    "Concatenación con slicing - **NO ENTRA Y NO SE PODRÁ UTILIZAR EN EL EXAMEN**"
   ]
  },
  {
   "cell_type": "code",
   "execution_count": 84,
   "id": "9521dcaa-c02b-47ec-b070-56ac3cab82fe",
   "metadata": {},
   "outputs": [],
   "source": [
    "matricula = \"9\" + matricula[1:]"
   ]
  },
  {
   "cell_type": "code",
   "execution_count": 86,
   "id": "a9326e2a-539a-4bcb-b21d-3a477af8198d",
   "metadata": {},
   "outputs": [
    {
     "data": {
      "text/plain": [
       "'9234ABC'"
      ]
     },
     "execution_count": 86,
     "metadata": {},
     "output_type": "execute_result"
    }
   ],
   "source": [
    "matricula"
   ]
  },
  {
   "cell_type": "markdown",
   "id": "79d8755e-3726-43ab-aa0e-aa3b741fec32",
   "metadata": {},
   "source": [
    "Reemplazo en la primera posición"
   ]
  },
  {
   "cell_type": "code",
   "execution_count": 90,
   "id": "20647ed3-b96f-4f9c-8ffc-885d8588ff01",
   "metadata": {},
   "outputs": [
    {
     "name": "stdout",
     "output_type": "stream",
     "text": [
      "9234ABC\n"
     ]
    }
   ],
   "source": [
    "matricula = \"1234ABC\"\n",
    "#matricula_new = \"\"\n",
    "matricula_new = \"9\"\n",
    "i = 1\n",
    "while i < len(matricula):\n",
    "    #print(matricula[i], end=\"\")\n",
    "    matricula_new += matricula[i]\n",
    "    i += 1\n",
    "matricula = matricula_new\n",
    "print(matricula)"
   ]
  },
  {
   "cell_type": "markdown",
   "id": "a4f5e791-6258-452c-962c-56338f8b06f7",
   "metadata": {},
   "source": [
    "Reemplazo en cualquier posición"
   ]
  },
  {
   "cell_type": "code",
   "execution_count": 96,
   "id": "df246bb1-c504-469f-a7d8-4a89cdf04931",
   "metadata": {},
   "outputs": [
    {
     "name": "stdout",
     "output_type": "stream",
     "text": [
      "1239ABC\n"
     ]
    }
   ],
   "source": [
    "matricula = \"1234ABC\"\n",
    "           # 0123456\n",
    "posicion = 3\n",
    "caracter_new = \"9\"\n",
    "matricula_new = \"\"\n",
    "i = 0\n",
    "while i < len(matricula):\n",
    "    if i != posicion:\n",
    "        matricula_new += matricula[i]\n",
    "    else:\n",
    "        matricula_new += caracter_new\n",
    "    i += 1\n",
    "matricula = matricula_new\n",
    "print(matricula)"
   ]
  },
  {
   "cell_type": "markdown",
   "id": "cc9d142c-5555-45d4-b681-1020266c290c",
   "metadata": {},
   "source": [
    "### Filtrado por tipo"
   ]
  },
  {
   "cell_type": "code",
   "execution_count": 115,
   "id": "ed7fdf91-9462-4ef7-a6fc-fccc03a16a50",
   "metadata": {},
   "outputs": [
    {
     "name": "stdout",
     "output_type": "stream",
     "text": [
      "667886786\n"
     ]
    }
   ],
   "source": [
    "cadena = \"a6s6ssgdjgsd7886786fdsfsd\"\n",
    "           # 0123456\n",
    "numero = \"\"\n",
    "i = 0\n",
    "while i < len(cadena):\n",
    "    letra = cadena[i]\n",
    "    if ord(letra) >= ord(\"0\") and ord(letra) <= ord(\"9\"):\n",
    "        numero += letra\n",
    "    i += 1\n",
    "print(numero)"
   ]
  },
  {
   "cell_type": "markdown",
   "id": "e7062d09-53ab-45b3-85a8-fa04a4493104",
   "metadata": {},
   "source": [
    "### Cálculo de frecuencia de caracteres"
   ]
  },
  {
   "cell_type": "code",
   "execution_count": 159,
   "id": "d4b2ddbd-ab3d-49ea-a27f-849e0ff4aac1",
   "metadata": {},
   "outputs": [
    {
     "name": "stdout",
     "output_type": "stream",
     "text": [
      "a:5\n",
      "b:6\n",
      "c:3\n",
      "\n",
      "a5b6c3\n"
     ]
    }
   ],
   "source": [
    "resultado = \"\"\n",
    "cadena = \"aabbcbcbcbbaaa\"\n",
    "i = 0\n",
    "while i < len(cadena):\n",
    "    letra = cadena[i]\n",
    "    # Identificación de repeticiones de letras\n",
    "    encontrado = False\n",
    "    j = 0\n",
    "    while j < len(resultado):\n",
    "        if letra == resultado[j]:\n",
    "            encontrado = True\n",
    "        j += 1\n",
    "    # Inserción en la vble resultado\n",
    "    if not encontrado:\n",
    "        cuenta = 0\n",
    "        j = 0\n",
    "        while j < len(cadena):\n",
    "            if letra == cadena[j]:\n",
    "                cuenta += 1\n",
    "            j += 1\n",
    "        print(f\"{letra}:{cuenta}\")\n",
    "        resultado += letra + str(cuenta)\n",
    "    i += 1\n",
    "\n",
    "print()\n",
    "print(resultado)   # Esto es lo que se guarda en la vble resultado. No alamceno repetidos"
   ]
  },
  {
   "cell_type": "markdown",
   "id": "beddef23-7444-4d17-ba8e-32db40c8475a",
   "metadata": {},
   "source": [
    "### Ordenación\n",
    "La ordenación es una tarea compleja, pero veamos un ejemplo.\n",
    "\n",
    "#### Primero tenemos que entender cómo se ordenan los números"
   ]
  },
  {
   "cell_type": "code",
   "execution_count": 297,
   "id": "71618368-2d35-487d-9cf3-77c6af43db4b",
   "metadata": {},
   "outputs": [
    {
     "name": "stdout",
     "output_type": "stream",
     "text": [
      "Input: 152639\n",
      "Output 123569\n"
     ]
    }
   ],
   "source": [
    "resultado = \"152639\"\n",
    "resultado_sorted = \"\"\n",
    "\n",
    "i = 0\n",
    "while i < len(resultado):\n",
    "    menor = False\n",
    "    j = 0\n",
    "    while j < len(resultado_sorted) and not menor:\n",
    "        letra_i = int(resultado[i])\n",
    "        letra_j = int(resultado_sorted[j])\n",
    "        if letra_i < letra_j:\n",
    "            menor = True\n",
    "            j -= 1    # Rectificamos la salida del bucle\n",
    "        j += 1\n",
    "    # Utilizando slicing, insertamos el nuevo valor en el lugar correcto\n",
    "    resultado_sorted = resultado_sorted[:j] + resultado[i] + resultado_sorted[j:]\n",
    "    i += 1\n",
    "    \n",
    "print(\"Input:\", resultado)\n",
    "print(\"Output\", resultado_sorted)"
   ]
  },
  {
   "cell_type": "markdown",
   "id": "7803864a-8c3c-4c4f-be18-4615bf24b2cf",
   "metadata": {},
   "source": [
    "#### Ahora ordenamos por parejas, partiendo de los índices impares"
   ]
  },
  {
   "cell_type": "code",
   "execution_count": 299,
   "id": "dc2ce513-2f60-4f66-9af8-31e21d1125ad",
   "metadata": {},
   "outputs": [
    {
     "name": "stdout",
     "output_type": "stream",
     "text": [
      "Input: a1b5c2d6e3f9\n",
      "Output a1c2e3b5d6f9\n"
     ]
    }
   ],
   "source": [
    "resultado = \"a1b5c2d6e3f9\"\n",
    "resultado_sorted = \"\"\n",
    "\n",
    "i = 1    # Empezamos por los números\n",
    "while i < len(resultado):\n",
    "    menor = False\n",
    "    j = 1\n",
    "    while j < len(resultado_sorted) and not menor:\n",
    "        letra_i = int(resultado[i])\n",
    "        letra_j = int(resultado_sorted[j])\n",
    "        if letra_i < letra_j:\n",
    "            menor = True\n",
    "            j -= 3    # Rectificamos la salida del bucle\n",
    "        j += 2    # Saltamos de 2 en 2\n",
    "    # Utilizando slicing, insertamos el nuevo valor en el lugar correcto\n",
    "    resultado_sorted = resultado_sorted[:j] + resultado[i-1] + resultado[i] + resultado_sorted[j:]\n",
    "    i += 2    # Saltamos de 2 en 2\n",
    "    \n",
    "print(\"Input:\", resultado)\n",
    "print(\"Output\", resultado_sorted)"
   ]
  },
  {
   "cell_type": "code",
   "execution_count": null,
   "id": "df5ee119-4aca-475d-b337-6c586d93d263",
   "metadata": {},
   "outputs": [],
   "source": []
  }
 ],
 "metadata": {
  "kernelspec": {
   "display_name": "Python 3 (ipykernel)",
   "language": "python",
   "name": "python3"
  },
  "language_info": {
   "codemirror_mode": {
    "name": "ipython",
    "version": 3
   },
   "file_extension": ".py",
   "mimetype": "text/x-python",
   "name": "python",
   "nbconvert_exporter": "python",
   "pygments_lexer": "ipython3",
   "version": "3.12.4"
  }
 },
 "nbformat": 4,
 "nbformat_minor": 5
}
