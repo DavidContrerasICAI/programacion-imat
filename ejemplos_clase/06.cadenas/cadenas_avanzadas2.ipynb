{
 "cells": [
  {
   "cell_type": "code",
   "execution_count": 98,
   "id": "57188248-15aa-41b0-abbd-6910f8f7a083",
   "metadata": {},
   "outputs": [
    {
     "name": "stdout",
     "output_type": "stream",
     "text": [
      "\u001b[1;42m A \u001b[0m \u001b[0;41m M \u001b[0m \u001b[1;43m O \u001b[0m \u001b[1;43m R \u001b[0m \u001b[1;43m A \u001b[0m "
     ]
    }
   ],
   "source": [
    "GRIS = \"\\033[1;47m\"\n",
    "VERDE = \"\\033[1;42m\"\n",
    "AMARILLO = \"\\033[1;43m\"\n",
    "DEFECTO = \"\\033[0m\"\n",
    "ROJO = \"\\033[0;41m\"\n",
    "\n",
    "palabra_objetivo = \"ARBOL\"\n",
    "palabra_usuario =  \"AMORA\"\n",
    "  #   01234\n",
    "\n",
    "i = 0\n",
    "while i < len(palabra_usuario):\n",
    "    #letra_usuario = palabra_usuario[i]\n",
    "    if palabra_objetivo[i] == palabra_usuario[i]:\n",
    "        print(VERDE, palabra_usuario[i], DEFECTO, \"\", end =\"\")\n",
    "    else:\n",
    "        amarillo = False\n",
    "        j = 0\n",
    "        while j < len(palabra_objetivo):\n",
    "            if palabra_usuario[i] == palabra_objetivo[j]:\n",
    "                amarillo = True\n",
    "            j += 1\n",
    "\n",
    "        if amarillo == True:\n",
    "            print(AMARILLO, palabra_usuario[i], DEFECTO, \"\",end =\"\")\n",
    "        else:\n",
    "            print(ROJO, palabra_usuario[i], DEFECTO, \"\",end =\"\")\n",
    "\n",
    "        \n",
    "    i += 1"
   ]
  },
  {
   "cell_type": "code",
   "execution_count": 60,
   "id": "cc732314-8aa2-44ac-9ebc-4638467a427e",
   "metadata": {},
   "outputs": [
    {
     "name": "stdout",
     "output_type": "stream",
     "text": [
      "a6c9b5\n"
     ]
    }
   ],
   "source": [
    "s = \"aacccccabccccbbababa\"\n",
    "final = \"\"\n",
    "i = 0\n",
    "while i < len(s):\n",
    "    existe = False\n",
    "    j = 0\n",
    "    while j < len(final):\n",
    "        if s[i] == final[j]:\n",
    "            existe = True\n",
    "        j += 1\n",
    "        \n",
    "    if existe == False:\n",
    "        cont = 0\n",
    "        j = 0\n",
    "        while j < len(s):\n",
    "            if s[i] == s[j]:\n",
    "                cont += 1\n",
    "            j += 1\n",
    "        final += s[i] + str(cont)\n",
    "   \n",
    "    i += 1\n",
    "\n",
    "print(final)"
   ]
  },
  {
   "cell_type": "code",
   "execution_count": 54,
   "id": "1ce8190a-1596-4c22-9d5e-bc32da54a8ab",
   "metadata": {},
   "outputs": [
    {
     "name": "stdout",
     "output_type": "stream",
     "text": [
      "True\n"
     ]
    }
   ],
   "source": [
    "s = \"a\"\n",
    "final = \"a6\"\n",
    "existe = False\n",
    "i = 0\n",
    "while i < len(final):\n",
    "    if s == final[i]:\n",
    "        existe = True\n",
    "    i += 1\n",
    "print(existe)"
   ]
  },
  {
   "cell_type": "code",
   "execution_count": 94,
   "id": "d63afc9c-a0f5-4ebe-b7d3-159548c8d312",
   "metadata": {},
   "outputs": [
    {
     "name": "stdout",
     "output_type": "stream",
     "text": [
      ">>>>> i: 0 Letra: A i%5: 0\n",
      "A\n",
      ">>>>> i: 1 Letra: A i%5: 1\n",
      "A>>>>> i: 2 Letra: A i%5: 2\n",
      "A>>>>> i: 3 Letra: A i%5: 3\n",
      "A>>>>> i: 4 Letra: A i%5: 4\n",
      "A>>>>> i: 5 Letra: B i%5: 0\n",
      "B\n",
      ">>>>> i: 6 Letra: B i%5: 1\n",
      "B>>>>> i: 7 Letra: B i%5: 2\n",
      "B>>>>> i: 8 Letra: B i%5: 3\n",
      "B>>>>> i: 9 Letra: B i%5: 4\n",
      "B>>>>> i: 10 Letra: C i%5: 0\n",
      "C\n",
      ">>>>> i: 11 Letra: C i%5: 1\n",
      "C>>>>> i: 12 Letra: C i%5: 2\n",
      "C>>>>> i: 13 Letra: C i%5: 3\n",
      "C>>>>> i: 14 Letra: C i%5: 4\n",
      "C*\n",
      "*****\n",
      "****"
     ]
    }
   ],
   "source": [
    "palabra = \"AAAAABBBBBCCCCC\"\n",
    "MAX_LETRAS = 25\n",
    "i = 0\n",
    "while i < len(palabra):\n",
    "    print(\">>>>> i:\", i, \"Letra:\", palabra[i], \"i%5:\", i%5)\n",
    "    print(palabra[i], end =\"\")\n",
    "    if i % 5 == 0:\n",
    "        print()\n",
    "    i += 1\n",
    "\n",
    "i = 0\n",
    "while i < MAX_LETRAS - len(palabra):\n",
    "    print(\"*\", end =\"\")\n",
    "    if i % 5 == 0:\n",
    "        print()\n",
    "    i += 1"
   ]
  },
  {
   "cell_type": "code",
   "execution_count": 96,
   "id": "0853c398-5b7a-47b2-9e5f-d62b62d94554",
   "metadata": {},
   "outputs": [
    {
     "name": "stdout",
     "output_type": "stream",
     "text": [
      "AAAAA\n",
      "BBBBB\n",
      "CCCCC\n",
      "*****\n",
      "*****\n"
     ]
    }
   ],
   "source": [
    "palabra = \"AAAAABBBBBCCCCC\"\n",
    "MAX_LETRAS = 25\n",
    "i = 0\n",
    "while i < len(palabra):\n",
    "    #print(\">>>>>\", i, palabra[i], i%5)\n",
    "    print(palabra[i], end =\"\")\n",
    "    i += 1\n",
    "    if i % 5 == 0:\n",
    "        print()\n",
    "\n",
    "i = 0\n",
    "while i < MAX_LETRAS - len(palabra):\n",
    "    print(\"*\", end =\"\")\n",
    "    i += 1\n",
    "    if i % 5 == 0:\n",
    "        print()"
   ]
  },
  {
   "cell_type": "code",
   "execution_count": null,
   "id": "ddf536eb-9a7f-4610-9ef0-fcce256ef849",
   "metadata": {},
   "outputs": [],
   "source": []
  }
 ],
 "metadata": {
  "kernelspec": {
   "display_name": "Python 3 (ipykernel)",
   "language": "python",
   "name": "python3"
  },
  "language_info": {
   "codemirror_mode": {
    "name": "ipython",
    "version": 3
   },
   "file_extension": ".py",
   "mimetype": "text/x-python",
   "name": "python",
   "nbconvert_exporter": "python",
   "pygments_lexer": "ipython3",
   "version": "3.12.4"
  }
 },
 "nbformat": 4,
 "nbformat_minor": 5
}
