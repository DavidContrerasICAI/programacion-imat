{
 "cells": [
  {
   "cell_type": "code",
   "execution_count": 86,
   "id": "44caad6a-b8b4-42df-b8df-a9c0ffaa8557",
   "metadata": {},
   "outputs": [
    {
     "name": "stdin",
     "output_type": "stream",
     "text": [
      "Ropa:  Bañador\n",
      "Precio:  30\n",
      "Ropa:  Pantalón\n",
      "Precio:  99\n",
      "Ropa:  Camiseta\n",
      "Precio:  50\n"
     ]
    },
    {
     "name": "stdout",
     "output_type": "stream",
     "text": [
      "\n",
      "[['BBBB', ['Bañador', 30.0]], ['KKKK', ['Pantalón', 99.0]], ['KKKK', ['Camiseta', 50.0]]]\n",
      "\n",
      "KKKK 99.0\n",
      "KKKK 50.0\n"
     ]
    }
   ],
   "source": [
    "import random\n",
    "\n",
    "IMPORTE = 40\n",
    "personas = []\n",
    "i = 0\n",
    "while i < 3:\n",
    "    nombre = chr(65+random.randint(0, 10)) * 4\n",
    "    ropa  = input(\"Ropa: \")\n",
    "    precio_str = input(\"Precio: \")\n",
    "    precio = float(precio_str)\n",
    "    ropa_precio = [ropa, precio]\n",
    "    personas.append([nombre, ropa_precio])\n",
    "    i += 1\n",
    "\n",
    "print()\n",
    "print(personas)\n",
    "print()\n",
    "\n",
    "i = 0\n",
    "while i < len(personas):\n",
    "    persona_ropa = personas[i]\n",
    "    nombre = persona_ropa[0]\n",
    "    ropa_precio = persona_ropa[1]\n",
    "    precio = ropa_precio[1]\n",
    "    if precio > IMPORTE:\n",
    "        print(nombre, precio)\n",
    "    i += 1\n"
   ]
  },
  {
   "cell_type": "code",
   "execution_count": 88,
   "id": "9cda229d-09cb-4c93-9497-5f2dcdcb60b6",
   "metadata": {},
   "outputs": [
    {
     "data": {
      "text/plain": [
       "['BBBB', ['Bañador', 30.0]]"
      ]
     },
     "execution_count": 88,
     "metadata": {},
     "output_type": "execute_result"
    }
   ],
   "source": [
    "personas[0]"
   ]
  },
  {
   "cell_type": "code",
   "execution_count": 90,
   "id": "6e759c68-09c0-44be-a211-e88054ef393a",
   "metadata": {},
   "outputs": [
    {
     "name": "stdout",
     "output_type": "stream",
     "text": [
      "Ropa de BBBB\n"
     ]
    }
   ],
   "source": [
    "ropa_persona = personas[0]\n",
    "nombre = ropa_persona[0]\n",
    "print(f\"Ropa de {nombre}\")"
   ]
  },
  {
   "cell_type": "code",
   "execution_count": 92,
   "id": "eb0c3dd3-48ec-485d-b7e9-395cccbea5ed",
   "metadata": {},
   "outputs": [
    {
     "name": "stdout",
     "output_type": "stream",
     "text": [
      "Bañador - Precio: 30.0€\n"
     ]
    }
   ],
   "source": [
    "ropa_precio = ropa_persona[1]\n",
    "precio = ropa_precio[1]\n",
    "print(f\"{ropa_precio[0]} - Precio: {precio}€\")"
   ]
  },
  {
   "cell_type": "code",
   "execution_count": 94,
   "id": "b70ba7cb-0338-4c8e-978b-59ac6162a54e",
   "metadata": {},
   "outputs": [],
   "source": [
    "nombre = personas[0][0]"
   ]
  },
  {
   "cell_type": "code",
   "execution_count": 96,
   "id": "3bedab38-6a1c-4a01-b1e5-f73e509f1ccf",
   "metadata": {},
   "outputs": [
    {
     "data": {
      "text/plain": [
       "'BBBB'"
      ]
     },
     "execution_count": 96,
     "metadata": {},
     "output_type": "execute_result"
    }
   ],
   "source": [
    "nombre"
   ]
  },
  {
   "cell_type": "code",
   "execution_count": 98,
   "id": "a83d203c-e3ea-4d8b-b72d-42ecbccb0697",
   "metadata": {},
   "outputs": [
    {
     "data": {
      "text/plain": [
       "'B'"
      ]
     },
     "execution_count": 98,
     "metadata": {},
     "output_type": "execute_result"
    }
   ],
   "source": [
    "nombre[0]"
   ]
  },
  {
   "cell_type": "code",
   "execution_count": 100,
   "id": "dd38aedb-72ea-49b5-aee1-dbdcf42ef61b",
   "metadata": {},
   "outputs": [
    {
     "data": {
      "text/plain": [
       "30.0"
      ]
     },
     "execution_count": 100,
     "metadata": {},
     "output_type": "execute_result"
    }
   ],
   "source": [
    "persona_precio = personas[0]\n",
    "ropa_precio = persona_precio[1]\n",
    "precio = ropa_precio[1]\n",
    "precio"
   ]
  },
  {
   "cell_type": "code",
   "execution_count": 102,
   "id": "846519c1-23bb-488c-a3c2-95c8859dc932",
   "metadata": {},
   "outputs": [
    {
     "data": {
      "text/plain": [
       "30.0"
      ]
     },
     "execution_count": 102,
     "metadata": {},
     "output_type": "execute_result"
    }
   ],
   "source": [
    "personas[0][1][1]"
   ]
  },
  {
   "cell_type": "code",
   "execution_count": null,
   "id": "f7c1bc91-c84e-48a0-9a0a-72b058c16dc9",
   "metadata": {},
   "outputs": [],
   "source": []
  }
 ],
 "metadata": {
  "kernelspec": {
   "display_name": "Python 3 (ipykernel)",
   "language": "python",
   "name": "python3"
  },
  "language_info": {
   "codemirror_mode": {
    "name": "ipython",
    "version": 3
   },
   "file_extension": ".py",
   "mimetype": "text/x-python",
   "name": "python",
   "nbconvert_exporter": "python",
   "pygments_lexer": "ipython3",
   "version": "3.12.4"
  }
 },
 "nbformat": 4,
 "nbformat_minor": 5
}
