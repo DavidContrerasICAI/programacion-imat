{
 "cells": [
  {
   "cell_type": "markdown",
   "id": "acd6658d-e8f2-4bc3-b819-30372f1dc131",
   "metadata": {},
   "source": [
    "# Ejemplo de listas"
   ]
  },
  {
   "cell_type": "code",
   "execution_count": 42,
   "id": "460035a5-eac5-482b-bf13-fc04e9bfcbdb",
   "metadata": {},
   "outputs": [
    {
     "name": "stdout",
     "output_type": "stream",
     "text": [
      "arbolcasarletra\n",
      "a\n",
      "r\n",
      "b\n",
      "o\n",
      "l\n",
      "c\n",
      "a\n",
      "s\n",
      "a\n",
      "r\n",
      "l\n",
      "e\n",
      "t\n",
      "r\n",
      "a\n"
     ]
    },
    {
     "ename": "TypeError",
     "evalue": "'str' object does not support item assignment",
     "output_type": "error",
     "traceback": [
      "\u001b[1;31m---------------------------------------------------------------------------\u001b[0m",
      "\u001b[1;31mTypeError\u001b[0m                                 Traceback (most recent call last)",
      "Cell \u001b[1;32mIn[42], line 10\u001b[0m\n\u001b[0;32m      7\u001b[0m     \u001b[38;5;28mprint\u001b[39m(palabras[i])\n\u001b[0;32m      8\u001b[0m     i \u001b[38;5;241m+\u001b[39m\u001b[38;5;241m=\u001b[39m \u001b[38;5;241m1\u001b[39m\n\u001b[1;32m---> 10\u001b[0m palabras[\u001b[38;5;241m0\u001b[39m] \u001b[38;5;241m=\u001b[39m \u001b[38;5;124m\"\u001b[39m\u001b[38;5;124mA\u001b[39m\u001b[38;5;124m\"\u001b[39m\n",
      "\u001b[1;31mTypeError\u001b[0m: 'str' object does not support item assignment"
     ]
    }
   ],
   "source": [
    "palabras = \"arbolcasarletra\"\n",
    "type(palabras)\n",
    "print(palabras)\n",
    "palabras[0]\n",
    "i = 0\n",
    "while i < len(palabras):\n",
    "    print(palabras[i])\n",
    "    i += 1\n",
    "\n",
    "#palabras[0] = \"A\"\n",
    "nueva_palabra = \"A\" + palabras[0]"
   ]
  },
  {
   "cell_type": "markdown",
   "id": "56469910-3cf6-4484-ba15-92b7760afcb4",
   "metadata": {},
   "source": [
    "## Slicing de cadenas"
   ]
  },
  {
   "cell_type": "code",
   "execution_count": 47,
   "id": "c09b0c7b-71af-4e1a-8d6a-1d225b29d178",
   "metadata": {},
   "outputs": [
    {
     "name": "stdout",
     "output_type": "stream",
     "text": [
      "abc\n"
     ]
    }
   ],
   "source": [
    "palabra = \"abcde\"\n",
    "print(palabra[0:3:1])"
   ]
  },
  {
   "cell_type": "code",
   "execution_count": 49,
   "id": "31b2ccca-fba2-4d96-b5a2-0c1f4ab230c7",
   "metadata": {},
   "outputs": [
    {
     "name": "stdout",
     "output_type": "stream",
     "text": [
      "abc\n"
     ]
    }
   ],
   "source": [
    "print(palabra[0:3])"
   ]
  },
  {
   "cell_type": "code",
   "execution_count": 53,
   "id": "903792aa-fc34-401c-b6b3-489425baf4ab",
   "metadata": {},
   "outputs": [
    {
     "name": "stdout",
     "output_type": "stream",
     "text": [
      "abc\n"
     ]
    }
   ],
   "source": [
    "print(palabra[:3])\n"
   ]
  },
  {
   "cell_type": "code",
   "execution_count": 57,
   "id": "9b8a8460-973b-4f06-8a6e-9d00a445ceeb",
   "metadata": {},
   "outputs": [
    {
     "name": "stdout",
     "output_type": "stream",
     "text": [
      "abcde\n",
      "c\n"
     ]
    }
   ],
   "source": [
    "print(palabra)\n",
    "print(palabra[2:3])"
   ]
  },
  {
   "cell_type": "code",
   "execution_count": 69,
   "id": "d7cf7536-ade9-4eb7-9116-e74b6409ecc9",
   "metadata": {},
   "outputs": [
    {
     "name": "stdout",
     "output_type": "stream",
     "text": [
      "ab\n",
      "de\n"
     ]
    }
   ],
   "source": [
    "print(palabra[:2])\n",
    "print(palabra[3:])"
   ]
  },
  {
   "cell_type": "code",
   "execution_count": 71,
   "id": "32caddc9-5fbc-4c81-82c8-b514a5cc466b",
   "metadata": {},
   "outputs": [
    {
     "name": "stdout",
     "output_type": "stream",
     "text": [
      "abcde\n",
      "ace\n"
     ]
    }
   ],
   "source": [
    "print(palabra)\n",
    "print(palabra[::2])"
   ]
  },
  {
   "cell_type": "code",
   "execution_count": 73,
   "id": "5d261902-8d26-49d9-8b5a-4d3b2e186251",
   "metadata": {},
   "outputs": [
    {
     "name": "stdout",
     "output_type": "stream",
     "text": [
      "['arbolito', 'casar', 'letras y letras, ..dsd dsadsadas', 12, True]\n",
      " # 1.- ARBOLAZO\n",
      " # 2.- casar\n",
      " # 3.- letras y letras, ..dsd dsadsadas\n",
      " # 4.- 12\n",
      " # 5.- True\n"
     ]
    }
   ],
   "source": [
    "palabras = [\"arbolito\", \"casar\", \"letras y letras, ..dsd dsadsadas\", 12, True]\n",
    "type(palabras)\n",
    "print(palabras)\n",
    "palabras[0] = \"ARBOLAZO\"\n",
    "i = 0\n",
    "while i < len(palabras):\n",
    "    print(f\" # {i+1}.- {palabras[i]}\")\n",
    "    i += 1"
   ]
  },
  {
   "cell_type": "code",
   "execution_count": 88,
   "id": "8241cfaa-f280-4d04-b9ac-beff45abcde5",
   "metadata": {},
   "outputs": [
    {
     "data": {
      "text/plain": [
       "['ARBOLAZO', 'casar', 'letras y letras, ..dsd dsadsadas', 12, True]"
      ]
     },
     "execution_count": 88,
     "metadata": {},
     "output_type": "execute_result"
    }
   ],
   "source": [
    "palabras[0:99999]"
   ]
  },
  {
   "cell_type": "markdown",
   "id": "87a10352-1063-49d0-b85a-73e4cf59d47a",
   "metadata": {},
   "source": [
    "Esto no se suele hacer"
   ]
  },
  {
   "cell_type": "code",
   "execution_count": 77,
   "id": "f90a7cb8-b0e4-4555-8ad6-f30a1e2f53b3",
   "metadata": {},
   "outputs": [
    {
     "data": {
      "text/plain": [
       "['ARBOLAZO', 'letras y letras, ..dsd dsadsadas', True]"
      ]
     },
     "execution_count": 77,
     "metadata": {},
     "output_type": "execute_result"
    }
   ],
   "source": [
    "palabras[0:5:2]\n",
    "palabras[0:len(palabra):2]"
   ]
  },
  {
   "cell_type": "code",
   "execution_count": 79,
   "id": "66880cb6-f47c-4679-8c61-ac0897c3a970",
   "metadata": {},
   "outputs": [
    {
     "data": {
      "text/plain": [
       "['ARBOLAZO', 'letras y letras, ..dsd dsadsadas', True]"
      ]
     },
     "execution_count": 79,
     "metadata": {},
     "output_type": "execute_result"
    }
   ],
   "source": [
    "palabras[::2]"
   ]
  },
  {
   "cell_type": "code",
   "execution_count": null,
   "id": "b466a040-ab35-4a34-af63-b65867588820",
   "metadata": {},
   "outputs": [],
   "source": [
    "['ARBOLAZO',  , 'letras y letras, ..dsd dsadsadas',  , True]"
   ]
  },
  {
   "cell_type": "code",
   "execution_count": 81,
   "id": "8643cb2b-7833-42cc-a9f9-96a34da090a6",
   "metadata": {},
   "outputs": [
    {
     "data": {
      "text/plain": [
       "['casar', 12]"
      ]
     },
     "execution_count": 81,
     "metadata": {},
     "output_type": "execute_result"
    }
   ],
   "source": [
    "palabras[1::2]"
   ]
  },
  {
   "cell_type": "code",
   "execution_count": 91,
   "id": "d168c150-39a4-4bc3-be7f-79fdad0ae0f1",
   "metadata": {},
   "outputs": [
    {
     "data": {
      "text/plain": [
       "['ARBOLAZO', 'casar', 'letras y letras, ..dsd dsadsadas', 12, True]"
      ]
     },
     "execution_count": 91,
     "metadata": {},
     "output_type": "execute_result"
    }
   ],
   "source": [
    "palabras"
   ]
  },
  {
   "cell_type": "code",
   "execution_count": 105,
   "id": "f8724473-4551-4895-89f6-29e03127318b",
   "metadata": {},
   "outputs": [],
   "source": [
    "palabras.append(\"Nueva palabra\")"
   ]
  },
  {
   "cell_type": "code",
   "execution_count": 107,
   "id": "3dc22266-97e0-4cec-b513-b3ea66f707d5",
   "metadata": {},
   "outputs": [
    {
     "data": {
      "text/plain": [
       "['ARBOLAZO',\n",
       " 'casar',\n",
       " 'letras y letras, ..dsd dsadsadas',\n",
       " 12,\n",
       " True,\n",
       " 'Nueva palabra',\n",
       " 'Nueva palabra',\n",
       " 'Nueva palabra',\n",
       " 'Nueva palabra']"
      ]
     },
     "execution_count": 107,
     "metadata": {},
     "output_type": "execute_result"
    }
   ],
   "source": [
    "palabras"
   ]
  },
  {
   "cell_type": "code",
   "execution_count": 115,
   "id": "be8c7ced-61a9-4979-817f-8b182f23dd79",
   "metadata": {},
   "outputs": [
    {
     "name": "stdin",
     "output_type": "stream",
     "text": [
      "Marca de coche: Seat\n",
      "Marca de coche: BMW\n",
      "Marca de coche: Audi\n",
      "Marca de coche: Mercedes\n",
      "Marca de coche: Ford\n"
     ]
    },
    {
     "name": "stdout",
     "output_type": "stream",
     "text": [
      "['Seat', 'BMW', 'Audi', 'Mercedes', 'Ford']\n"
     ]
    }
   ],
   "source": [
    "coches = []\n",
    "i = 0\n",
    "while i < 5:\n",
    "    coche = input(\"Marca de coche:\")\n",
    "    coches.append(coche)\n",
    "    i += 1\n",
    "print(coches)"
   ]
  },
  {
   "cell_type": "code",
   "execution_count": null,
   "id": "b815b1d1-d8ea-4152-9793-640b4f3d6617",
   "metadata": {},
   "outputs": [],
   "source": []
  }
 ],
 "metadata": {
  "kernelspec": {
   "display_name": "Python 3 (ipykernel)",
   "language": "python",
   "name": "python3"
  },
  "language_info": {
   "codemirror_mode": {
    "name": "ipython",
    "version": 3
   },
   "file_extension": ".py",
   "mimetype": "text/x-python",
   "name": "python",
   "nbconvert_exporter": "python",
   "pygments_lexer": "ipython3",
   "version": "3.12.4"
  }
 },
 "nbformat": 4,
 "nbformat_minor": 5
}
