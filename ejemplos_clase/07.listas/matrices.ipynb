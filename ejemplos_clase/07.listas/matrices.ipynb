{
 "cells": [
  {
   "cell_type": "markdown",
   "id": "a456c4cb-9278-446e-81cf-22694152efd7",
   "metadata": {},
   "source": [
    "# Matrices"
   ]
  },
  {
   "cell_type": "markdown",
   "id": "bd2d2cb9-fe17-4c39-aa89-50a275d8fdee",
   "metadata": {},
   "source": [
    "### Creación de una matrix de n x n"
   ]
  },
  {
   "cell_type": "code",
   "execution_count": 118,
   "id": "638afa4b-7590-4095-8b7a-aa7085ac944a",
   "metadata": {},
   "outputs": [
    {
     "name": "stdout",
     "output_type": "stream",
     "text": [
      "[[' ', ' ', ' ', ' '], [' ', ' ', ' ', ' '], [' ', ' ', ' ', ' '], [' ', ' ', ' ', ' ']]\n"
     ]
    }
   ],
   "source": [
    "n = 4\n",
    "\n",
    "matriz = []\n",
    "i = 0\n",
    "while i < n:\n",
    "    columnas = []\n",
    "    j=0\n",
    "    while j < n:\n",
    "        columnas.append(\" \")\n",
    "        j += 1\n",
    "    matriz.append(columnas)\n",
    "    i += 1\n",
    "\n",
    "print(matriz)     "
   ]
  },
  {
   "cell_type": "markdown",
   "id": "5b5e881e-6182-4b17-97b8-f66db07dc426",
   "metadata": {},
   "source": [
    "### Impresión de una matriz"
   ]
  },
  {
   "cell_type": "code",
   "execution_count": 121,
   "id": "fabeeb58-20dd-45f6-aa8a-24ed96fbf9a5",
   "metadata": {},
   "outputs": [
    {
     "name": "stdout",
     "output_type": "stream",
     "text": [
      "\u001b[1;47m   \u001b[0m \u001b[1;47m   \u001b[0m \u001b[1;47m   \u001b[0m \u001b[1;47m   \u001b[0m \n",
      "\n",
      "\u001b[1;47m   \u001b[0m \u001b[1;47m   \u001b[0m \u001b[1;47m   \u001b[0m \u001b[1;47m   \u001b[0m \n",
      "\n",
      "\u001b[1;47m   \u001b[0m \u001b[1;47m   \u001b[0m \u001b[1;47m   \u001b[0m \u001b[1;47m   \u001b[0m \n",
      "\n",
      "\u001b[1;47m   \u001b[0m \u001b[1;47m   \u001b[0m \u001b[1;47m   \u001b[0m \u001b[1;47m   \u001b[0m \n",
      "\n"
     ]
    }
   ],
   "source": [
    "GRIS = \"\\033[1;47m\"\n",
    "VERDE = \"\\033[1;42m\"\n",
    "DEFECTO = \"\\033[0m\"\n",
    "ROJO = \"\\033[0;41m\"\n",
    "AMARILLO = \"\\033[1;43m\"\n",
    "\n",
    "i = 0\n",
    "while i < len(matriz):\n",
    "    j=0\n",
    "    while j < len(matriz[i]):\n",
    "        print(f\"{GRIS} {matriz[i][j]} {DEFECTO} \", end=\"\")\n",
    "        j += 1\n",
    "    print(\"\\n\")\n",
    "    i += 1 "
   ]
  },
  {
   "cell_type": "markdown",
   "id": "015cb52c-e786-4ee6-b3f0-c5a21e6269fa",
   "metadata": {},
   "source": [
    "### Asignación de valores a una matriz"
   ]
  },
  {
   "cell_type": "code",
   "execution_count": 124,
   "id": "9dae6cf0-4fe8-453a-9513-5902a812e222",
   "metadata": {},
   "outputs": [],
   "source": [
    "import random\n",
    "\n",
    "NUM_BOMBAS = 3\n",
    "BOMBA = \"B\"\n",
    "PREMIO = \"P\"\n",
    "CASI = \"·\"\n",
    "n = 4\n",
    "\n",
    "k = 0\n",
    "while k < NUM_BOMBAS:\n",
    "    i = random.randint(0,n-1)\n",
    "    j = random.randint(0,n-1)\n",
    "    matriz[i][j] = BOMBA\n",
    "    k += 1\n",
    "\n",
    "i = random.randint(0,n-1)\n",
    "j = random.randint(0,n-1)\n",
    "while matriz[i][j] == BOMBA:\n",
    "    i = random.randint(0,n-1)\n",
    "    j = random.randint(0,n-1)\n",
    "\n",
    "matriz[i][j] = PREMIO"
   ]
  },
  {
   "cell_type": "markdown",
   "id": "c21cb057-de51-402b-96c9-aeabafd2fa20",
   "metadata": {},
   "source": [
    "### La mostramos SOLO para comprobar que está OK"
   ]
  },
  {
   "cell_type": "code",
   "execution_count": 127,
   "id": "f5d89f61-a405-4a35-a932-31304fddbce5",
   "metadata": {},
   "outputs": [
    {
     "name": "stdout",
     "output_type": "stream",
     "text": [
      "\u001b[1;47m   \u001b[0m \u001b[1;47m   \u001b[0m \u001b[1;47m   \u001b[0m \u001b[1;47m   \u001b[0m \n",
      "\n",
      "\u001b[1;47m   \u001b[0m \u001b[1;47m   \u001b[0m \u001b[1;47m   \u001b[0m \u001b[1;47m   \u001b[0m \n",
      "\n",
      "\u001b[1;47m   \u001b[0m \u001b[1;47m   \u001b[0m \u001b[1;47m   \u001b[0m \u001b[1;42m P \u001b[0m \n",
      "\n",
      "\u001b[1;47m   \u001b[0m \u001b[0;41m B \u001b[0m \u001b[0;41m B \u001b[0m \u001b[1;47m   \u001b[0m \n",
      "\n"
     ]
    }
   ],
   "source": [
    "i = 0\n",
    "while i < len(matriz):\n",
    "    j=0\n",
    "    while j < len(matriz[i]):\n",
    "        if matriz[i][j] == BOMBA:\n",
    "            color = ROJO\n",
    "        elif matriz[i][j] == PREMIO:\n",
    "            color = VERDE\n",
    "        elif matriz[i][j] == PREMIO:\n",
    "            color = AMARILLO\n",
    "        else:\n",
    "            color = GRIS\n",
    "        print(f\"{color} {matriz[i][j]} {DEFECTO} \", end=\"\")\n",
    "        j += 1\n",
    "    print(\"\\n\")\n",
    "    i += 1 "
   ]
  },
  {
   "cell_type": "markdown",
   "id": "ace6fe66-17b8-494e-b2e0-fb79baef07a9",
   "metadata": {},
   "source": [
    "### JUEGO"
   ]
  },
  {
   "cell_type": "code",
   "execution_count": 140,
   "id": "ef9fe293-d96f-41b1-b2c6-156f847e9a3a",
   "metadata": {},
   "outputs": [
    {
     "name": "stdin",
     "output_type": "stream",
     "text": [
      "Coordenada X:  0\n",
      "Coordenada Y:  3\n"
     ]
    },
    {
     "name": "stdout",
     "output_type": "stream",
     "text": [
      "Sigue jugando...\n"
     ]
    },
    {
     "name": "stdin",
     "output_type": "stream",
     "text": [
      "Coordenada X:  -1\n",
      "Coordenada Y:  3\n"
     ]
    },
    {
     "name": "stdout",
     "output_type": "stream",
     "text": [
      "Sigue jugando...\n"
     ]
    },
    {
     "name": "stdin",
     "output_type": "stream",
     "text": [
      "Coordenada X:  5\n",
      "Coordenada Y:  5\n",
      "Coordenada X:  -1\n",
      "Coordenada Y:  2\n"
     ]
    },
    {
     "name": "stdout",
     "output_type": "stream",
     "text": [
      "LOSE\n",
      "\u001b[1;43m · \u001b[0m \u001b[1;43m · \u001b[0m \u001b[1;43m · \u001b[0m \u001b[1;43m · \u001b[0m \n",
      "\n",
      "\u001b[1;47m   \u001b[0m \u001b[1;43m · \u001b[0m \u001b[1;47m   \u001b[0m \u001b[1;47m   \u001b[0m \n",
      "\n",
      "\u001b[1;47m   \u001b[0m \u001b[1;47m   \u001b[0m \u001b[1;43m · \u001b[0m \u001b[1;42m P \u001b[0m \n",
      "\n",
      "\u001b[1;47m   \u001b[0m \u001b[0;41m B \u001b[0m \u001b[0;41m B \u001b[0m \u001b[1;43m · \u001b[0m \n",
      "\n"
     ]
    }
   ],
   "source": [
    "fin = False\n",
    "while not fin:\n",
    "    x = -1\n",
    "    y = -1\n",
    "    while not (x >= 0 and x < n) and not (y >= 0 and y < n):  \n",
    "        x = int(input(\"Coordenada X: \"))\n",
    "        y = int(input(\"Coordenada Y: \"))\n",
    "    if matriz[x][y] != BOMBA and matriz[x][y] != PREMIO:\n",
    "        matriz[x][y] = CASI\n",
    "        print(\"Sigue jugando...\")\n",
    "    else:\n",
    "        fin = True\n",
    "\n",
    "if matriz[x][y] == PREMIO:\n",
    "    print(\"WIN\")\n",
    "else:\n",
    "    print(\"LOSE\")\n",
    "\n",
    "i = 0\n",
    "while i < len(matriz):\n",
    "    j=0\n",
    "    while j < len(matriz[i]):\n",
    "        if matriz[i][j] == BOMBA:\n",
    "            color = ROJO\n",
    "        elif matriz[i][j] == PREMIO:\n",
    "            color = VERDE\n",
    "        elif matriz[i][j] == CASI:\n",
    "            color = AMARILLO\n",
    "        else:\n",
    "            color = GRIS\n",
    "        print(f\"{color} {matriz[i][j]} {DEFECTO} \", end=\"\")\n",
    "        j += 1\n",
    "    print(\"\\n\")\n",
    "    i += 1 "
   ]
  },
  {
   "cell_type": "code",
   "execution_count": null,
   "id": "625ae30b-373f-4e4a-8a8a-842c5d45925c",
   "metadata": {},
   "outputs": [],
   "source": []
  }
 ],
 "metadata": {
  "kernelspec": {
   "display_name": "Python 3 (ipykernel)",
   "language": "python",
   "name": "python3"
  },
  "language_info": {
   "codemirror_mode": {
    "name": "ipython",
    "version": 3
   },
   "file_extension": ".py",
   "mimetype": "text/x-python",
   "name": "python",
   "nbconvert_exporter": "python",
   "pygments_lexer": "ipython3",
   "version": "3.12.4"
  }
 },
 "nbformat": 4,
 "nbformat_minor": 5
}
