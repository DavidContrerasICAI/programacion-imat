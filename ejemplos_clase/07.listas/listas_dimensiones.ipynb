{
 "cells": [
  {
   "cell_type": "markdown",
   "id": "e953b67c",
   "metadata": {},
   "source": [
    "### Programación con Listas\n",
    "\n",
    "Escribe o analiza un programa que resuelve una tarea básica de programación usando Python."
   ]
  },
  {
   "cell_type": "code",
   "execution_count": 8,
   "id": "51c0321f-0ab6-4bb8-b4fa-632f8b07d95b",
   "metadata": {},
   "outputs": [
    {
     "data": {
      "text/plain": [
       "'ROSAL'"
      ]
     },
     "execution_count": 8,
     "metadata": {},
     "output_type": "execute_result"
    }
   ],
   "source": [
    "palabra = \"ROSAL\"\n",
    "palabra_acumulada = \"\"\n",
    "palabra_acumulada += palabra\n",
    "palabra_acumulada"
   ]
  },
  {
   "cell_type": "markdown",
   "id": "911a29d9",
   "metadata": {},
   "source": [
    "#### Agregar palabras del Wordlet de una forma más cómoda y entendible con Listas"
   ]
  },
  {
   "cell_type": "code",
   "execution_count": 12,
   "id": "9f194f1a-1ffd-4dfa-bd74-8ff8f51ea5d3",
   "metadata": {},
   "outputs": [
    {
     "name": "stdin",
     "output_type": "stream",
     "text": [
      " AAAAA\n",
      " BBBBB\n",
      " CCCCC\n",
      " DDDDD\n",
      " EEEEE\n"
     ]
    },
    {
     "name": "stdout",
     "output_type": "stream",
     "text": [
      "['AAAAA', 'BBBBB', 'CCCCC', 'DDDDD', 'EEEEE']\n"
     ]
    }
   ],
   "source": [
    "palabras = []\n",
    "i = 0\n",
    "while i < 5:\n",
    "    palabra = input()\n",
    "    palabras.append(palabra)\n",
    "    i += 1\n",
    "print(palabras)"
   ]
  },
  {
   "cell_type": "markdown",
   "id": "0d5b7736",
   "metadata": {},
   "source": [
    "#### Como no sabíamos listas, lo teníamos que hacer así "
   ]
  },
  {
   "cell_type": "code",
   "execution_count": 33,
   "id": "fe097e52-e567-458d-84d9-cba972db39e6",
   "metadata": {},
   "outputs": [
    {
     "data": {
      "text/plain": [
       "'AAAAABBBBBCCCCC'"
      ]
     },
     "execution_count": 33,
     "metadata": {},
     "output_type": "execute_result"
    }
   ],
   "source": [
    "palabra_acumulada = \"AAAAABBBBBCCCCC\"\n",
    "palabra_acumulada"
   ]
  },
  {
   "cell_type": "markdown",
   "id": "5f44d605",
   "metadata": {},
   "source": [
    "#### Wordlet"
   ]
  },
  {
   "cell_type": "code",
   "execution_count": 47,
   "id": "2e89d35c-5820-44f5-9215-75bf35070bbd",
   "metadata": {},
   "outputs": [
    {
     "name": "stdout",
     "output_type": "stream",
     "text": [
      "A  A  A  A  A  \n",
      "B  B  B  B  B  \n",
      "-- -- -- -- -- \n",
      "-- -- -- -- -- \n",
      "-- -- -- -- -- \n"
     ]
    }
   ],
   "source": [
    "MAX_LETRAS = 25\n",
    "palabra_acumulada = \"AAAAABBBBB\"\n",
    "i = 0\n",
    "while i < len(palabra_acumulada):\n",
    "    print(palabra_acumulada[i], \" \", end =\"\")\n",
    "    i += 1\n",
    "    if i % 5 == 0:\n",
    "        print()\n",
    "i = 0\n",
    "while i < MAX_LETRAS - len(palabra_acumulada):\n",
    "    print(\"-- \", end =\"\")\n",
    "    i += 1\n",
    "    if i % 5 == 0:\n",
    "        print()\n",
    "    \n",
    "    "
   ]
  },
  {
   "cell_type": "markdown",
   "id": "45832687",
   "metadata": {},
   "source": [
    "#### Una lista puede almacenar cualquier tipo de información"
   ]
  },
  {
   "cell_type": "code",
   "execution_count": 51,
   "id": "1c357951-042c-49b7-92af-d259c7c3c43a",
   "metadata": {},
   "outputs": [
    {
     "data": {
      "text/plain": [
       "[1, 'asasa', ['A', 'B', 'C'], 4]"
      ]
     },
     "execution_count": 51,
     "metadata": {},
     "output_type": "execute_result"
    }
   ],
   "source": [
    "[1, \"asasa\", [\"A\", \"B\", \"C\"], 4]"
   ]
  },
  {
   "cell_type": "markdown",
   "id": "e4f03007",
   "metadata": {},
   "source": [
    "#### Lo normal es que guarde variables del mismo tipo. Si queremos guardar info de alumnos y ordenadores...."
   ]
  },
  {
   "cell_type": "code",
   "execution_count": 53,
   "id": "548260bd-b134-4211-b496-38b67208788b",
   "metadata": {},
   "outputs": [],
   "source": [
    "alumnos = [\"Luis\", \"Pedro\", \"Ana\"]"
   ]
  },
  {
   "cell_type": "code",
   "execution_count": 55,
   "id": "18558a9c-7641-48be-abc9-420aaf0b5476",
   "metadata": {},
   "outputs": [],
   "source": [
    "ordenadores = [\"Mac\", \"Lenovo\", \"HP\"]"
   ]
  },
  {
   "cell_type": "markdown",
   "id": "a5bb303b",
   "metadata": {},
   "source": [
    "#### Para que escale mejor, se guarda de esta manera"
   ]
  },
  {
   "cell_type": "code",
   "execution_count": 59,
   "id": "d673475b-da4d-4a2f-8e20-30173a9c85b3",
   "metadata": {},
   "outputs": [],
   "source": [
    "alumnos_ordenadores  = [ [\"Luis\", \"Mac\"] , [\"Pedro\", \"Lenovo\"], [\"Ana\", \"HP\"] ]"
   ]
  },
  {
   "cell_type": "code",
   "execution_count": 63,
   "id": "1b959f79-0059-4fe3-9c53-44c6baeefc72",
   "metadata": {},
   "outputs": [
    {
     "data": {
      "text/plain": [
       "[['Luis', 'Mac'], ['Pedro', 'Lenovo'], ['Ana', 'HP']]"
      ]
     },
     "execution_count": 63,
     "metadata": {},
     "output_type": "execute_result"
    }
   ],
   "source": [
    "alumnos_ordenadores"
   ]
  },
  {
   "cell_type": "markdown",
   "id": "7ce3f781",
   "metadata": {},
   "source": [
    "#### Agregar a cada alumno la info del móvil que posee"
   ]
  },
  {
   "cell_type": "code",
   "execution_count": 60,
   "id": "eea53955-6f88-4caf-8bf4-7a8e655a7f18",
   "metadata": {},
   "outputs": [
    {
     "name": "stdin",
     "output_type": "stream",
     "text": [
      "Movil iPhone\n",
      "Movil Samsung\n",
      "Movil Xiaomi\n"
     ]
    },
    {
     "name": "stdout",
     "output_type": "stream",
     "text": [
      "[['Luis', 'Mac', 'iPhone'], ['Pedro', 'Lenovo', 'Samsung'], ['Ana', 'HP', 'Xiaomi']]\n"
     ]
    }
   ],
   "source": [
    "alumnos_ordenadores  = [ [\"Luis\", \"Mac\"] , [\"Pedro\", \"Lenovo\"], [\"Ana\", \"HP\"] ]\n",
    "i = 0\n",
    "while i < len(alumnos_ordenadores):\n",
    "    movil = input(\"Movil\")\n",
    "    info_alumno = alumnos_ordenadores[i]\n",
    "    #print(type(info_alumno))\n",
    "    info_alumno.append(movil)\n",
    "    #alumnos_ordenadores[i].append(movil)\n",
    "    i += 1\n",
    "    \n",
    "print(alumnos_ordenadores)"
   ]
  },
  {
   "cell_type": "markdown",
   "id": "452267af",
   "metadata": {},
   "source": [
    "#### Agrego una tartera vacía a cada alumno"
   ]
  },
  {
   "cell_type": "code",
   "execution_count": 62,
   "id": "54de5025-121e-428b-a530-8d6b909289e9",
   "metadata": {},
   "outputs": [],
   "source": [
    "i = 0\n",
    "while i < len(alumnos_ordenadores):\n",
    "    alumnos_ordenadores[i].append([])\n",
    "    i += 1"
   ]
  },
  {
   "cell_type": "code",
   "execution_count": 64,
   "id": "c3b98e81-0b8c-4790-b1f4-12d86f96b65f",
   "metadata": {},
   "outputs": [
    {
     "data": {
      "text/plain": [
       "[['Luis', 'Mac', 'iPhone', []],\n",
       " ['Pedro', 'Lenovo', 'Samsung', []],\n",
       " ['Ana', 'HP', 'Xiaomi', []]]"
      ]
     },
     "execution_count": 64,
     "metadata": {},
     "output_type": "execute_result"
    }
   ],
   "source": [
    "alumnos_ordenadores"
   ]
  },
  {
   "cell_type": "markdown",
   "id": "6451edac",
   "metadata": {},
   "source": [
    "#### Añado alimnentos de forma manual a la tartera de un alumno"
   ]
  },
  {
   "cell_type": "code",
   "execution_count": 67,
   "id": "096a55c6-4250-4048-ad21-65055258b496",
   "metadata": {},
   "outputs": [],
   "source": [
    "alumnos_ordenadores[0][3].append(\"Bocata\")\n",
    "alumnos_ordenadores[0][3].append(\"Agua\")\n",
    "alumnos_ordenadores[0][3].append(\"Manzana\")"
   ]
  },
  {
   "cell_type": "code",
   "execution_count": 69,
   "id": "4d8bea0f-02ee-40a1-8d79-3de48b9f7382",
   "metadata": {},
   "outputs": [
    {
     "data": {
      "text/plain": [
       "['Bocata', 'Agua', 'Manzana']"
      ]
     },
     "execution_count": 69,
     "metadata": {},
     "output_type": "execute_result"
    }
   ],
   "source": [
    "alumnos_ordenadores[0][3]"
   ]
  },
  {
   "cell_type": "code",
   "execution_count": 71,
   "id": "169faf61-62fd-4726-bb80-f1fda5212abf",
   "metadata": {},
   "outputs": [
    {
     "data": {
      "text/plain": [
       "[['Luis', 'Mac', 'iPhone', ['Bocata', 'Agua', 'Manzana']],\n",
       " ['Pedro', 'Lenovo', 'Samsung', []],\n",
       " ['Ana', 'HP', 'Xiaomi', []]]"
      ]
     },
     "execution_count": 71,
     "metadata": {},
     "output_type": "execute_result"
    }
   ],
   "source": [
    "alumnos_ordenadores"
   ]
  },
  {
   "cell_type": "code",
   "execution_count": 73,
   "id": "562b529e-8c95-4962-bdd1-9fd0b553471d",
   "metadata": {},
   "outputs": [],
   "source": [
    "alumnos_ordenadores[0][3].clear()"
   ]
  },
  {
   "cell_type": "code",
   "execution_count": 75,
   "id": "3ecd00f2-0cd3-47f7-a63c-3bef16af2420",
   "metadata": {},
   "outputs": [
    {
     "data": {
      "text/plain": [
       "[['Luis', 'Mac', 'iPhone', []],\n",
       " ['Pedro', 'Lenovo', 'Samsung', []],\n",
       " ['Ana', 'HP', 'Xiaomi', []]]"
      ]
     },
     "execution_count": 75,
     "metadata": {},
     "output_type": "execute_result"
    }
   ],
   "source": [
    "alumnos_ordenadores"
   ]
  },
  {
   "cell_type": "markdown",
   "id": "ca232287",
   "metadata": {},
   "source": [
    "### Enunciado:\n",
    "- Agrega alimentos a la tartera de un alumno concreto que introduzca el usuario. \n",
    "- A continuación se introducirán alimentos hasta que el usuario introduzca el caracter \"-\".\n",
    "```\n",
    "Alumno a agregar alimentos:  Pedro\n",
    "Alimento a agregar a la tartera (- para salir):  Coca-cola\n",
    "Alimento a agregar a la tartera (- para salir):  Arroz\n",
    "Alimento a agregar a la tartera (- para salir):  Pera\n",
    "Alimento a agregar a la tartera (- para salir):  -\n",
    "[['Luis', 'Mac', 'iPhone', []], ['Pedro', 'Lenovo', 'Samsung', ['Coca-cola', 'Arroz', 'Pera']], ['Ana', 'HP', 'Xiaomi', []]]\n",
    "```"
   ]
  },
  {
   "cell_type": "code",
   "execution_count": 47,
   "id": "3d011612-2fe3-471f-aed3-a9ca1132202f",
   "metadata": {},
   "outputs": [
    {
     "name": "stdin",
     "output_type": "stream",
     "text": [
      "Alumno a agregar alimentos:  Pedro\n",
      "Alimento a agregar a la tartera (- para salir):  Coca-cola\n",
      "Alimento a agregar a la tartera (- para salir):  Arroz\n",
      "Alimento a agregar a la tartera (- para salir):  Pera\n",
      "Alimento a agregar a la tartera (- para salir):  -\n"
     ]
    },
    {
     "name": "stdout",
     "output_type": "stream",
     "text": [
      "[['Luis', 'Mac', 'iPhone', []], ['Pedro', 'Lenovo', 'Samsung', ['Coca-cola', 'Arroz', 'Pera', 'Coca-cola', 'Arroz', 'Pera']], ['Ana', 'HP', 'Xiaomi', []]]\n"
     ]
    }
   ],
   "source": [
    "nombre_buscar = input(\"Alumno a agregar alimentos: \")\n",
    "i = 0\n",
    "while i < len(alumnos_ordenadores):\n",
    "    nombre_alumno = alumnos_ordenadores[i][0]\n",
    "    if nombre_alumno == nombre_buscar:\n",
    "        if len(alumnos_ordenadores[i]) == 3:    # Si tiene solo 3 elementos, no tiene tartera, la creo\n",
    "            alumnos_ordenadores[i].append([])\n",
    "        tartera = alumnos_ordenadores[i][3]\n",
    "        alimento = input(\"Alimento a agregar a la tartera (- para salir): \")\n",
    "        while alimento != \"-\":\n",
    "            tartera.append(alimento)\n",
    "            alimento = input(\"Alimento a agregar a la tartera (- para salir): \")\n",
    "    i += 1\n",
    "print(alumnos_ordenadores)"
   ]
  }
 ],
 "metadata": {
  "kernelspec": {
   "display_name": "Python 3 (ipykernel)",
   "language": "python",
   "name": "python3"
  },
  "language_info": {
   "codemirror_mode": {
    "name": "ipython",
    "version": 3
   },
   "file_extension": ".py",
   "mimetype": "text/x-python",
   "name": "python",
   "nbconvert_exporter": "python",
   "pygments_lexer": "ipython3",
   "version": "3.12.4"
  }
 },
 "nbformat": 4,
 "nbformat_minor": 5
}
