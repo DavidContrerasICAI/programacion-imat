{
 "cells": [
  {
   "cell_type": "code",
   "execution_count": 34,
   "id": "baadcdfe-fa3e-48ac-9257-bbd0d66ebf7f",
   "metadata": {},
   "outputs": [
    {
     "name": "stdout",
     "output_type": "stream",
     "text": [
      "i:3 - k:7 - suma:6.67\n",
      "i:4 - k:6 - suma:6.67\n"
     ]
    }
   ],
   "source": [
    "i = 0\n",
    "k = 10\n",
    "while i < k - 1:\n",
    "    if (i + k) % 2 == 0 and i >= 3:\n",
    "        #print(\"i:\", i, \"k:\", k)\n",
    "        print(f\"i:{i} - k:{k} - suma:{(i+k)*2/3:.2f}\")\n",
    "        # :n.mf\n",
    "    k -= 1\n",
    "    i += 1"
   ]
  },
  {
   "cell_type": "code",
   "execution_count": 36,
   "id": "afbc63e6-8744-46c2-8f85-97ff511a8a01",
   "metadata": {},
   "outputs": [],
   "source": [
    "i = 0"
   ]
  },
  {
   "cell_type": "code",
   "execution_count": 38,
   "id": "cf517f01-2fa5-44da-8a16-4565064fa4d0",
   "metadata": {},
   "outputs": [
    {
     "name": "stdout",
     "output_type": "stream",
     "text": [
      "0\n"
     ]
    }
   ],
   "source": [
    "print(i)"
   ]
  },
  {
   "cell_type": "code",
   "execution_count": 44,
   "id": "4ff9e05f-5ed9-41b3-8536-122e1bd7df6c",
   "metadata": {},
   "outputs": [
    {
     "data": {
      "text/plain": [
       "'dsds'"
      ]
     },
     "execution_count": 44,
     "metadata": {},
     "output_type": "execute_result"
    }
   ],
   "source": [
    "\"DSDS\".lower()"
   ]
  },
  {
   "cell_type": "code",
   "execution_count": null,
   "id": "ee73abef-25b7-47ba-accd-287fb11233b2",
   "metadata": {},
   "outputs": [],
   "source": []
  }
 ],
 "metadata": {
  "kernelspec": {
   "display_name": "Python 3 (ipykernel)",
   "language": "python",
   "name": "python3"
  },
  "language_info": {
   "codemirror_mode": {
    "name": "ipython",
    "version": 3
   },
   "file_extension": ".py",
   "mimetype": "text/x-python",
   "name": "python",
   "nbconvert_exporter": "python",
   "pygments_lexer": "ipython3",
   "version": "3.12.4"
  }
 },
 "nbformat": 4,
 "nbformat_minor": 5
}
