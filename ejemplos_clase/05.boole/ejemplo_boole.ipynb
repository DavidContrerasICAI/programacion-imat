{
 "cells": [
  {
   "cell_type": "code",
   "execution_count": 14,
   "id": "447bdbae-86f8-47a5-90f1-1a3a76867048",
   "metadata": {},
   "outputs": [
    {
     "name": "stdout",
     "output_type": "stream",
     "text": [
      "OK\n"
     ]
    }
   ],
   "source": [
    "a = 7\n",
    "b = 3\n",
    "cond = a > 5\n",
    "if cond:\n",
    "    print(\"OK\")"
   ]
  },
  {
   "cell_type": "code",
   "execution_count": 7,
   "id": "d4ebde74-6706-40fd-8cd5-892bed3abdf1",
   "metadata": {},
   "outputs": [
    {
     "name": "stdout",
     "output_type": "stream",
     "text": [
      "a y b son mayores que 7 y 3 respectivaente\n"
     ]
    }
   ],
   "source": [
    "a = 7\n",
    "b = 3\n",
    "if a > 5:\n",
    "    if b > 1:\n",
    "        print(\"a y b son mayores que 7 y 3 respectivaente\")\n",
    "else:\n",
    "    print(\"a no es mayor que 5\")"
   ]
  },
  {
   "cell_type": "code",
   "execution_count": 21,
   "id": "861b4541-5f40-45e3-8c02-f0d7e1c78dcd",
   "metadata": {},
   "outputs": [
    {
     "name": "stdout",
     "output_type": "stream",
     "text": [
      "a y b son mayores que 7 y 3 respectivaente\n"
     ]
    }
   ],
   "source": [
    "a = 7\n",
    "b = 3\n",
    "if a > 5 and  b > 1:\n",
    "        print(\"a y b son mayores que 7 y 3 respectivaente\")\n",
    "else:\n",
    "    print(\"a no es mayor que 5\")"
   ]
  },
  {
   "cell_type": "code",
   "execution_count": 23,
   "id": "781fba83-f4b9-4eb9-bd60-d9f824b07121",
   "metadata": {},
   "outputs": [
    {
     "name": "stdout",
     "output_type": "stream",
     "text": [
      "True\n"
     ]
    }
   ],
   "source": [
    "a = True\n",
    "b = False\n",
    "c = True\n",
    "circuito = a or b and c or c and a \n",
    "circuito = a or not (b and c) or (c and a)\n",
    "print(circuito)"
   ]
  },
  {
   "cell_type": "code",
   "execution_count": 31,
   "id": "947422f0-1e27-44ad-9cce-0f18cea1d46b",
   "metadata": {},
   "outputs": [],
   "source": [
    "hay_errores = True\n",
    "todo_bien = not hay_errores"
   ]
  },
  {
   "cell_type": "code",
   "execution_count": 33,
   "id": "0cb56653-6aef-4551-9744-15472a9db507",
   "metadata": {},
   "outputs": [
    {
     "name": "stdout",
     "output_type": "stream",
     "text": [
      "True False\n"
     ]
    }
   ],
   "source": [
    "print(hay_error, todo_bien)"
   ]
  },
  {
   "cell_type": "code",
   "execution_count": 37,
   "id": "30fc1259-da72-4573-af52-041d4051f59d",
   "metadata": {},
   "outputs": [
    {
     "name": "stdout",
     "output_type": "stream",
     "text": [
      "¿Aprueba? True\n"
     ]
    }
   ],
   "source": [
    "errores = False\n",
    "resultado_correcto = True\n",
    "estilo_correcto = True\n",
    "\n",
    "# Solo se aprobará si no hay errores, el resultado es correcto y el estilo es el adecuado.\n",
    "# Se tienen que cumplir los tres requisitos para aprobar\n",
    "print(\"¿Aprueba?\", not errores and resultado_correcto and estilo_correcto)  "
   ]
  },
  {
   "cell_type": "code",
   "execution_count": 43,
   "id": "623012da-7225-432c-a086-c323deeafd2c",
   "metadata": {},
   "outputs": [
    {
     "name": "stdout",
     "output_type": "stream",
     "text": [
      "¿Aprueba? True\n",
      "¿Aprueba? True\n"
     ]
    }
   ],
   "source": [
    "errores = False\n",
    "resultado_correcto = False\n",
    "estilo_correcto = True\n",
    "\n",
    "# Se podrá aprobar si el resultado es correcto o si no hay errores y el estilo es correcto\n",
    "print(\"¿Aprueba?\", resultado_correcto or not errores and estilo_correcto)  \n",
    "\n",
    "# Sería equivalente por la prioridad del OR a la siguiente expresión, aunque no será necesario\n",
    "print(\"¿Aprueba?\", resultado_correcto or (not errores and estilo_correcto)) "
   ]
  },
  {
   "cell_type": "code",
   "execution_count": null,
   "id": "76b6793a-7e5f-4918-8eea-4e57b772fc85",
   "metadata": {},
   "outputs": [],
   "source": []
  }
 ],
 "metadata": {
  "kernelspec": {
   "display_name": "Python 3 (ipykernel)",
   "language": "python",
   "name": "python3"
  },
  "language_info": {
   "codemirror_mode": {
    "name": "ipython",
    "version": 3
   },
   "file_extension": ".py",
   "mimetype": "text/x-python",
   "name": "python",
   "nbconvert_exporter": "python",
   "pygments_lexer": "ipython3",
   "version": "3.12.4"
  }
 },
 "nbformat": 4,
 "nbformat_minor": 5
}
