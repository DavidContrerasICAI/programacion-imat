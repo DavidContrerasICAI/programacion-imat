{
 "cells": [
  {
   "cell_type": "code",
   "execution_count": 1,
   "id": "1430dbe2-d067-4906-be07-d4daa4fa4346",
   "metadata": {},
   "outputs": [],
   "source": [
    "peliculas = [(\"peli\", \"alumno\"), (\"peli1\", \"alumno1\")]"
   ]
  },
  {
   "cell_type": "code",
   "execution_count": 3,
   "id": "fe785bf5-389f-410d-8428-4e454dd70fa2",
   "metadata": {},
   "outputs": [
    {
     "data": {
      "text/plain": [
       "[('peli', 'alumno'), ('peli1', 'alumno1')]"
      ]
     },
     "execution_count": 3,
     "metadata": {},
     "output_type": "execute_result"
    }
   ],
   "source": [
    "peliculas"
   ]
  },
  {
   "cell_type": "code",
   "execution_count": 7,
   "id": "a5a0f53c-7f00-410a-bf65-31b5f9fadb97",
   "metadata": {},
   "outputs": [
    {
     "data": {
      "text/plain": [
       "'peli'"
      ]
     },
     "execution_count": 7,
     "metadata": {},
     "output_type": "execute_result"
    }
   ],
   "source": [
    "peliculas[0][0]"
   ]
  },
  {
   "cell_type": "code",
   "execution_count": 21,
   "id": "a5e77c84-d333-4754-83ce-ad87f9235db8",
   "metadata": {},
   "outputs": [],
   "source": [
    "peliculas = {\"alumno1\": \"peli1\", \"alumno2\": \"peli2\", \"alumno3\": \"peli1\"}"
   ]
  },
  {
   "cell_type": "code",
   "execution_count": 11,
   "id": "008dcd6a-b303-4c53-a1fc-d19a1de4e45a",
   "metadata": {},
   "outputs": [
    {
     "data": {
      "text/plain": [
       "{'alumno1': 'peli1', 'alumno2': 'peli2', 'alumno3': 'peli3'}"
      ]
     },
     "execution_count": 11,
     "metadata": {},
     "output_type": "execute_result"
    }
   ],
   "source": [
    "peliculas"
   ]
  },
  {
   "cell_type": "code",
   "execution_count": 13,
   "id": "cbb13ee5-bbd8-4ec2-bf7f-5fba261a5fed",
   "metadata": {},
   "outputs": [
    {
     "data": {
      "text/plain": [
       "'peli1'"
      ]
     },
     "execution_count": 13,
     "metadata": {},
     "output_type": "execute_result"
    }
   ],
   "source": [
    "peliculas[\"alumno1\"]"
   ]
  },
  {
   "cell_type": "code",
   "execution_count": 27,
   "id": "081febb1-8ec7-4d91-91d0-80c92924a9d2",
   "metadata": {},
   "outputs": [
    {
     "name": "stdin",
     "output_type": "stream",
     "text": [
      "Alumno:  Luis\n"
     ]
    },
    {
     "name": "stdout",
     "output_type": "stream",
     "text": [
      "Luis no existe\n"
     ]
    }
   ],
   "source": [
    "nombre = input(\"Alumno: \")\n",
    "if nombre in peliculas:\n",
    "    print(peliculas[nombre])\n",
    "else:\n",
    "    print(f\"{nombre} no existe\")"
   ]
  },
  {
   "cell_type": "code",
   "execution_count": 29,
   "id": "5bd29a5c-efc9-4e08-830a-ad4a1621f53c",
   "metadata": {},
   "outputs": [],
   "source": [
    "peliculas[\"alumno1\"] = \"Matrix\"\n",
    "# peliculas[KEY] = VALUE"
   ]
  },
  {
   "cell_type": "code",
   "execution_count": 31,
   "id": "f869e513-65c7-44e5-939e-51271599080f",
   "metadata": {},
   "outputs": [
    {
     "data": {
      "text/plain": [
       "'Matrix'"
      ]
     },
     "execution_count": 31,
     "metadata": {},
     "output_type": "execute_result"
    }
   ],
   "source": [
    "peliculas[\"alumno1\"]"
   ]
  },
  {
   "cell_type": "code",
   "execution_count": 33,
   "id": "2fb754ca-a75e-4aa0-a234-6e941d217421",
   "metadata": {},
   "outputs": [],
   "source": [
    "pelis = (\"peli1\", 7)"
   ]
  },
  {
   "cell_type": "code",
   "execution_count": 35,
   "id": "2a3d913f-8959-4303-b276-252825db8ce6",
   "metadata": {},
   "outputs": [
    {
     "name": "stdout",
     "output_type": "stream",
     "text": [
      "7\n"
     ]
    }
   ],
   "source": [
    "nombre, valoracion = pelis\n",
    "print(valoracion)"
   ]
  },
  {
   "cell_type": "code",
   "execution_count": 37,
   "id": "9fb35146-29bd-47c8-8348-cc5b878476fd",
   "metadata": {},
   "outputs": [
    {
     "name": "stdout",
     "output_type": "stream",
     "text": [
      "{'alumno1': [('peli1', 10), ('peli2', 4)], 'alumno2': [('peli4', 8), ('peli0', 9)], 'alumno3': [('peli3', 7), ('peli5', 1)]}\n"
     ]
    }
   ],
   "source": [
    "peliculas = {\"alumno1\": [(\"peli1\", 10), (\"peli2\", 4)], \"alumno2\": [(\"peli4\", 8), (\"peli0\", 9)], \"alumno3\": [(\"peli3\", 7), (\"peli5\", 1)]}\n",
    "print(peliculas)"
   ]
  },
  {
   "cell_type": "code",
   "execution_count": 39,
   "id": "b49dc7f6-5b41-460c-866c-b28f38d60f8d",
   "metadata": {},
   "outputs": [
    {
     "name": "stdout",
     "output_type": "stream",
     "text": [
      "alumno1\n",
      "alumno2\n",
      "alumno3\n"
     ]
    }
   ],
   "source": [
    "for clave in peliculas:\n",
    "    print(clave)"
   ]
  },
  {
   "cell_type": "code",
   "execution_count": 43,
   "id": "f8bc1413-3d68-4b34-8776-cb0374971c7c",
   "metadata": {},
   "outputs": [
    {
     "name": "stdout",
     "output_type": "stream",
     "text": [
      "alumno1 -> [('peli1', 10), ('peli2', 4)]\n",
      "alumno2 -> [('peli4', 8), ('peli0', 9)]\n",
      "alumno3 -> [('peli3', 7), ('peli5', 1)]\n"
     ]
    }
   ],
   "source": [
    "for clave in peliculas:\n",
    "    print(f\"{clave} -> {peliculas[clave]}\")"
   ]
  },
  {
   "cell_type": "code",
   "execution_count": 45,
   "id": "a41212d8-040e-414f-9cd4-adf00ee211ee",
   "metadata": {},
   "outputs": [
    {
     "data": {
      "text/plain": [
       "dict_items([('alumno1', [('peli1', 10), ('peli2', 4)]), ('alumno2', [('peli4', 8), ('peli0', 9)]), ('alumno3', [('peli3', 7), ('peli5', 1)])])"
      ]
     },
     "execution_count": 45,
     "metadata": {},
     "output_type": "execute_result"
    }
   ],
   "source": [
    "peliculas.items()"
   ]
  },
  {
   "cell_type": "code",
   "execution_count": 47,
   "id": "eab48821-fb4c-4a45-a041-4a09c13d8136",
   "metadata": {},
   "outputs": [
    {
     "data": {
      "text/plain": [
       "dict_keys(['alumno1', 'alumno2', 'alumno3'])"
      ]
     },
     "execution_count": 47,
     "metadata": {},
     "output_type": "execute_result"
    }
   ],
   "source": [
    "peliculas.keys()"
   ]
  },
  {
   "cell_type": "code",
   "execution_count": 49,
   "id": "0d1746e0-f5e5-4fd8-b68f-b14389738c77",
   "metadata": {},
   "outputs": [
    {
     "data": {
      "text/plain": [
       "dict_values([[('peli1', 10), ('peli2', 4)], [('peli4', 8), ('peli0', 9)], [('peli3', 7), ('peli5', 1)]])"
      ]
     },
     "execution_count": 49,
     "metadata": {},
     "output_type": "execute_result"
    }
   ],
   "source": [
    "peliculas.values()"
   ]
  },
  {
   "cell_type": "code",
   "execution_count": 51,
   "id": "f22a861c-bb16-486b-b972-65864333a206",
   "metadata": {},
   "outputs": [
    {
     "name": "stdout",
     "output_type": "stream",
     "text": [
      "[('peli1', 10), ('peli2', 4)]\n",
      "[('peli4', 8), ('peli0', 9)]\n",
      "[('peli3', 7), ('peli5', 1)]\n"
     ]
    }
   ],
   "source": [
    "for lista_pelicula in peliculas.values():\n",
    "    print(lista_pelicula)"
   ]
  },
  {
   "cell_type": "code",
   "execution_count": 53,
   "id": "f8c53d5a-7cc9-4a0c-b04f-098b62ffff59",
   "metadata": {},
   "outputs": [
    {
     "name": "stdout",
     "output_type": "stream",
     "text": [
      "alumno1 -> [('peli1', 10), ('peli2', 4)]\n",
      "alumno2 -> [('peli4', 8), ('peli0', 9)]\n",
      "alumno3 -> [('peli3', 7), ('peli5', 1)]\n"
     ]
    }
   ],
   "source": [
    "for alumno, lista_peliculas in peliculas.items():\n",
    "    print(f\"{alumno} -> {lista_peliculas}\")"
   ]
  },
  {
   "cell_type": "code",
   "execution_count": null,
   "id": "dc7d25e0-d11d-493d-8f29-82fc325d22cc",
   "metadata": {},
   "outputs": [],
   "source": []
  }
 ],
 "metadata": {
  "kernelspec": {
   "display_name": "Python 3 (ipykernel)",
   "language": "python",
   "name": "python3"
  },
  "language_info": {
   "codemirror_mode": {
    "name": "ipython",
    "version": 3
   },
   "file_extension": ".py",
   "mimetype": "text/x-python",
   "name": "python",
   "nbconvert_exporter": "python",
   "pygments_lexer": "ipython3",
   "version": "3.12.4"
  }
 },
 "nbformat": 4,
 "nbformat_minor": 5
}
