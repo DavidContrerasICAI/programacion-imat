{
 "cells": [
  {
   "cell_type": "code",
   "execution_count": 11,
   "id": "6324339e-dca1-4ac7-81af-674ba2edaeaf",
   "metadata": {},
   "outputs": [
    {
     "data": {
      "text/plain": [
       "'2, 4'"
      ]
     },
     "execution_count": 11,
     "metadata": {},
     "output_type": "execute_result"
    }
   ],
   "source": [
    "punto_str = \"2, 4\"\n",
    "punto_str"
   ]
  },
  {
   "cell_type": "code",
   "execution_count": 13,
   "id": "b49ed367-a586-454a-a50b-a9e692c01c27",
   "metadata": {},
   "outputs": [],
   "source": [
    "x, y = punto_str, \"asasa\""
   ]
  },
  {
   "cell_type": "code",
   "execution_count": 15,
   "id": "48d31426-b79b-43c1-87ef-89a96d993c39",
   "metadata": {},
   "outputs": [
    {
     "data": {
      "text/plain": [
       "'2, 4'"
      ]
     },
     "execution_count": 15,
     "metadata": {},
     "output_type": "execute_result"
    }
   ],
   "source": [
    "x"
   ]
  },
  {
   "cell_type": "code",
   "execution_count": 27,
   "id": "51e8c0cc-9c76-4c62-9593-315cce45052c",
   "metadata": {},
   "outputs": [
    {
     "data": {
      "text/plain": [
       "'2, 4'"
      ]
     },
     "execution_count": 27,
     "metadata": {},
     "output_type": "execute_result"
    }
   ],
   "source": [
    "punto_str"
   ]
  },
  {
   "cell_type": "code",
   "execution_count": 29,
   "id": "443635e7-8118-4e4c-9742-c1937b0fbc6f",
   "metadata": {},
   "outputs": [
    {
     "name": "stdout",
     "output_type": "stream",
     "text": [
      "2 4\n"
     ]
    }
   ],
   "source": [
    "x = punto_str[0]\n",
    "y = punto_str[3]\n",
    "print(x, y)"
   ]
  },
  {
   "cell_type": "code",
   "execution_count": 71,
   "id": "748bf3de-36ba-498f-aeb3-f526dfc52c74",
   "metadata": {},
   "outputs": [
    {
     "name": "stdin",
     "output_type": "stream",
     "text": [
      "poli?:  Cuadrado\n",
      "Pto:  0,0\n",
      "Pto:  0,  4\n",
      "Pto:  4,4\n",
      "Pto:  4,     0\n"
     ]
    },
    {
     "data": {
      "text/plain": [
       "{'Cuadrado': [(0, 0), (0, 4), (4, 4), (4, 0)]}"
      ]
     },
     "execution_count": 71,
     "metadata": {},
     "output_type": "execute_result"
    }
   ],
   "source": [
    "poligonos = {}\n",
    "num_puntos = 4\n",
    "nombre_poligono = input(\"poli?: \")\n",
    "puntos = []\n",
    "for i in range(num_puntos):\n",
    "    punto_str = input(\"Pto: \")\n",
    "    lista = punto_str.split(\",\")\n",
    "    x = int(lista[0].replace(\" \", \"\"))\n",
    "    y = int(lista[1].replace(\" \", \"\"))\n",
    "    puntos.append((x, y))\n",
    "    \n",
    "poligonos[nombre_poligono] = puntos\n",
    "poligonos"
   ]
  },
  {
   "cell_type": "code",
   "execution_count": 45,
   "id": "8d0914ce-e0d9-4ca0-9bd7-78ae48f1b5e5",
   "metadata": {},
   "outputs": [
    {
     "data": {
      "text/plain": [
       "'2,5'"
      ]
     },
     "execution_count": 45,
     "metadata": {},
     "output_type": "execute_result"
    }
   ],
   "source": [
    "s = \"  2,   5   \"\n",
    "s.replace(\" \", \"\")"
   ]
  },
  {
   "cell_type": "code",
   "execution_count": 51,
   "id": "ba9f58aa-5899-47d2-bb40-ca38eb161fc7",
   "metadata": {},
   "outputs": [],
   "source": [
    "poligonos = {}\n",
    "poligonos[\"poligono1\"] =  [(3, 4), (5, 6), (8, 9), (12, 1)]\n"
   ]
  },
  {
   "cell_type": "code",
   "execution_count": 53,
   "id": "03078e77-5c51-4328-8e28-68b333a39783",
   "metadata": {},
   "outputs": [
    {
     "data": {
      "text/plain": [
       "{'poligono1': [(3, 4), (5, 6), (8, 9), (12, 1)]}"
      ]
     },
     "execution_count": 53,
     "metadata": {},
     "output_type": "execute_result"
    }
   ],
   "source": [
    "poligonos"
   ]
  },
  {
   "cell_type": "code",
   "execution_count": 55,
   "id": "88d5ee06-3b51-4c1d-ba9c-f2376de5557d",
   "metadata": {},
   "outputs": [
    {
     "data": {
      "text/plain": [
       "[(3, 4), (5, 6), (8, 9), (12, 1)]"
      ]
     },
     "execution_count": 55,
     "metadata": {},
     "output_type": "execute_result"
    }
   ],
   "source": [
    "poligonos[\"poligono1\"]"
   ]
  },
  {
   "cell_type": "code",
   "execution_count": 57,
   "id": "0160ef7e-c422-4aa5-a7ed-8dbc4aa4e288",
   "metadata": {},
   "outputs": [],
   "source": [
    "puntos = poligonos[\"poligono1\"]"
   ]
  },
  {
   "cell_type": "code",
   "execution_count": 65,
   "id": "eb5b81b0-f950-4eee-a1b3-7909c9c5cafb",
   "metadata": {},
   "outputs": [
    {
     "data": {
      "text/plain": [
       "4"
      ]
     },
     "execution_count": 65,
     "metadata": {},
     "output_type": "execute_result"
    }
   ],
   "source": [
    "puntos[0][1]"
   ]
  },
  {
   "cell_type": "code",
   "execution_count": 67,
   "id": "e845e29d-1881-4059-b802-fb2193541f17",
   "metadata": {},
   "outputs": [
    {
     "data": {
      "text/plain": [
       "4"
      ]
     },
     "execution_count": 67,
     "metadata": {},
     "output_type": "execute_result"
    }
   ],
   "source": [
    "poligonos[\"poligono1\"][0][1]"
   ]
  },
  {
   "cell_type": "code",
   "execution_count": 69,
   "id": "63b30bd0-8b82-47e2-b0e1-a112920e095a",
   "metadata": {},
   "outputs": [
    {
     "data": {
      "text/plain": [
       "4"
      ]
     },
     "execution_count": 69,
     "metadata": {},
     "output_type": "execute_result"
    }
   ],
   "source": [
    "mi_poli = poligonos[\"poligono1\"]\n",
    "mi_punto = mi_poli[0]\n",
    "x, y = mi_punto\n",
    "y"
   ]
  },
  {
   "cell_type": "code",
   "execution_count": null,
   "id": "40ad4bce-a4e9-4603-8e16-e0a28a373ab7",
   "metadata": {},
   "outputs": [],
   "source": []
  }
 ],
 "metadata": {
  "kernelspec": {
   "display_name": "Python 3 (ipykernel)",
   "language": "python",
   "name": "python3"
  },
  "language_info": {
   "codemirror_mode": {
    "name": "ipython",
    "version": 3
   },
   "file_extension": ".py",
   "mimetype": "text/x-python",
   "name": "python",
   "nbconvert_exporter": "python",
   "pygments_lexer": "ipython3",
   "version": "3.12.4"
  }
 },
 "nbformat": 4,
 "nbformat_minor": 5
}
