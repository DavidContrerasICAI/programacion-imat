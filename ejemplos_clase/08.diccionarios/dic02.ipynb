{
 "cells": [
  {
   "cell_type": "code",
   "execution_count": 1,
   "id": "1430dbe2-d067-4906-be07-d4daa4fa4346",
   "metadata": {},
   "outputs": [],
   "source": [
    "peliculas = [(\"peli\", \"alumno\"), (\"peli1\", \"alumno1\")]"
   ]
  },
  {
   "cell_type": "code",
   "execution_count": 3,
   "id": "fe785bf5-389f-410d-8428-4e454dd70fa2",
   "metadata": {},
   "outputs": [
    {
     "data": {
      "text/plain": [
       "[('peli', 'alumno'), ('peli1', 'alumno1')]"
      ]
     },
     "execution_count": 3,
     "metadata": {},
     "output_type": "execute_result"
    }
   ],
   "source": [
    "peliculas"
   ]
  },
  {
   "cell_type": "code",
   "execution_count": 7,
   "id": "a5a0f53c-7f00-410a-bf65-31b5f9fadb97",
   "metadata": {},
   "outputs": [
    {
     "data": {
      "text/plain": [
       "'peli'"
      ]
     },
     "execution_count": 7,
     "metadata": {},
     "output_type": "execute_result"
    }
   ],
   "source": [
    "peliculas[0][0]"
   ]
  },
  {
   "cell_type": "code",
   "execution_count": 21,
   "id": "a5e77c84-d333-4754-83ce-ad87f9235db8",
   "metadata": {},
   "outputs": [],
   "source": [
    "peliculas = {\"alumno1\": \"peli1\", \"alumno2\": \"peli2\", \"alumno3\": \"peli1\"}"
   ]
  },
  {
   "cell_type": "code",
   "execution_count": 11,
   "id": "008dcd6a-b303-4c53-a1fc-d19a1de4e45a",
   "metadata": {},
   "outputs": [
    {
     "data": {
      "text/plain": [
       "{'alumno1': 'peli1', 'alumno2': 'peli2', 'alumno3': 'peli3'}"
      ]
     },
     "execution_count": 11,
     "metadata": {},
     "output_type": "execute_result"
    }
   ],
   "source": [
    "peliculas"
   ]
  },
  {
   "cell_type": "code",
   "execution_count": 13,
   "id": "cbb13ee5-bbd8-4ec2-bf7f-5fba261a5fed",
   "metadata": {},
   "outputs": [
    {
     "data": {
      "text/plain": [
       "'peli1'"
      ]
     },
     "execution_count": 13,
     "metadata": {},
     "output_type": "execute_result"
    }
   ],
   "source": [
    "peliculas[\"alumno1\"]"
   ]
  },
  {
   "cell_type": "code",
   "execution_count": 27,
   "id": "081febb1-8ec7-4d91-91d0-80c92924a9d2",
   "metadata": {},
   "outputs": [
    {
     "name": "stdin",
     "output_type": "stream",
     "text": [
      "Alumno:  Luis\n"
     ]
    },
    {
     "name": "stdout",
     "output_type": "stream",
     "text": [
      "Luis no existe\n"
     ]
    }
   ],
   "source": [
    "nombre = input(\"Alumno: \")\n",
    "if nombre in peliculas:\n",
    "    print(peliculas[nombre])\n",
    "else:\n",
    "    print(f\"{nombre} no existe\")"
   ]
  },
  {
   "cell_type": "code",
   "execution_count": 29,
   "id": "5bd29a5c-efc9-4e08-830a-ad4a1621f53c",
   "metadata": {},
   "outputs": [],
   "source": [
    "peliculas[\"alumno1\"] = \"Matrix\"\n",
    "# peliculas[KEY] = VALUE"
   ]
  },
  {
   "cell_type": "code",
   "execution_count": 31,
   "id": "f869e513-65c7-44e5-939e-51271599080f",
   "metadata": {},
   "outputs": [
    {
     "data": {
      "text/plain": [
       "'Matrix'"
      ]
     },
     "execution_count": 31,
     "metadata": {},
     "output_type": "execute_result"
    }
   ],
   "source": [
    "peliculas[\"alumno1\"]"
   ]
  },
  {
   "cell_type": "code",
   "execution_count": null,
   "id": "2fb754ca-a75e-4aa0-a234-6e941d217421",
   "metadata": {},
   "outputs": [],
   "source": []
  }
 ],
 "metadata": {
  "kernelspec": {
   "display_name": "Python 3 (ipykernel)",
   "language": "python",
   "name": "python3"
  },
  "language_info": {
   "codemirror_mode": {
    "name": "ipython",
    "version": 3
   },
   "file_extension": ".py",
   "mimetype": "text/x-python",
   "name": "python",
   "nbconvert_exporter": "python",
   "pygments_lexer": "ipython3",
   "version": "3.12.4"
  }
 },
 "nbformat": 4,
 "nbformat_minor": 5
}
