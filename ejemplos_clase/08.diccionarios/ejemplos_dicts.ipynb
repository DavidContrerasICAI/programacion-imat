{
 "cells": [
  {
   "cell_type": "markdown",
   "id": "5fde4436-bd2f-4e16-a091-3c7676e4d178",
   "metadata": {},
   "source": [
    "# for in"
   ]
  },
  {
   "cell_type": "code",
   "execution_count": 209,
   "id": "02dfbb9b-05f0-4a78-b7ce-4e64db392aad",
   "metadata": {},
   "outputs": [
    {
     "name": "stdout",
     "output_type": "stream",
     "text": [
      "BMW\n",
      "Seat\n",
      "Audi\n"
     ]
    }
   ],
   "source": [
    "coches = [\"BMW\", \"Seat\", \"Audi\"]\n",
    "i = 0\n",
    "while i < len(coches):\n",
    "    print(coches[i])\n",
    "    i += 1"
   ]
  },
  {
   "cell_type": "code",
   "execution_count": 211,
   "id": "9b6ee2c2-9858-47d1-8aa8-0734d70778fa",
   "metadata": {},
   "outputs": [
    {
     "name": "stdout",
     "output_type": "stream",
     "text": [
      "BMW\n",
      "Seat\n",
      "Audi\n"
     ]
    }
   ],
   "source": [
    "coches = [\"BMW\", \"Seat\", \"Audi\"]\n",
    "for coche in coches:\n",
    "    print(coche)"
   ]
  },
  {
   "cell_type": "code",
   "execution_count": 217,
   "id": "f0f24a85-2d1e-4b2b-ac97-9d55aeed94df",
   "metadata": {},
   "outputs": [
    {
     "name": "stdout",
     "output_type": "stream",
     "text": [
      "0, 1, 2, 3, 4, 5, 6, 7, 8, 9, "
     ]
    }
   ],
   "source": [
    "for numero in range(10):\n",
    "    print(numero, end=\", \")"
   ]
  },
  {
   "cell_type": "code",
   "execution_count": 219,
   "id": "2c6b3528-f8bc-4737-824d-efd51e455e4c",
   "metadata": {},
   "outputs": [
    {
     "name": "stdout",
     "output_type": "stream",
     "text": [
      "5, 7, 9, 11, 13, 15, 17, 19, "
     ]
    }
   ],
   "source": [
    "for numero in range(5, 20, 2):\n",
    "    print(numero, end=\", \")"
   ]
  },
  {
   "cell_type": "code",
   "execution_count": 221,
   "id": "35f447f5-e891-45a2-91a6-c7f9a5c37f90",
   "metadata": {},
   "outputs": [
    {
     "name": "stdout",
     "output_type": "stream",
     "text": [
      "BMW\n",
      "Seat\n",
      "Audi\n"
     ]
    }
   ],
   "source": [
    "for i in range(len(coches)):\n",
    "    print(coches[i])"
   ]
  },
  {
   "cell_type": "code",
   "execution_count": 162,
   "id": "f81bc691-a24f-42c6-b455-3c86afc6fbb5",
   "metadata": {},
   "outputs": [
    {
     "data": {
      "text/plain": [
       "[12, 2, 12, 34]"
      ]
     },
     "execution_count": 162,
     "metadata": {},
     "output_type": "execute_result"
    }
   ],
   "source": [
    "coches = [\"BMW\", \"Seat\", \"Audi\"]\n",
    "coches\n",
    "edades = [12, 2, 12, 34]\n",
    "edades"
   ]
  },
  {
   "cell_type": "code",
   "execution_count": 223,
   "id": "450e6dfa-ac63-42e6-a2ad-b88d21d2dc08",
   "metadata": {},
   "outputs": [
    {
     "name": "stdout",
     "output_type": "stream",
     "text": [
      "hola\n",
      "hola\n",
      "hola\n"
     ]
    }
   ],
   "source": [
    "for x in range(3):\n",
    "    print(\"hola\")"
   ]
  },
  {
   "cell_type": "code",
   "execution_count": 225,
   "id": "ef85bea4-2342-4343-9e62-6e8f0fe3e146",
   "metadata": {},
   "outputs": [
    {
     "name": "stdout",
     "output_type": "stream",
     "text": [
      "hola\n",
      "hola\n",
      "hola\n"
     ]
    }
   ],
   "source": [
    "for _ in range(3):\n",
    "    print(\"hola\")"
   ]
  },
  {
   "cell_type": "markdown",
   "id": "6f6e418b-662c-4491-bab7-52445398a8db",
   "metadata": {},
   "source": [
    "# Tuplas"
   ]
  },
  {
   "cell_type": "code",
   "execution_count": 181,
   "id": "0d32e0da-827d-4aaa-a96a-78d4607c028e",
   "metadata": {},
   "outputs": [
    {
     "name": "stdout",
     "output_type": "stream",
     "text": [
      "<class 'tuple'>\n",
      "<class 'list'>\n"
     ]
    }
   ],
   "source": [
    "coordenadas = (12, 34)\n",
    "coordenadas_list = [12, 34]\n",
    "print(type(coordenadas))\n",
    "print(type(coordenadas_list))"
   ]
  },
  {
   "cell_type": "code",
   "execution_count": 183,
   "id": "f481ed03-ee0c-4849-87f0-450b051036a0",
   "metadata": {},
   "outputs": [],
   "source": [
    "coordenadas_list[0] = 22"
   ]
  },
  {
   "cell_type": "code",
   "execution_count": 185,
   "id": "c5b0354c-5a67-4ef7-839c-8ee7f2332063",
   "metadata": {},
   "outputs": [
    {
     "ename": "TypeError",
     "evalue": "'tuple' object does not support item assignment",
     "output_type": "error",
     "traceback": [
      "\u001b[1;31m---------------------------------------------------------------------------\u001b[0m",
      "\u001b[1;31mTypeError\u001b[0m                                 Traceback (most recent call last)",
      "Cell \u001b[1;32mIn[185], line 1\u001b[0m\n\u001b[1;32m----> 1\u001b[0m coordenadas[\u001b[38;5;241m0\u001b[39m] \u001b[38;5;241m=\u001b[39m \u001b[38;5;241m22\u001b[39m\n",
      "\u001b[1;31mTypeError\u001b[0m: 'tuple' object does not support item assignment"
     ]
    }
   ],
   "source": [
    "coordenadas[0] = 22"
   ]
  },
  {
   "cell_type": "code",
   "execution_count": null,
   "id": "8a74161b-0b00-4d68-a6c3-79d7216d41f4",
   "metadata": {},
   "outputs": [],
   "source": []
  },
  {
   "cell_type": "code",
   "execution_count": 191,
   "id": "0ed30e65-254d-42f0-bdcd-14cc86719c5f",
   "metadata": {},
   "outputs": [
    {
     "data": {
      "text/plain": [
       "(0, 1, 2)"
      ]
     },
     "execution_count": 191,
     "metadata": {},
     "output_type": "execute_result"
    }
   ],
   "source": [
    "a = 0, 1, 2\n",
    "a"
   ]
  },
  {
   "cell_type": "code",
   "execution_count": 197,
   "id": "875f0938-837d-44e9-8bae-5063d0c7c225",
   "metadata": {},
   "outputs": [
    {
     "data": {
      "text/plain": [
       "('Luis', 35, 'Madrid')"
      ]
     },
     "execution_count": 197,
     "metadata": {},
     "output_type": "execute_result"
    }
   ],
   "source": [
    "persona = (\"Luis\", 34, \"Madrid\")\n",
    "#persona[1] = persona[1] + 1     # ERRORORPOROOROROROROR\n",
    "persona = (persona[0], persona[1] + 1, persona[2])\n",
    "persona"
   ]
  },
  {
   "cell_type": "code",
   "execution_count": 207,
   "id": "68f53f17-2372-4914-b3e1-fa4388bf2394",
   "metadata": {},
   "outputs": [],
   "source": [
    "persona = (\"Luis\", 34, \"Madrid\")\n",
    "nombre, edad, ciudad = persona\n",
    "persona = (nombre, edad + 1, ciudad)"
   ]
  },
  {
   "cell_type": "code",
   "execution_count": 201,
   "id": "5608e348-e21f-49fb-b0b9-c6dc53f86dc5",
   "metadata": {},
   "outputs": [
    {
     "data": {
      "text/plain": [
       "'Luis'"
      ]
     },
     "execution_count": 201,
     "metadata": {},
     "output_type": "execute_result"
    }
   ],
   "source": [
    "nombre"
   ]
  },
  {
   "cell_type": "code",
   "execution_count": 167,
   "id": "d8f76fb2-74b4-4b1f-848d-070199f94e43",
   "metadata": {},
   "outputs": [],
   "source": [
    "x = 12\n",
    "y = 34\n",
    "coordenadas = (x, y)"
   ]
  },
  {
   "cell_type": "code",
   "execution_count": 169,
   "id": "d483601c-56c6-4179-a125-87db350537c4",
   "metadata": {},
   "outputs": [
    {
     "data": {
      "text/plain": [
       "(12, 34)"
      ]
     },
     "execution_count": 169,
     "metadata": {},
     "output_type": "execute_result"
    }
   ],
   "source": [
    "coordenadas"
   ]
  },
  {
   "cell_type": "code",
   "execution_count": 175,
   "id": "a705bc59-6664-4b3b-a01c-0211c07fd2ae",
   "metadata": {},
   "outputs": [
    {
     "ename": "IndexError",
     "evalue": "tuple index out of range",
     "output_type": "error",
     "traceback": [
      "\u001b[1;31m---------------------------------------------------------------------------\u001b[0m",
      "\u001b[1;31mIndexError\u001b[0m                                Traceback (most recent call last)",
      "Cell \u001b[1;32mIn[175], line 1\u001b[0m\n\u001b[1;32m----> 1\u001b[0m coordenadas[\u001b[38;5;241m2\u001b[39m]\n",
      "\u001b[1;31mIndexError\u001b[0m: tuple index out of range"
     ]
    }
   ],
   "source": [
    "coordenadas[2]"
   ]
  },
  {
   "cell_type": "code",
   "execution_count": null,
   "id": "8c47694d-c245-4154-82fa-f542f1f071a1",
   "metadata": {},
   "outputs": [],
   "source": []
  },
  {
   "cell_type": "code",
   "execution_count": null,
   "id": "a0dfdec7-dd63-40a4-841c-36ba5f6b0b9c",
   "metadata": {},
   "outputs": [],
   "source": []
  },
  {
   "cell_type": "code",
   "execution_count": null,
   "id": "9253cdff-e509-46e5-9d70-cf99d876d2e4",
   "metadata": {},
   "outputs": [],
   "source": []
  },
  {
   "cell_type": "markdown",
   "id": "624a8576-ab89-4d10-b672-1def46bb1f87",
   "metadata": {},
   "source": [
    "# Dict"
   ]
  },
  {
   "cell_type": "code",
   "execution_count": 229,
   "id": "fbd46961-7056-42be-a878-7762a2ebab07",
   "metadata": {},
   "outputs": [
    {
     "data": {
      "text/plain": [
       "{'Luis': 'iPhone', 'Ana': 'Samsung'}"
      ]
     },
     "execution_count": 229,
     "metadata": {},
     "output_type": "execute_result"
    }
   ],
   "source": [
    "alumnos = {\"Luis\" : \"iPhone\", \"Ana\": \"Samsung\"}\n",
    "alumnos"
   ]
  },
  {
   "cell_type": "markdown",
   "id": "63626ffd-a996-401d-9104-8ec31cbae3b1",
   "metadata": {},
   "source": [
    "## Caso del Outfit \n",
    "Punto de partida: listas de listas de listas."
   ]
  },
  {
   "cell_type": "code",
   "execution_count": 243,
   "id": "efb2900e-fc7c-4325-8417-38813efc39ca",
   "metadata": {},
   "outputs": [
    {
     "data": {
      "text/plain": [
       "[['GGGG', [['Zapatos', 40], ['Falda', 100], ['Camiseta', 70]]],\n",
       " ['IIII', [['Falda', 40], ['Bañador', 50]]],\n",
       " ['PPPP', [['Falda', 80], ['Pantalón', 10], ['Falda', 10]]],\n",
       " ['EEEE', [['Zapatos', 60], ['Pantalón', 80]]]]"
      ]
     },
     "execution_count": 243,
     "metadata": {},
     "output_type": "execute_result"
    }
   ],
   "source": [
    "[['GGGG', [['Zapatos', 40], ['Falda', 100], ['Camiseta', 70]]],\n",
    " ['IIII', [['Falda', 40], ['Bañador', 50]]],\n",
    " ['PPPP', [['Falda', 80], ['Pantalón', 10], ['Falda', 10]]],\n",
    " ['EEEE', [['Zapatos', 60], ['Pantalón', 80]]]]"
   ]
  },
  {
   "cell_type": "markdown",
   "id": "fbee8738-3da5-4f3e-88a0-44ccd831c0a9",
   "metadata": {},
   "source": [
    "Punto final: diccionario de listas de tuplas."
   ]
  },
  {
   "cell_type": "code",
   "execution_count": 250,
   "id": "f65635b4-33f8-4c20-9aea-f420ae97bac3",
   "metadata": {},
   "outputs": [],
   "source": [
    "diccionario = {'GGGG': [('Zapatos', 40), ('Falda', 100), ('Camiseta', 70)],\n",
    " 'IIII': [('Falda', 40), ('Bañador', 50)],\n",
    " 'PPPP': [('Falda', 80), ('Pantalón', 10), ('Falda', 10)],\n",
    " 'EEEE': [('Zapatos', 60), ('Pantalón', 80)]}"
   ]
  },
  {
   "cell_type": "code",
   "execution_count": 258,
   "id": "f888d788-80cb-45a2-afa8-0dc5f59ec605",
   "metadata": {},
   "outputs": [],
   "source": [
    "ropa, precio = diccionario[\"PPPP\"][1]"
   ]
  },
  {
   "cell_type": "code",
   "execution_count": 260,
   "id": "fc4dc15c-36a7-4612-b086-11763e25f89f",
   "metadata": {},
   "outputs": [
    {
     "data": {
      "text/plain": [
       "'Pantalón'"
      ]
     },
     "execution_count": 260,
     "metadata": {},
     "output_type": "execute_result"
    }
   ],
   "source": [
    "ropa"
   ]
  },
  {
   "cell_type": "code",
   "execution_count": 262,
   "id": "f1bcb5f5-5e79-42c8-bc5f-d55dd5ed799f",
   "metadata": {},
   "outputs": [
    {
     "data": {
      "text/plain": [
       "10"
      ]
     },
     "execution_count": 262,
     "metadata": {},
     "output_type": "execute_result"
    }
   ],
   "source": [
    "precio"
   ]
  },
  {
   "cell_type": "code",
   "execution_count": null,
   "id": "ca79dd91-9515-4ef9-ba6e-a2f4fc91e022",
   "metadata": {},
   "outputs": [],
   "source": []
  }
 ],
 "metadata": {
  "kernelspec": {
   "display_name": "Python 3 (ipykernel)",
   "language": "python",
   "name": "python3"
  },
  "language_info": {
   "codemirror_mode": {
    "name": "ipython",
    "version": 3
   },
   "file_extension": ".py",
   "mimetype": "text/x-python",
   "name": "python",
   "nbconvert_exporter": "python",
   "pygments_lexer": "ipython3",
   "version": "3.12.4"
  }
 },
 "nbformat": 4,
 "nbformat_minor": 5
}
