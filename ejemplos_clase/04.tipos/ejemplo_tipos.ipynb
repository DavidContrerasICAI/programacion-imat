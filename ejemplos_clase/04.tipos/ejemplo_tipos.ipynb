{
 "cells": [
  {
   "cell_type": "markdown",
   "id": "9bf18be7-52e9-4ec0-b764-0631f32bd762",
   "metadata": {},
   "source": [
    "### El tipo se infiere automáticamente"
   ]
  },
  {
   "cell_type": "code",
   "execution_count": 2,
   "id": "4373b78a-6906-4a89-b888-d9d842bf3ae7",
   "metadata": {},
   "outputs": [],
   "source": [
    "edad = 23"
   ]
  },
  {
   "cell_type": "code",
   "execution_count": 89,
   "id": "faca9257-f0f9-4077-8662-3d0c2bd83756",
   "metadata": {},
   "outputs": [],
   "source": [
    "nombre = \"Luis\"\n",
    "nombre = 'Luis'"
   ]
  },
  {
   "cell_type": "markdown",
   "id": "4fbfd724-0085-4629-9531-ca04b8047558",
   "metadata": {},
   "source": [
    "### De forma opcional se pueden tipificar las variables"
   ]
  },
  {
   "cell_type": "code",
   "execution_count": 91,
   "id": "8b96fbd3-9e33-49b8-a69e-40fdd6e812c1",
   "metadata": {},
   "outputs": [],
   "source": [
    "edad:int = 23\n",
    "nombre:str = \"Luis\""
   ]
  },
  {
   "cell_type": "code",
   "execution_count": 93,
   "id": "91b8bba7-e89b-4655-9dab-9225370f2fa4",
   "metadata": {},
   "outputs": [
    {
     "name": "stdout",
     "output_type": "stream",
     "text": [
      "Luis 23\n"
     ]
    }
   ],
   "source": [
    "print(nombre, edad)"
   ]
  },
  {
   "cell_type": "markdown",
   "id": "8e2f9cd2-918f-4cab-8498-9ea8c2749fcd",
   "metadata": {},
   "source": [
    "### En otros lenguajes hay que especificarlo explícitamente\n",
    "\n",
    "Por ejemplo en Java o C:"
   ]
  },
  {
   "cell_type": "markdown",
   "id": "e2a7dab3-22c3-4936-8041-539f59a015fb",
   "metadata": {},
   "source": [
    "```\n",
    "int a;\n",
    "a = 65\n",
    "```"
   ]
  },
  {
   "cell_type": "code",
   "execution_count": 10,
   "id": "44f67ee8-34fb-409a-a36b-6dbeac9b4cf2",
   "metadata": {},
   "outputs": [],
   "source": [
    "a = 5"
   ]
  },
  {
   "cell_type": "code",
   "execution_count": 12,
   "id": "395cf657-36f5-49ff-a9b0-8240915ad39a",
   "metadata": {},
   "outputs": [
    {
     "data": {
      "text/plain": [
       "'0b101'"
      ]
     },
     "execution_count": 12,
     "metadata": {},
     "output_type": "execute_result"
    }
   ],
   "source": [
    "bin(a)"
   ]
  },
  {
   "cell_type": "code",
   "execution_count": 14,
   "id": "7750e190-ab02-43c2-9b97-b9338d8059bb",
   "metadata": {},
   "outputs": [],
   "source": [
    "a = 15"
   ]
  },
  {
   "cell_type": "code",
   "execution_count": 16,
   "id": "8317fbe3-7766-480e-8bc5-ad9e64548f89",
   "metadata": {},
   "outputs": [
    {
     "data": {
      "text/plain": [
       "'0xf'"
      ]
     },
     "execution_count": 16,
     "metadata": {},
     "output_type": "execute_result"
    }
   ],
   "source": [
    "hex(a)"
   ]
  },
  {
   "cell_type": "code",
   "execution_count": 34,
   "id": "b2d5426e-052b-4bd9-8fbb-4f4cfc34c1b8",
   "metadata": {},
   "outputs": [
    {
     "name": "stdout",
     "output_type": "stream",
     "text": [
      "0x222\n",
      "xxxxx 546\n"
     ]
    }
   ],
   "source": [
    "a = 546\n",
    "print(hex(a))\n",
    "print(\"xxxxx\", a)"
   ]
  },
  {
   "cell_type": "code",
   "execution_count": null,
   "id": "301796ac-d3ec-45cd-86e6-bc2dbeab3f32",
   "metadata": {},
   "outputs": [],
   "source": [
    "print(a)"
   ]
  },
  {
   "cell_type": "code",
   "execution_count": 22,
   "id": "9701dd56-1dbd-4ed9-8f79-7a399dac145d",
   "metadata": {},
   "outputs": [
    {
     "data": {
      "text/plain": [
       "'0b1111011'"
      ]
     },
     "execution_count": 22,
     "metadata": {},
     "output_type": "execute_result"
    }
   ],
   "source": [
    "bin(123)"
   ]
  },
  {
   "cell_type": "code",
   "execution_count": 24,
   "id": "233403a6-a24b-4afd-b194-2c8de20a69f0",
   "metadata": {},
   "outputs": [
    {
     "data": {
      "text/plain": [
       "'0x7b'"
      ]
     },
     "execution_count": 24,
     "metadata": {},
     "output_type": "execute_result"
    }
   ],
   "source": [
    "hex(123)"
   ]
  },
  {
   "cell_type": "code",
   "execution_count": 36,
   "id": "dd874bab-b392-45ce-b832-3648f1ae41bd",
   "metadata": {},
   "outputs": [
    {
     "data": {
      "text/plain": [
       "546"
      ]
     },
     "execution_count": 36,
     "metadata": {},
     "output_type": "execute_result"
    }
   ],
   "source": [
    "a"
   ]
  },
  {
   "cell_type": "code",
   "execution_count": 38,
   "id": "06e54815-4919-45eb-81db-2b84b3c06807",
   "metadata": {},
   "outputs": [
    {
     "name": "stdout",
     "output_type": "stream",
     "text": [
      "546\n"
     ]
    }
   ],
   "source": [
    "print(a)"
   ]
  },
  {
   "cell_type": "code",
   "execution_count": 55,
   "id": "5123dd95-6a00-4d20-b759-9869a1bb9d9b",
   "metadata": {},
   "outputs": [
    {
     "name": "stdout",
     "output_type": "stream",
     "text": [
      "1\n"
     ]
    }
   ],
   "source": [
    "a = 1\n",
    "print(a)"
   ]
  },
  {
   "cell_type": "code",
   "execution_count": 57,
   "id": "d5e90ff8-e13d-49db-a9c1-8dde59a36096",
   "metadata": {},
   "outputs": [
    {
     "name": "stdout",
     "output_type": "stream",
     "text": [
      "-1\n"
     ]
    }
   ],
   "source": [
    "b = -1\n",
    "print(b)"
   ]
  },
  {
   "cell_type": "code",
   "execution_count": 59,
   "id": "b990d760-a7ec-4741-9e07-8ff5c18c648a",
   "metadata": {},
   "outputs": [],
   "source": [
    "a_bin = bin(a)"
   ]
  },
  {
   "cell_type": "code",
   "execution_count": 61,
   "id": "169b8b48-1f62-4ba5-9982-69432d8c928f",
   "metadata": {},
   "outputs": [
    {
     "data": {
      "text/plain": [
       "'0b1'"
      ]
     },
     "execution_count": 61,
     "metadata": {},
     "output_type": "execute_result"
    }
   ],
   "source": [
    "a_bin"
   ]
  },
  {
   "cell_type": "code",
   "execution_count": 71,
   "id": "4b84b998-f8e9-4f64-bc44-226c65c1f372",
   "metadata": {},
   "outputs": [],
   "source": [
    "a_bin_c1 = ~0b1   # not binario"
   ]
  },
  {
   "cell_type": "code",
   "execution_count": 75,
   "id": "1e4a58eb-b61b-472f-8cb4-28d46e24bef1",
   "metadata": {},
   "outputs": [],
   "source": [
    "a_bin_c2 = a_bin_c1+1"
   ]
  },
  {
   "cell_type": "code",
   "execution_count": 77,
   "id": "a2032ebd-7743-4cef-8201-01d82d6a2edc",
   "metadata": {},
   "outputs": [
    {
     "data": {
      "text/plain": [
       "-1"
      ]
     },
     "execution_count": 77,
     "metadata": {},
     "output_type": "execute_result"
    }
   ],
   "source": [
    "a_bin_c2"
   ]
  },
  {
   "cell_type": "code",
   "execution_count": 79,
   "id": "623080f6-c618-4e01-a55b-9dc95a24ff29",
   "metadata": {},
   "outputs": [
    {
     "data": {
      "text/plain": [
       "53200.0"
      ]
     },
     "execution_count": 79,
     "metadata": {},
     "output_type": "execute_result"
    }
   ],
   "source": [
    "5.32e4"
   ]
  },
  {
   "cell_type": "code",
   "execution_count": 85,
   "id": "067716c4-85aa-4b4a-92b8-e884bfbf31a1",
   "metadata": {},
   "outputs": [
    {
     "data": {
      "text/plain": [
       "53200.0"
      ]
     },
     "execution_count": 85,
     "metadata": {},
     "output_type": "execute_result"
    }
   ],
   "source": [
    "5.32*10**4"
   ]
  },
  {
   "cell_type": "code",
   "execution_count": 81,
   "id": "ab27538c-4e1f-4130-a7df-e608f63ed7c7",
   "metadata": {},
   "outputs": [
    {
     "data": {
      "text/plain": [
       "0.000532"
      ]
     },
     "execution_count": 81,
     "metadata": {},
     "output_type": "execute_result"
    }
   ],
   "source": [
    "5.32e-4"
   ]
  },
  {
   "cell_type": "code",
   "execution_count": 87,
   "id": "608971e6-5abb-4e3a-98f0-94c7facdbfa3",
   "metadata": {},
   "outputs": [
    {
     "data": {
      "text/plain": [
       "0.000532"
      ]
     },
     "execution_count": 87,
     "metadata": {},
     "output_type": "execute_result"
    }
   ],
   "source": [
    "5.32*10**-4"
   ]
  },
  {
   "cell_type": "code",
   "execution_count": null,
   "id": "49fce23d-88b0-4710-b11e-8e6d18b58982",
   "metadata": {},
   "outputs": [],
   "source": [
    "if a == 1:\n",
    "    pass\n",
    "else:\n",
    "    if a == 2:\n",
    "        pass\n",
    "    else:\n",
    "        "
   ]
  }
 ],
 "metadata": {
  "kernelspec": {
   "display_name": "Python 3 (ipykernel)",
   "language": "python",
   "name": "python3"
  },
  "language_info": {
   "codemirror_mode": {
    "name": "ipython",
    "version": 3
   },
   "file_extension": ".py",
   "mimetype": "text/x-python",
   "name": "python",
   "nbconvert_exporter": "python",
   "pygments_lexer": "ipython3",
   "version": "3.12.4"
  }
 },
 "nbformat": 4,
 "nbformat_minor": 5
}
