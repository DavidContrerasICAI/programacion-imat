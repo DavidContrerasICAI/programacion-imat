{
 "cells": [
  {
   "cell_type": "markdown",
   "id": "6f656f64-a220-429d-88a1-bac496ed9783",
   "metadata": {},
   "source": [
    "# Programación en clase del Tema 4. Tipos de datos"
   ]
  },
  {
   "cell_type": "markdown",
   "id": "f7899ca7-1fea-4cd8-931a-6cf883a2e1df",
   "metadata": {},
   "source": [
    "## Números en coma flotante"
   ]
  },
  {
   "cell_type": "code",
   "execution_count": 3,
   "id": "5fcae534-fc60-4abe-9a97-9a910ad09cd9",
   "metadata": {},
   "outputs": [],
   "source": [
    "a = 0.3"
   ]
  },
  {
   "cell_type": "code",
   "execution_count": 4,
   "id": "8d91011d-58c7-481d-a9f5-1e98c55ce5e7",
   "metadata": {},
   "outputs": [],
   "source": [
    "b = -0.3"
   ]
  },
  {
   "cell_type": "code",
   "execution_count": 7,
   "id": "975a984a-dc50-455a-9bf0-dfbc7a0fe0ce",
   "metadata": {},
   "outputs": [
    {
     "data": {
      "text/plain": [
       "0.0"
      ]
     },
     "execution_count": 7,
     "metadata": {},
     "output_type": "execute_result"
    }
   ],
   "source": [
    "a + b"
   ]
  },
  {
   "cell_type": "code",
   "execution_count": 11,
   "id": "e12e4c96-3a9f-45b4-aa26-1cb23dbab76e",
   "metadata": {},
   "outputs": [],
   "source": [
    "if 0.1 + 0.1 + 0.1 - 0.3 == 0:\n",
    "    print(\"OK\")"
   ]
  },
  {
   "cell_type": "markdown",
   "id": "50cfab98-87e4-4139-92b8-e9a233c7d97b",
   "metadata": {},
   "source": [
    "## Tipos de datos"
   ]
  },
  {
   "cell_type": "code",
   "execution_count": 17,
   "id": "c274a03e-5d3e-4cf1-a557-197caea530bb",
   "metadata": {},
   "outputs": [],
   "source": [
    "edad = 23\n",
    "nombre = \"Luis\"\n",
    "precio = 18.99\n",
    "llueve = False\n",
    "numero_complejo = 3+4j"
   ]
  },
  {
   "cell_type": "code",
   "execution_count": 23,
   "id": "6fa33b7b-e9fb-46d0-a644-edab7adda226",
   "metadata": {},
   "outputs": [
    {
     "data": {
      "text/plain": [
       "int"
      ]
     },
     "execution_count": 23,
     "metadata": {},
     "output_type": "execute_result"
    }
   ],
   "source": [
    "type(edad)"
   ]
  },
  {
   "cell_type": "code",
   "execution_count": 27,
   "id": "76c37913-e9d3-4ca3-8679-731b92358376",
   "metadata": {},
   "outputs": [
    {
     "name": "stdout",
     "output_type": "stream",
     "text": [
      "<class 'int'>\n",
      "<class 'str'>\n",
      "<class 'float'>\n",
      "<class 'bool'>\n",
      "<class 'complex'>\n"
     ]
    }
   ],
   "source": [
    "print(type(edad))\n",
    "print(type(nombre))\n",
    "print(type(precio))\n",
    "print(type(llueve))\n",
    "print(type(numero_complejo))"
   ]
  },
  {
   "cell_type": "code",
   "execution_count": 33,
   "id": "9ddbfc0f-e3df-4a36-8270-8235c0995002",
   "metadata": {},
   "outputs": [
    {
     "data": {
      "text/plain": [
       "65"
      ]
     },
     "execution_count": 33,
     "metadata": {},
     "output_type": "execute_result"
    }
   ],
   "source": [
    "ord(\"A\")"
   ]
  },
  {
   "cell_type": "code",
   "execution_count": 35,
   "id": "6cb693e9-b5ed-4807-896f-d1aec821124a",
   "metadata": {},
   "outputs": [
    {
     "data": {
      "text/plain": [
       "'A'"
      ]
     },
     "execution_count": 35,
     "metadata": {},
     "output_type": "execute_result"
    }
   ],
   "source": [
    "chr(65)"
   ]
  },
  {
   "cell_type": "code",
   "execution_count": 44,
   "id": "db78b9a5-c6ec-4f7a-b5e2-53f5eb34a1ef",
   "metadata": {},
   "outputs": [
    {
     "name": "stdout",
     "output_type": "stream",
     "text": [
      "65:A, 66:B, 67:C, 68:D, 69:E, 70:F, 71:G, 72:H, 73:I, 74:J, 75:K, 76:L, 77:M, 78:N, 79:O, 80:P, 81:Q, 82:R, 83:S, 84:T, 85:U, 86:V, 87:W, 88:X, 89:Y, 90:Z, 91:[, 92:\\, 93:], 94:^, 95:_, 96:`, 97:a, 98:b, 99:c, "
     ]
    }
   ],
   "source": [
    "i = 65\n",
    "while i < 100:\n",
    "    print(i, \":\", chr(i), end = \",  \")\n",
    "    #print(f\"{i}:{chr(i)}\", end=\", \")\n",
    "    i = i + 1"
   ]
  },
  {
   "cell_type": "code",
   "execution_count": 53,
   "id": "2d547d06-63d5-4021-9aaa-ea9e966039b4",
   "metadata": {},
   "outputs": [
    {
     "name": "stdout",
     "output_type": "stream",
     "text": [
      "A a\n"
     ]
    }
   ],
   "source": [
    "caracter = 65\n",
    "offset = 32\n",
    "print(chr(caracter), chr(caracter+offset))"
   ]
  },
  {
   "cell_type": "code",
   "execution_count": 55,
   "id": "a84d0b7f-8459-4b7e-94d2-b4fc04fd939b",
   "metadata": {},
   "outputs": [
    {
     "name": "stdout",
     "output_type": "stream",
     "text": [
      "<class 'int'>\n"
     ]
    },
    {
     "name": "stdin",
     "output_type": "stream",
     "text": [
      "Número: 5\n"
     ]
    },
    {
     "name": "stdout",
     "output_type": "stream",
     "text": [
      "<class 'str'>\n",
      "Lo siento.....\n"
     ]
    }
   ],
   "source": [
    "numero = 5\n",
    "print(type(numero))\n",
    "num_usuario = input(\"Número:\")\n",
    "print(type(num_usuario))\n",
    "if numero == num_usuario:\n",
    "    print(\"Acertaste\")\n",
    "else:\n",
    "    print(\"Lo siento.....\")"
   ]
  },
  {
   "cell_type": "code",
   "execution_count": 67,
   "id": "4f67a99c-d22a-431a-8037-956b2a5f96e9",
   "metadata": {},
   "outputs": [
    {
     "data": {
      "text/plain": [
       "False"
      ]
     },
     "execution_count": 67,
     "metadata": {},
     "output_type": "execute_result"
    }
   ],
   "source": [
    "\"5\" == 5"
   ]
  },
  {
   "cell_type": "code",
   "execution_count": 81,
   "id": "39748f23-7c2d-4e6c-810c-1267084daa03",
   "metadata": {},
   "outputs": [
    {
     "name": "stdout",
     "output_type": "stream",
     "text": [
      "12.99 <class 'float'>\n"
     ]
    }
   ],
   "source": [
    "x = float(\"12.99\")\n",
    "print(x, type(x))"
   ]
  },
  {
   "cell_type": "code",
   "execution_count": 83,
   "id": "3c8e68d6-49c5-4a78-9387-60c0577ebe35",
   "metadata": {},
   "outputs": [
    {
     "name": "stdout",
     "output_type": "stream",
     "text": [
      "34\n"
     ]
    }
   ],
   "source": [
    "precio = 34.99\n",
    "precio_int = int(precio)\n",
    "print(precio_int)"
   ]
  },
  {
   "cell_type": "code",
   "execution_count": 89,
   "id": "66fcd41a-9bae-40c6-b0f2-c9be86b056f5",
   "metadata": {},
   "outputs": [],
   "source": [
    "a = bool(0)"
   ]
  },
  {
   "cell_type": "code",
   "execution_count": 91,
   "id": "ce9bd448-cc6a-467b-ad72-a486080cfcc2",
   "metadata": {},
   "outputs": [
    {
     "data": {
      "text/plain": [
       "False"
      ]
     },
     "execution_count": 91,
     "metadata": {},
     "output_type": "execute_result"
    }
   ],
   "source": [
    "a"
   ]
  },
  {
   "cell_type": "code",
   "execution_count": 57,
   "id": "3f6edb28-8cef-4d37-bda8-046bbd2cff95",
   "metadata": {},
   "outputs": [
    {
     "name": "stdin",
     "output_type": "stream",
     "text": [
      "Número: 4\n"
     ]
    },
    {
     "name": "stdout",
     "output_type": "stream",
     "text": [
      "Lo siento.....\n"
     ]
    }
   ],
   "source": [
    "numero = 5\n",
    "num_usuario_str = input(\"Número:\")\n",
    "num_usuario = int(num_usuario_str)\n",
    "if numero == num_usuario:\n",
    "    print(\"¡¡¡Acertaste!!!\")\n",
    "else:\n",
    "    print(\"Lo siento.....\")"
   ]
  },
  {
   "cell_type": "code",
   "execution_count": 7,
   "id": "c94f1c5b-ebb4-4445-b943-a4d8837ed4b1",
   "metadata": {},
   "outputs": [
    {
     "name": "stdin",
     "output_type": "stream",
     "text": [
      "Número: 4\n",
      "Número: 8\n",
      "Número: 3\n",
      "Número: 9\n"
     ]
    },
    {
     "name": "stdout",
     "output_type": "stream",
     "text": [
      "ACERTASTE\n"
     ]
    }
   ],
   "source": [
    "numero = 9\n",
    "num_usuario = -1 \n",
    "while numero != num_usuario:\n",
    "    num_usuario_str = input(\"Número:\")\n",
    "    num_usuario = int(num_usuario_str)\n",
    "print(\"ACERTASTE\")   "
   ]
  },
  {
   "cell_type": "markdown",
   "id": "548926b7-b900-4962-8f89-4ef33dcd350c",
   "metadata": {},
   "source": [
    "# MAL\n",
    "No se recomienda trabajar con if que tenga la misma condición que el while"
   ]
  },
  {
   "cell_type": "code",
   "execution_count": 13,
   "id": "18a28baf-a808-4578-bb12-3bb4b64b154d",
   "metadata": {},
   "outputs": [
    {
     "name": "stdin",
     "output_type": "stream",
     "text": [
      "Número: 5\n"
     ]
    },
    {
     "name": "stdout",
     "output_type": "stream",
     "text": [
      "Ohhhhh!\n"
     ]
    },
    {
     "name": "stdin",
     "output_type": "stream",
     "text": [
      "Número: 9\n"
     ]
    },
    {
     "name": "stdout",
     "output_type": "stream",
     "text": [
      "Wow! Enhorbauena!😀😀😀😀\n"
     ]
    }
   ],
   "source": [
    "# En esta ejecución me piden que muestre: Ohhhhhh!\n",
    "numero = 9\n",
    "num_usuario = -1 \n",
    "while numero != num_usuario:\n",
    "    num_usuario_str = input(\"Número:\")\n",
    "    num_usuario = int(num_usuario_str)\n",
    "    if numero != num_usuario:   # NO ME GUSTA\n",
    "        print(\"Ohhhhh!\")\n",
    "print(\"Wow! Enhorabuena!😀😀😀😀\")   "
   ]
  },
  {
   "cell_type": "code",
   "execution_count": 16,
   "id": "29f1e6e8-af54-421d-b9c4-a93afbb91d9f",
   "metadata": {},
   "outputs": [
    {
     "name": "stdin",
     "output_type": "stream",
     "text": [
      "Número: 3\n"
     ]
    },
    {
     "name": "stdout",
     "output_type": "stream",
     "text": [
      "Ohhhhh!\n"
     ]
    },
    {
     "name": "stdin",
     "output_type": "stream",
     "text": [
      "Número: 4\n"
     ]
    },
    {
     "name": "stdout",
     "output_type": "stream",
     "text": [
      "Ohhhhh!\n"
     ]
    },
    {
     "name": "stdin",
     "output_type": "stream",
     "text": [
      "Número: 9\n"
     ]
    },
    {
     "name": "stdout",
     "output_type": "stream",
     "text": [
      "Wow! Enhorbauena!😀😀😀😀\n"
     ]
    }
   ],
   "source": [
    "# En esta ejecución me piden que muestre: Ohhhhhh!\n",
    "numero = 9\n",
    "num_usuario_str = input(\"Número:\")\n",
    "num_usuario = int(num_usuario_str)\n",
    "while numero != num_usuario:\n",
    "    print(\"Ohhhhh!\")\n",
    "    num_usuario_str = input(\"Número:\")\n",
    "    num_usuario = int(num_usuario_str)\n",
    "print(\"Wow! Enhorabuena!😀😀😀😀\")   "
   ]
  },
  {
   "cell_type": "code",
   "execution_count": 60,
   "id": "c1a1336f-5c01-485a-988c-98f58d6c5aaa",
   "metadata": {},
   "outputs": [
    {
     "name": "stdin",
     "output_type": "stream",
     "text": [
      "Número: 1\n"
     ]
    }
   ],
   "source": [
    "num_usuario = int(input(\"Número:\"))   # Por ahora no es recomendable"
   ]
  },
  {
   "cell_type": "code",
   "execution_count": null,
   "id": "2ff6e764-a0f4-459f-a207-1bb0dd3a0269",
   "metadata": {},
   "outputs": [],
   "source": [
    "operacion = 5\n",
    "if operacion == 1:\n",
    "    pass    # ToDo, por hacer, TBD, ....\n",
    "else:\n",
    "    if operacion == 2:\n",
    "        pass\n",
    "    else:\n",
    "        if operacion == 3:\n",
    "            pass\n",
    "        else:\n",
    "            if operacion == 4:\n",
    "                pass\n",
    "            else:\n",
    "                if operacion == 5:\n",
    "                    pass\n",
    "                else:\n",
    "                    print(\"ERROR\")\n"
   ]
  },
  {
   "cell_type": "code",
   "execution_count": 40,
   "id": "747cca4a-845e-4638-8a1c-2708ef723eb3",
   "metadata": {},
   "outputs": [
    {
     "name": "stdin",
     "output_type": "stream",
     "text": [
      "Número: 7\n"
     ]
    },
    {
     "name": "stdout",
     "output_type": "stream",
     "text": [
      "Ohhhhh!\n"
     ]
    },
    {
     "name": "stdin",
     "output_type": "stream",
     "text": [
      "Número: 6\n"
     ]
    },
    {
     "name": "stdout",
     "output_type": "stream",
     "text": [
      "Wow! Enhorbauena!😀😀😀😀\n",
      "Puntos: 9\n"
     ]
    }
   ],
   "source": [
    "# En esta ejecución me piden que muestre: Ohhhhhh!\n",
    "import random\n",
    "numero = random.randint(1,9)\n",
    "puntos = 10\n",
    "num_usuario_str = input(\"Número:\")\n",
    "num_usuario = int(num_usuario_str)\n",
    "while numero != num_usuario:\n",
    "    print(\"Ohhhhh!\")\n",
    "    puntos = puntos - 1   # puntos -= 1\n",
    "    num_usuario_str = input(\"Número:\")\n",
    "    num_usuario = int(num_usuario_str)\n",
    "print(\"Wow! Enhorabuena!😀😀😀😀\")\n",
    "print(\"Puntos:\", puntos)"
   ]
  },
  {
   "cell_type": "markdown",
   "id": "e7e72297-914e-4aeb-86f2-3065a6718c90",
   "metadata": {},
   "source": [
    "### Operadores de asignación"
   ]
  },
  {
   "cell_type": "code",
   "execution_count": 38,
   "id": "2e543b37-e564-47c4-9a3b-f2dd5df9d697",
   "metadata": {},
   "outputs": [
    {
     "data": {
      "text/plain": [
       "1"
      ]
     },
     "execution_count": 38,
     "metadata": {},
     "output_type": "execute_result"
    }
   ],
   "source": [
    "i = 0\n",
    "i = i + 1\n",
    "i"
   ]
  },
  {
   "cell_type": "code",
   "execution_count": null,
   "id": "5f25d9c3-748b-49df-93ab-0fbc86fb8d2e",
   "metadata": {},
   "outputs": [],
   "source": [
    "i = 0\n",
    "i += 1\n",
    "i"
   ]
  }
 ],
 "metadata": {
  "kernelspec": {
   "display_name": "Python 3 (ipykernel)",
   "language": "python",
   "name": "python3"
  },
  "language_info": {
   "codemirror_mode": {
    "name": "ipython",
    "version": 3
   },
   "file_extension": ".py",
   "mimetype": "text/x-python",
   "name": "python",
   "nbconvert_exporter": "python",
   "pygments_lexer": "ipython3",
   "version": "3.12.4"
  }
 },
 "nbformat": 4,
 "nbformat_minor": 5
}
