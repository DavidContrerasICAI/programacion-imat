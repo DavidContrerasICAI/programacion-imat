{
 "cells": [
  {
   "cell_type": "markdown",
   "id": "b2cbc7a5-55b8-4f7f-afac-2a45933a47ef",
   "metadata": {},
   "source": [
    "### Programación del count"
   ]
  },
  {
   "cell_type": "code",
   "execution_count": 117,
   "id": "e9195411-37ce-4668-815d-a91d1864b4a3",
   "metadata": {},
   "outputs": [
    {
     "name": "stdout",
     "output_type": "stream",
     "text": [
      "2\n"
     ]
    }
   ],
   "source": [
    "sub = \"abc\"\n",
    "s = \"abcccbabcajs\"\n",
    "\n",
    "contador = 0\n",
    "i = 0\n",
    "while i < len(s) - len(sub):\n",
    "    x = \"\"\n",
    "    j = i\n",
    "    while j < len(sub) + i:\n",
    "        #print(\"i:\", i, \"j:\", j)\n",
    "        x += s[j]\n",
    "        j += 1\n",
    "    #print(\">>> contador:\", contador, \"x:\", x, \"sub:\", sub)\n",
    "    if sub == x:\n",
    "        contador += 1\n",
    "    i += 1\n",
    "    \n",
    "print(contador)"
   ]
  },
  {
   "cell_type": "code",
   "execution_count": 53,
   "id": "af1aca08-77b6-444f-9f70-cc0de0b6c8cf",
   "metadata": {},
   "outputs": [
    {
     "data": {
      "text/plain": [
       "'s'"
      ]
     },
     "execution_count": 53,
     "metadata": {},
     "output_type": "execute_result"
    }
   ],
   "source": [
    "len(s)\n",
    "s[11]"
   ]
  },
  {
   "cell_type": "code",
   "execution_count": 1,
   "id": "c5260bbb-ca16-4b4a-9a8c-06042db5d1d5",
   "metadata": {},
   "outputs": [
    {
     "data": {
      "text/plain": [
       "12"
      ]
     },
     "execution_count": 1,
     "metadata": {},
     "output_type": "execute_result"
    }
   ],
   "source": [
    "s = \"abbccbabaajs\"\n",
    "len(s)"
   ]
  },
  {
   "cell_type": "markdown",
   "id": "1cc83853-853e-47cf-bdc7-d3b825bb5aed",
   "metadata": {},
   "source": [
    "Con slicing"
   ]
  },
  {
   "cell_type": "code",
   "execution_count": 106,
   "id": "19927226-0586-413e-bc13-549aa7662fbf",
   "metadata": {},
   "outputs": [
    {
     "name": "stdout",
     "output_type": "stream",
     "text": [
      "abc\n",
      "Existe la subcadena\n"
     ]
    }
   ],
   "source": [
    "sub = \"abc\"\n",
    "s = \"abcccbabaajs\"\n",
    "\n",
    "x = s[:len(sub)]\n",
    "print(x)\n",
    "if x == sub:\n",
    "    print(\"Existe la subcadena\")\n"
   ]
  },
  {
   "cell_type": "markdown",
   "id": "5fe07019-0918-4025-a364-e1bc3dd9d778",
   "metadata": {},
   "source": [
    "Programando el slicing"
   ]
  },
  {
   "cell_type": "code",
   "execution_count": 112,
   "id": "347fa204-323f-4f62-bb40-a28deff22a37",
   "metadata": {},
   "outputs": [
    {
     "name": "stdout",
     "output_type": "stream",
     "text": [
      "abc\n",
      "Existe la subcadena\n"
     ]
    }
   ],
   "source": [
    "sub = \"abc\"\n",
    "s = \"abcccbabaajs\"\n",
    "\n",
    "x = \"\"\n",
    "j = 0\n",
    "while j < len(sub):\n",
    "    x += s[j]\n",
    "    j += 1\n",
    "\n",
    "print(x)\n",
    "if x == sub:\n",
    "    print(\"Existe la subcadena\")"
   ]
  },
  {
   "cell_type": "code",
   "execution_count": 23,
   "id": "488bea80-4ad4-4ed0-91c1-65e16e917c89",
   "metadata": {},
   "outputs": [
    {
     "data": {
      "text/plain": [
       "'abc'"
      ]
     },
     "execution_count": 23,
     "metadata": {},
     "output_type": "execute_result"
    }
   ],
   "source": [
    "\"abcd\"[0:3]"
   ]
  },
  {
   "cell_type": "markdown",
   "id": "20b45026-7d95-4d10-9759-7d5ab6c5edb8",
   "metadata": {},
   "source": [
    "# Programación de un juego de forma incremental\n",
    "\n",
    "## Objetivo\n",
    "\n",
    "Programa una **mini-simulación en consola** donde un coche (🚗) recorre una carretera hasta llegar al hotel (🏨). En el camino puede encontrar **árboles (🌴)**. Al chocar con uno, el coche **explota (💥)** y pasa **un turno parado** “reparándose” antes de seguir avanzando.\n",
    "\n",
    "## Descripción\n",
    "\n",
    "1. **Construcción de la carretera**\n",
    "\n",
    "   * La carretera es una lista de longitud fija `LONGITUD`.\n",
    "   * En la **posición 0** se coloca el **coche** (🚗).\n",
    "   * En la **última posición** se coloca el **hotel** (🏨).\n",
    "   * El resto de posiciones se rellenan con **asfalto** (⌨️).\n",
    "\n",
    "2. **Obstáculos aleatorios**\n",
    "\n",
    "   * Se insertan `NUM_ARBOLES = 2` **árboles** (🌴) en posiciones aleatorias. No se pueden ocupar ni la salida ni la meta.\n",
    "   * Si la posición elegida ya tiene árbol, se vuelve a intentar hasta colocar todos los `NUM_ARBOLES`.\n",
    "\n",
    "3. **Animación del avance**\n",
    "\n",
    "   * El coche avanza **de izquierda a derecha** una posición por “tick” y se **imprime toda la carretera en una línea**. El siguiente avance se imprimirá en la siguiente línea y así hasta llegar al hotel.\n",
    "   * Si el coche entra en una casilla con árbol:\n",
    "\n",
    "     * Esa casilla se muestra como **explosión** (💥) y se activa un estado de **reparación** durante un turno (el coche no avanza ese tick).\n",
    "     * Al turno siguiente, el coche continúa su marcha desde esa posición.\n",
    "\n",
    "4. **Finalización**\n",
    "\n",
    "   * La animación termina cuando el coche alcanza el **hotel** (🏨) en la última casilla.\n",
    "\n",
    "## Parámetros\n",
    "\n",
    "* `LONGITUD` (int): tamaño de la carretera (≥ 3).\n",
    "* `NUM_ARBOLES` (int): número de obstáculos a ubicar (0 ≤ `NUM_ARBOLES` ≤ `LONGITUD - 2`).\n",
    "\n",
    "## Requisitos técnicos\n",
    "\n",
    "* Usar **listas** para representar la carretera.\n",
    "* Emplear el módulo **`random`** para colocar árboles.\n",
    "* Emplear **impresión en la misma línea** con retorno de carro (`\\r`) y `flush=True` para animar.\n",
    "* Controlar el estado **“reparando”** para gestionar el turno perdido tras la explosión.\n",
    "\n",
    "## Ejemplo (ilustrativo; la disposición real varía)\n",
    "\n",
    "```\n",
    "🚗⌨️🌴⌨️⌨️⌨️🌴⌨️⌨️🏨\n",
    "⌨️🚗🌴⌨️⌨️⌨️🌴⌨️⌨️🏨\n",
    "⌨️⌨️💥⌨️⌨️⌨️🌴⌨️⌨️🏨   ← choque, turno de reparación\n",
    "⌨️⌨️🚗⌨️⌨️⌨️🌴⌨️⌨️🏨\n",
    "⌨️⌨️🌴🚗⌨️⌨️🌴⌨️⌨️🏨\n",
    "...\n",
    "⌨️⌨️⌨️⌨️⌨️⌨️🌴⌨️🚗🏨\n",
    "⌨️⌨️⌨️⌨️⌨️⌨️🌴⌨️⌨️🏨   ← llegada\n",
    "```\n",
    "\n",
    "## Criterios de evaluación\n",
    "\n",
    "* Correcta **generación** de carretera y obstáculos.\n",
    "* **Animación** fluida en una sola línea.\n",
    "* Manejo correcto del **choque y reparación**.\n",
    "* Código **claro** y **documentado**.\n",
    "\n",
    "## Extensiones opcionales (bonus)\n",
    "\n",
    "* En lugar de imprimir la matriz de los vehículos se mostrará **todo en una solo línea** reescribiéndola cada 0,5 segundos (usa `\\r`, `end=\"\"` y `flush=True`)."
   ]
  },
  {
   "cell_type": "code",
   "execution_count": 73,
   "id": "754c27b9-2ca3-45b4-9fe0-76ac41928e51",
   "metadata": {},
   "outputs": [
    {
     "name": "stdout",
     "output_type": "stream",
     "text": [
      "C---A---A---H\n",
      "-C--A---A---H\n",
      "--C-A---A---H\n",
      "---CA---A---H\n"
     ]
    }
   ],
   "source": [
    "carretera = \"C---A---A---H\"\n",
    "print(carretera)\n",
    "carretera_1 = carretera_1[:0] + \"-\" + \"C\" + carretera[2:]\n",
    "print(carretera_1)\n",
    "carretera_2 = carretera_1[:1] + \"-\" + \"C\" + carretera_1[3:]\n",
    "print(carretera_2)\n",
    "carretera_3 = carretera_2[:2] + \"-\" + \"C\" + carretera_1[4:]\n",
    "print(carretera_3)"
   ]
  },
  {
   "cell_type": "code",
   "execution_count": 119,
   "id": "9995043b-1023-410b-a7e8-bd5a20394b4e",
   "metadata": {},
   "outputs": [
    {
     "name": "stdout",
     "output_type": "stream",
     "text": [
      "C---A---A---H\n",
      "-C--A---A---H\n",
      "--C-A---A---H\n",
      "---CA---A---H\n",
      "----C---A---H\n",
      "-----C--A---H\n",
      "------C-A---H\n",
      "-------CA---H\n",
      "--------C---H\n",
      "---------C--H\n",
      "----------C-H\n",
      "-----------CH\n",
      "------------C\n"
     ]
    }
   ],
   "source": [
    "carretera = \"C---A---A---H\"\n",
    "print(carretera)\n",
    "i = 0\n",
    "while i < len(carretera)-1:\n",
    "    carretera_1 = carretera_1[:i] + \"-\" + \"C\" + carretera[i+2:]\n",
    "    print(carretera_1)\n",
    "    i += 1"
   ]
  },
  {
   "cell_type": "code",
   "execution_count": 63,
   "id": "e99b6476-261f-4ab1-9e9c-bf161113f487",
   "metadata": {},
   "outputs": [
    {
     "ename": "TypeError",
     "evalue": "'str' object does not support item assignment",
     "output_type": "error",
     "traceback": [
      "\u001b[1;31m---------------------------------------------------------------------------\u001b[0m",
      "\u001b[1;31mTypeError\u001b[0m                                 Traceback (most recent call last)",
      "Cell \u001b[1;32mIn[63], line 1\u001b[0m\n\u001b[1;32m----> 1\u001b[0m carretera[\u001b[38;5;241m0\u001b[39m] \u001b[38;5;241m=\u001b[39m \u001b[38;5;124m\"\u001b[39m\u001b[38;5;124m-\u001b[39m\u001b[38;5;124m\"\u001b[39m\n\u001b[0;32m      2\u001b[0m carretera[\u001b[38;5;241m1\u001b[39m] \u001b[38;5;241m=\u001b[39m \u001b[38;5;124m\"\u001b[39m\u001b[38;5;124mC\u001b[39m\u001b[38;5;124m\"\u001b[39m\n\u001b[0;32m      3\u001b[0m \u001b[38;5;28mprint\u001b[39m(carretera)\n",
      "\u001b[1;31mTypeError\u001b[0m: 'str' object does not support item assignment"
     ]
    }
   ],
   "source": [
    "carretera[0] = \"-\"\n",
    "carretera[1] = \"C\"\n",
    "print(carretera)"
   ]
  },
  {
   "cell_type": "markdown",
   "id": "9c02fdbc-1542-4361-969c-7c40efefd107",
   "metadata": {},
   "source": [
    "### Conversión de una cadena a una lista"
   ]
  },
  {
   "cell_type": "code",
   "execution_count": 153,
   "id": "9709ad4a-34ec-4633-934f-0a17cc50c84c",
   "metadata": {},
   "outputs": [
    {
     "name": "stdout",
     "output_type": "stream",
     "text": [
      "['C', '-', '-', '-', 'A', '-', '-', '-', 'A', '-', '-', '-', 'H']\n"
     ]
    }
   ],
   "source": [
    "carretera = \"C---A---A---H\"\n",
    "road_list = []\n",
    "\n",
    "i = 0 \n",
    "while i < len(carretera):\n",
    "    road_list.append(carretera[i])\n",
    "    i += 1\n",
    "\n",
    "print(road_list)"
   ]
  },
  {
   "cell_type": "markdown",
   "id": "abc96131-9789-42ab-af52-186e66b05706",
   "metadata": {},
   "source": [
    "### Intercambio de valores de una lista"
   ]
  },
  {
   "cell_type": "code",
   "execution_count": 85,
   "id": "c42ad72a-e84e-4c14-a594-5b309f333ab8",
   "metadata": {},
   "outputs": [
    {
     "data": {
      "text/plain": [
       "3"
      ]
     },
     "execution_count": 85,
     "metadata": {},
     "output_type": "execute_result"
    }
   ],
   "source": [
    "a = 1\n",
    "a = 3\n",
    "a"
   ]
  },
  {
   "cell_type": "code",
   "execution_count": 87,
   "id": "2f1dbdb5-da87-4c37-bdba-676b52f66899",
   "metadata": {},
   "outputs": [
    {
     "data": {
      "text/plain": [
       "[2, 1]"
      ]
     },
     "execution_count": 87,
     "metadata": {},
     "output_type": "execute_result"
    }
   ],
   "source": [
    "l = [1, 2]\n",
    "aux = l[0]\n",
    "l[0] = l[1]\n",
    "l[1] = aux\n",
    "l"
   ]
  },
  {
   "cell_type": "markdown",
   "id": "30ae9c8a-28a2-411c-afb0-4dba1958f722",
   "metadata": {},
   "source": [
    "### Permuta de valores en una lista"
   ]
  },
  {
   "cell_type": "code",
   "execution_count": 151,
   "id": "42e1a8ff-a8ab-4806-a863-8d95fa15e8a8",
   "metadata": {},
   "outputs": [
    {
     "name": "stdout",
     "output_type": "stream",
     "text": [
      "['C', '-', '-', '-', 'A', '-', '-', '-', 'A', '-', '-', '-', 'H']\n",
      "['-', 'C', '-', '-', 'A', '-', '-', '-', 'A', '-', '-', '-', 'H']\n",
      "['-', '-', 'C', '-', 'A', '-', '-', '-', 'A', '-', '-', '-', 'H']\n",
      "['-', '-', '-', 'C', 'A', '-', '-', '-', 'A', '-', '-', '-', 'H']\n",
      "['-', '-', '-', 'A', 'C', '-', '-', '-', 'A', '-', '-', '-', 'H']\n",
      "['-', '-', '-', 'A', '-', 'C', '-', '-', 'A', '-', '-', '-', 'H']\n",
      "['-', '-', '-', 'A', '-', '-', 'C', '-', 'A', '-', '-', '-', 'H']\n",
      "['-', '-', '-', 'A', '-', '-', '-', 'C', 'A', '-', '-', '-', 'H']\n",
      "['-', '-', '-', 'A', '-', '-', '-', 'A', 'C', '-', '-', '-', 'H']\n",
      "['-', '-', '-', 'A', '-', '-', '-', 'A', '-', 'C', '-', '-', 'H']\n",
      "['-', '-', '-', 'A', '-', '-', '-', 'A', '-', '-', 'C', '-', 'H']\n",
      "['-', '-', '-', 'A', '-', '-', '-', 'A', '-', '-', '-', 'C', 'H']\n",
      "['-', '-', '-', 'A', '-', '-', '-', 'A', '-', '-', '-', 'H', 'C']\n"
     ]
    }
   ],
   "source": [
    "road_list = ['C', '-', '-', '-', 'A', '-', '-', '-', 'A', '-', '-', '-', 'H']\n",
    "print(road_list)\n",
    "i = 0\n",
    "while i < len(road_list)-1:\n",
    "    aux = road_list[i]\n",
    "    road_list[i] = road_list[i+1]\n",
    "    road_list[i+1] = aux\n",
    "    print(road_list)\n",
    "    i += 1"
   ]
  },
  {
   "cell_type": "markdown",
   "id": "255c5beb-c752-4892-917f-39d84013bfcc",
   "metadata": {},
   "source": [
    "### NO por permuta, por almacenamiento del valor anterior\n",
    "De esta manera todos los elementos de la carretera siguen en la misma posición, no se ven alterados"
   ]
  },
  {
   "cell_type": "code",
   "execution_count": 155,
   "id": "4049e2a8-c748-44d0-8ba8-6d68a69098a7",
   "metadata": {},
   "outputs": [
    {
     "name": "stdout",
     "output_type": "stream",
     "text": [
      "['C', '-', '-', '-', 'A', '-', '-', '-', 'A', '-', '-', '-', 'H']\n",
      "['-', 'C', '-', '-', 'A', '-', '-', '-', 'A', '-', '-', '-', 'H']\n",
      "['-', '-', 'C', '-', 'A', '-', '-', '-', 'A', '-', '-', '-', 'H']\n",
      "['-', '-', '-', 'C', 'A', '-', '-', '-', 'A', '-', '-', '-', 'H']\n",
      "['-', '-', '-', '-', 'C', '-', '-', '-', 'A', '-', '-', '-', 'H']\n",
      "['-', '-', '-', '-', 'A', 'C', '-', '-', 'A', '-', '-', '-', 'H']\n",
      "['-', '-', '-', '-', 'A', '-', 'C', '-', 'A', '-', '-', '-', 'H']\n",
      "['-', '-', '-', '-', 'A', '-', '-', 'C', 'A', '-', '-', '-', 'H']\n",
      "['-', '-', '-', '-', 'A', '-', '-', '-', 'C', '-', '-', '-', 'H']\n",
      "['-', '-', '-', '-', 'A', '-', '-', '-', 'A', 'C', '-', '-', 'H']\n",
      "['-', '-', '-', '-', 'A', '-', '-', '-', 'A', '-', 'C', '-', 'H']\n",
      "['-', '-', '-', '-', 'A', '-', '-', '-', 'A', '-', '-', 'C', 'H']\n",
      "['-', '-', '-', '-', 'A', '-', '-', '-', 'A', '-', '-', '-', 'C']\n"
     ]
    }
   ],
   "source": [
    "COCHE = \"C\"\n",
    "CARRETERA = \"-\"\n",
    "ARBOL = \"A\"\n",
    "HOTEL = \"H\"\n",
    "\n",
    "road_list = [COCHE, CARRETERA, CARRETERA, CARRETERA, ARBOL, CARRETERA, CARRETERA, CARRETERA, ARBOL, CARRETERA, CARRETERA, CARRETERA, HOTEL]\n",
    "\n",
    "valor_old = CARRETERA\n",
    "i = 1\n",
    "while i < len(road_list):\n",
    "    print(road_list)\n",
    "    road_list[i-1] = valor_old\n",
    "    valor_old = road_list[i]\n",
    "    road_list[i] = COCHE\n",
    "    i += 1\n",
    "print(road_list)"
   ]
  },
  {
   "cell_type": "markdown",
   "id": "42d28dda-b26d-43ab-aea2-f4b8a4578080",
   "metadata": {},
   "source": [
    "### Creación de la carretera dinámicamente y con emojis"
   ]
  },
  {
   "cell_type": "code",
   "execution_count": 350,
   "id": "8bf3d9d2-25ca-4892-bd41-bc79f4e39c7c",
   "metadata": {},
   "outputs": [
    {
     "name": "stdout",
     "output_type": "stream",
     "text": [
      "['🚗', '⌨️', '⌨️', '⌨️', '🌴', '⌨️', '⌨️', '⌨️', '🌴', '🏨']\n",
      "['⌨️', '🚗', '⌨️', '⌨️', '🌴', '⌨️', '⌨️', '⌨️', '🌴', '🏨']\n",
      "['⌨️', '⌨️', '🚗', '⌨️', '🌴', '⌨️', '⌨️', '⌨️', '🌴', '🏨']\n",
      "['⌨️', '⌨️', '⌨️', '🚗', '🌴', '⌨️', '⌨️', '⌨️', '🌴', '🏨']\n",
      "['⌨️', '⌨️', '⌨️', '⌨️', '🚗', '⌨️', '⌨️', '⌨️', '🌴', '🏨']\n",
      "['⌨️', '⌨️', '⌨️', '⌨️', '🌴', '🚗', '⌨️', '⌨️', '🌴', '🏨']\n",
      "['⌨️', '⌨️', '⌨️', '⌨️', '🌴', '⌨️', '🚗', '⌨️', '🌴', '🏨']\n",
      "['⌨️', '⌨️', '⌨️', '⌨️', '🌴', '⌨️', '⌨️', '🚗', '🌴', '🏨']\n",
      "['⌨️', '⌨️', '⌨️', '⌨️', '🌴', '⌨️', '⌨️', '⌨️', '🚗', '🏨']\n",
      "['⌨️', '⌨️', '⌨️', '⌨️', '🌴', '⌨️', '⌨️', '⌨️', '🌴', '🚗']\n"
     ]
    }
   ],
   "source": [
    "import random\n",
    "\n",
    "COCHE = \"🚗\"\n",
    "CARRETERA = \"⌨️\"\n",
    "ARBOL = \"🌴\"\n",
    "HOTEL = \"🏨\"\n",
    "\n",
    "LONGITUD = 10\n",
    "NUM_ARBOLES = 2\n",
    "\n",
    "road_list = []\n",
    "road_list.append(COCHE)\n",
    "i = 1\n",
    "while i < LONGITUD -1:\n",
    "    road_list.append(CARRETERA)\n",
    "    i += 1\n",
    "road_list.append(HOTEL)\n",
    "\n",
    "num_arbol = NUM_ARBOLES\n",
    "while num_arbol > 0:\n",
    "    rnd = random.randint(1,LONGITUD-2)\n",
    "    if road_list[rnd] == CARRETERA:\n",
    "        road_list[rnd] = ARBOL\n",
    "        num_arbol -= 1\n",
    "\n",
    "valor_old = CARRETERA\n",
    "i = 1\n",
    "while i < len(road_list):\n",
    "    print(road_list)\n",
    "    road_list[i-1] = valor_old\n",
    "    valor_old = road_list[i]\n",
    "    road_list[i] = COCHE\n",
    "    i += 1\n",
    "print(road_list)"
   ]
  },
  {
   "cell_type": "markdown",
   "id": "2680440d-fa1e-461a-8086-82a6ef825e35",
   "metadata": {},
   "source": [
    "### Impresión bonita de la carretera"
   ]
  },
  {
   "cell_type": "code",
   "execution_count": 353,
   "id": "511e53db-15c1-48c0-bf68-a8171d510cbd",
   "metadata": {},
   "outputs": [
    {
     "name": "stdout",
     "output_type": "stream",
     "text": [
      "🚗🌴⌨️⌨️⌨️⌨️⌨️🌴⌨️🏨\n",
      "⌨️🚗⌨️⌨️⌨️⌨️⌨️🌴⌨️🏨\n",
      "⌨️🌴🚗⌨️⌨️⌨️⌨️🌴⌨️🏨\n",
      "⌨️🌴⌨️🚗⌨️⌨️⌨️🌴⌨️🏨\n",
      "⌨️🌴⌨️⌨️🚗⌨️⌨️🌴⌨️🏨\n",
      "⌨️🌴⌨️⌨️⌨️🚗⌨️🌴⌨️🏨\n",
      "⌨️🌴⌨️⌨️⌨️⌨️🚗🌴⌨️🏨\n",
      "⌨️🌴⌨️⌨️⌨️⌨️⌨️🚗⌨️🏨\n",
      "⌨️🌴⌨️⌨️⌨️⌨️⌨️🌴🚗🏨\n",
      "⌨️🌴⌨️⌨️⌨️⌨️⌨️🌴⌨️🚗\n"
     ]
    }
   ],
   "source": [
    "import random\n",
    "\n",
    "COCHE = \"🚗\"\n",
    "CARRETERA = \"⌨️\"\n",
    "ARBOL = \"🌴\"\n",
    "HOTEL = \"🏨\"\n",
    "\n",
    "LONGITUD = 10\n",
    "NUM_ARBOLES = 2\n",
    "\n",
    "road_list = []\n",
    "road_list.append(COCHE)\n",
    "i = 1\n",
    "while i < LONGITUD -1:\n",
    "    road_list.append(CARRETERA)\n",
    "    i += 1\n",
    "road_list.append(HOTEL)\n",
    "\n",
    "num_arbol = NUM_ARBOLES\n",
    "while num_arbol > 0:\n",
    "    rnd = random.randint(1,LONGITUD-2)\n",
    "    if road_list[rnd] == CARRETERA:\n",
    "        road_list[rnd] = ARBOL\n",
    "        num_arbol -= 1\n",
    "\n",
    "valor_old = CARRETERA\n",
    "i = 1\n",
    "while i < len(road_list):\n",
    "    for tramo in road_list:\n",
    "        print(tramo, end=\"\")\n",
    "    print()\n",
    "    road_list[i-1] = valor_old\n",
    "    valor_old = road_list[i]\n",
    "    road_list[i] = COCHE\n",
    "    i += 1\n",
    "for tramo in road_list:\n",
    "    print(tramo, end=\"\")\n",
    "print()"
   ]
  },
  {
   "cell_type": "markdown",
   "id": "02a4e11f-5bfa-4f2d-9af3-4b9b330a21ca",
   "metadata": {},
   "source": [
    "### Simulando el choque del coche contra el árbol\n",
    "Cuando el coche se choque contra un árbol, pasará un turno parado en ese punto hasta que se repare. En el momento del coche, se mostrará una explosión"
   ]
  },
  {
   "cell_type": "code",
   "execution_count": 356,
   "id": "76948266-37fb-491b-aa0b-104e440d2c24",
   "metadata": {},
   "outputs": [
    {
     "name": "stdout",
     "output_type": "stream",
     "text": [
      "🚗🌴🌴⌨️⌨️⌨️⌨️⌨️⌨️🏨\n",
      "⌨️💥🌴⌨️⌨️⌨️⌨️⌨️⌨️🏨\n",
      "⌨️🚗🌴⌨️⌨️⌨️⌨️⌨️⌨️🏨\n",
      "⌨️🌴💥⌨️⌨️⌨️⌨️⌨️⌨️🏨\n",
      "⌨️🌴🚗⌨️⌨️⌨️⌨️⌨️⌨️🏨\n",
      "⌨️🌴🌴🚗⌨️⌨️⌨️⌨️⌨️🏨\n",
      "⌨️🌴🌴⌨️🚗⌨️⌨️⌨️⌨️🏨\n",
      "⌨️🌴🌴⌨️⌨️🚗⌨️⌨️⌨️🏨\n",
      "⌨️🌴🌴⌨️⌨️⌨️🚗⌨️⌨️🏨\n",
      "⌨️🌴🌴⌨️⌨️⌨️⌨️🚗⌨️🏨\n",
      "⌨️🌴🌴⌨️⌨️⌨️⌨️⌨️🚗🏨\n",
      "⌨️🌴🌴⌨️⌨️⌨️⌨️⌨️⌨️🚗\n"
     ]
    }
   ],
   "source": [
    "import random\n",
    "\n",
    "COCHE = \"🚗\"\n",
    "CARRETERA = \"⌨️\"\n",
    "ARBOL = \"🌴\"\n",
    "HOTEL = \"🏨\"\n",
    "EXPLOSION = \"💥\"\n",
    "\n",
    "LONGITUD = 10\n",
    "NUM_ARBOLES = 2\n",
    "\n",
    "\"\"\"\n",
    "Creación de la carretera\n",
    "\"\"\"\n",
    "road_list = []\n",
    "road_list.append(COCHE)\n",
    "i = 1\n",
    "while i < LONGITUD -1:\n",
    "    road_list.append(CARRETERA)\n",
    "    i += 1\n",
    "road_list.append(HOTEL)\n",
    "\n",
    "\"\"\"\n",
    "Colocación de los árboles\n",
    "\"\"\"\n",
    "num_arbol = NUM_ARBOLES\n",
    "while num_arbol > 0:\n",
    "    rnd = random.randint(1,LONGITUD-2)\n",
    "    if road_list[rnd] == CARRETERA:\n",
    "        road_list[rnd] = ARBOL\n",
    "        num_arbol -= 1\n",
    "\"\"\"\n",
    "Animación del coche\n",
    "\"\"\"\n",
    "coche_en_taller = False    # Cuando el coche se choque contra un árbol, pasará un turno parado en ese punto hasta que se repare\n",
    "valor_old = CARRETERA\n",
    "i = 1\n",
    "while i < len(road_list):\n",
    "    for tramo in road_list:\n",
    "        print(tramo, end=\"\")\n",
    "    print()\n",
    "    if not coche_en_taller:\n",
    "        road_list[i-1] = valor_old\n",
    "        valor_old = road_list[i]\n",
    "        if road_list[i] == ARBOL:\n",
    "            road_list[i] = EXPLOSION\n",
    "            coche_en_taller = True\n",
    "        else:\n",
    "            road_list[i] = COCHE\n",
    "        i += 1\n",
    "    else:\n",
    "        road_list[i-1] = COCHE\n",
    "        coche_en_taller = False\n",
    "for tramo in road_list:\n",
    "    print(tramo, end=\"\")\n",
    "print()"
   ]
  },
  {
   "cell_type": "markdown",
   "id": "14ee2fbe-d1dd-4b48-a16a-1714528d71ce",
   "metadata": {},
   "source": [
    "### Simulación en una sola línea"
   ]
  },
  {
   "cell_type": "code",
   "execution_count": 370,
   "id": "2ded2b4b-c7b4-41f1-9d72-b0430917a8a5",
   "metadata": {},
   "outputs": [
    {
     "name": "stdout",
     "output_type": "stream",
     "text": [
      "⌨️⌨️🌴⌨️⌨️⌨️⌨️⌨️🌴🚗"
     ]
    }
   ],
   "source": [
    "import random\n",
    "import time\n",
    "\n",
    "COCHE = \"🚗\"\n",
    "CARRETERA = \"⌨️\"\n",
    "ARBOL = \"🌴\"\n",
    "HOTEL = \"🏨\"\n",
    "EXPLOSION = \"💥\"\n",
    "\n",
    "LONGITUD = 10\n",
    "NUM_ARBOLES = 2\n",
    "\n",
    "\"\"\"\n",
    "Creación de la carretera\n",
    "\"\"\"\n",
    "road_list = []\n",
    "road_list.append(COCHE)\n",
    "i = 1\n",
    "while i < LONGITUD -1:\n",
    "    road_list.append(CARRETERA)\n",
    "    i += 1\n",
    "road_list.append(HOTEL)\n",
    "\n",
    "\"\"\"\n",
    "Colocación de los árboles\n",
    "\"\"\"\n",
    "num_arbol = NUM_ARBOLES\n",
    "while num_arbol > 0:\n",
    "    rnd = random.randint(1,LONGITUD-2)\n",
    "    if road_list[rnd] == CARRETERA:\n",
    "        road_list[rnd] = ARBOL\n",
    "        num_arbol -= 1\n",
    "\"\"\"\n",
    "Animación del coche\n",
    "\"\"\"\n",
    "reparando = False    # Cuando el coche se choque contra un árbol, pasará un turno parado en ese punto hasta que se repare\n",
    "valor_old = CARRETERA\n",
    "i = 1\n",
    "while i < len(road_list):\n",
    "    carretera = \"\"\n",
    "    for tramo in road_list:\n",
    "        carretera += tramo\n",
    "    print(f\"\\r{carretera}\", end=\"\", flush=True)\n",
    "    time.sleep(0.5)\n",
    "    if not reparando:\n",
    "        road_list[i-1] = valor_old\n",
    "        valor_old = road_list[i]\n",
    "        if road_list[i] == ARBOL:\n",
    "            road_list[i] = EXPLOSION\n",
    "            reparando = True\n",
    "        else:\n",
    "            road_list[i] = COCHE\n",
    "        i += 1\n",
    "    else:\n",
    "        road_list[i-1] = COCHE\n",
    "        reparando = False\n",
    "carretera = \"\"\n",
    "for tramo in road_list:\n",
    "    carretera += tramo\n",
    "print(f\"\\r{carretera}\", end=\"\", flush=True)\n",
    "time.sleep(0.5)"
   ]
  }
 ],
 "metadata": {
  "kernelspec": {
   "display_name": "Python 3 (ipykernel)",
   "language": "python",
   "name": "python3"
  },
  "language_info": {
   "codemirror_mode": {
    "name": "ipython",
    "version": 3
   },
   "file_extension": ".py",
   "mimetype": "text/x-python",
   "name": "python",
   "nbconvert_exporter": "python",
   "pygments_lexer": "ipython3",
   "version": "3.12.4"
  }
 },
 "nbformat": 4,
 "nbformat_minor": 5
}
