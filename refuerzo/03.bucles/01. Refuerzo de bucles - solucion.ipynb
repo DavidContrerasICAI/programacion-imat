{
 "cells": [
  {
   "cell_type": "markdown",
   "metadata": {},
   "source": [
    "# Ejercicios de refuerzo: bucles y condicionales"
   ]
  },
  {
   "cell_type": "markdown",
   "metadata": {},
   "source": [
    "## Ejercicio #1. Secuencia\n",
    "\n",
    "a) Mostrar los números de 10 al 20 incluidos"
   ]
  },
  {
   "cell_type": "code",
   "execution_count": 2,
   "metadata": {},
   "outputs": [
    {
     "name": "stdout",
     "output_type": "stream",
     "text": [
      "10\n",
      "11\n",
      "12\n",
      "13\n",
      "14\n",
      "15\n",
      "16\n",
      "17\n",
      "18\n",
      "19\n",
      "20\n"
     ]
    }
   ],
   "source": [
    "contador = 10\n",
    "while contador < 21:\n",
    "    print(contador)\n",
    "    contador = contador + 1"
   ]
  },
  {
   "cell_type": "markdown",
   "metadata": {},
   "source": [
    "b) Mostrar los números del 0 al 100 con saltos de 10 en 10: 0, 10, 20, ...., 100"
   ]
  },
  {
   "cell_type": "code",
   "execution_count": 3,
   "metadata": {},
   "outputs": [
    {
     "name": "stdout",
     "output_type": "stream",
     "text": [
      "0\n",
      "10\n",
      "20\n",
      "30\n",
      "40\n",
      "50\n",
      "60\n",
      "70\n",
      "80\n",
      "90\n",
      "100\n"
     ]
    }
   ],
   "source": [
    "contador = 0\n",
    "while contador <= 100:\n",
    "    print(contador)\n",
    "    contador = contador + 10"
   ]
  },
  {
   "cell_type": "markdown",
   "metadata": {},
   "source": [
    "## Ejercicio #2 \n",
    "\n",
    "### a) Mostrar los múltiplos de 2 y 3 entre los números 10 y 20"
   ]
  },
  {
   "cell_type": "code",
   "execution_count": 3,
   "metadata": {},
   "outputs": [
    {
     "name": "stdout",
     "output_type": "stream",
     "text": [
      "12\n",
      "18\n"
     ]
    }
   ],
   "source": [
    "numero = 10\n",
    "while numero < 21:\n",
    "    if numero % 2 == 0:\n",
    "        if numero % 3 == 0:\n",
    "            print(numero)\n",
    "    numero = numero + 1"
   ]
  },
  {
   "cell_type": "markdown",
   "metadata": {},
   "source": [
    "## Ejercicio #3\n",
    "\n",
    "### Mostrar los 10 primeros números primos.\n",
    "\n",
    "El primer número primo es 2, y los 10 primeros números primos son: 2, 3, 5, 7, 11, 13, 17, 19, 23, 29.\n",
    "\n",
    "Piensa en atacar el problema por partes."
   ]
  },
  {
   "cell_type": "markdown",
   "metadata": {},
   "source": [
    "#### Pista #1: Primero pienso en la lógica del programa... \n",
    "\n",
    "Un número primo N es aquel número natural mayor que 1 que tiene únicamente dos divisores positivos distintos: él mismo y la unidad. Así, debo ser capaz de dividir un número mayor que 1, entre otros números que vayan desde [2, N-1]. Si no es múltiplo de ninguno de ellos, será primo.\n",
    "\n",
    "Lo programo de forma separada."
   ]
  },
  {
   "cell_type": "code",
   "execution_count": 2,
   "metadata": {},
   "outputs": [
    {
     "name": "stdout",
     "output_type": "stream",
     "text": [
      "10  es divisible por  2\n",
      "10  es divisible por  5\n"
     ]
    }
   ],
   "source": [
    "numero_a_adivinar_si_es_primo = 10   # Por ejemplo el10\n",
    "\n",
    "numero = 2\n",
    "while numero < numero_a_adivinar_si_es_primo:\n",
    "    if numero_a_adivinar_si_es_primo % numero == 0:\n",
    "        print (numero_a_adivinar_si_es_primo,  \" es divisible por \", numero) \n",
    "    numero = numero + 1"
   ]
  },
  {
   "cell_type": "markdown",
   "metadata": {},
   "source": [
    "Podemos decir que 10 no es primo. Sin embargo 7, como no muestra nada, será primo."
   ]
  },
  {
   "cell_type": "code",
   "execution_count": 4,
   "metadata": {},
   "outputs": [],
   "source": [
    "numero_a_adivinar_si_es_primo = 7   # Por ejemplo el10\n",
    "\n",
    "numero = 2\n",
    "while numero < numero_a_adivinar_si_es_primo:\n",
    "    if numero_a_adivinar_si_es_primo % numero == 0:\n",
    "        print (numero_a_adivinar_si_es_primo,  \" es divisible por \", numero) \n",
    "    numero = numero + 1  "
   ]
  },
  {
   "cell_type": "markdown",
   "metadata": {},
   "source": [
    "Ya tenemos la lógica del programa. Añadimos una variabe booleana para que nos avise de este hecho a final del bucle."
   ]
  },
  {
   "cell_type": "code",
   "execution_count": 18,
   "metadata": {},
   "outputs": [
    {
     "name": "stdout",
     "output_type": "stream",
     "text": [
      "El número  10  NO es primo\n"
     ]
    }
   ],
   "source": [
    "numero_a_adivinar_si_es_primo = 10   # Por ejemplo el10\n",
    "primo = True\n",
    "\n",
    "numero = 2\n",
    "while numero < numero_a_adivinar_si_es_primo:\n",
    "    if numero_a_adivinar_si_es_primo % numero == 0:\n",
    "        primo = False\n",
    "    numero = numero + 1     \n",
    "        \n",
    "if primo:\n",
    "    print(\"El número \", numero_a_adivinar_si_es_primo, \" es primo\")\n",
    "else:\n",
    "    print(\"El número \", numero_a_adivinar_si_es_primo, \" NO es primo\")"
   ]
  },
  {
   "cell_type": "markdown",
   "metadata": {},
   "source": [
    "### Pista #2: Como piden los 10 primeros números, hago un primer bucle que muestre del 1 al 10."
   ]
  },
  {
   "cell_type": "code",
   "execution_count": 11,
   "metadata": {},
   "outputs": [
    {
     "name": "stdout",
     "output_type": "stream",
     "text": [
      "0\n",
      "1\n",
      "2\n",
      "3\n",
      "4\n",
      "5\n",
      "6\n",
      "7\n",
      "8\n",
      "9\n"
     ]
    }
   ],
   "source": [
    "contador_numeros_primos = 0\n",
    "\n",
    "while contador_numeros_primos < 10:\n",
    "    print (contador_numeros_primos)\n",
    "    contador_numeros_primos = contador_numeros_primos + 1"
   ]
  },
  {
   "cell_type": "markdown",
   "metadata": {},
   "source": [
    "Ahora mezclo los dos códigos, la lógica del programa con la iteración de los n primeros números primos."
   ]
  },
  {
   "cell_type": "code",
   "execution_count": 15,
   "metadata": {},
   "outputs": [
    {
     "name": "stdout",
     "output_type": "stream",
     "text": [
      "2\n",
      "3\n",
      "5\n",
      "7\n",
      "11\n",
      "13\n",
      "17\n",
      "19\n",
      "23\n",
      "29\n"
     ]
    }
   ],
   "source": [
    "contador_numeros_primos = 0\n",
    "numero_a_adivinar_si_es_primo = 2  # A partir del número 2\n",
    "primo = True\n",
    "\n",
    "while contador_numeros_primos < 10:\n",
    "    # Lógica del programa\n",
    "    \n",
    "    numero = 2\n",
    "    while numero < numero_a_adivinar_si_es_primo:\n",
    "        if numero_a_adivinar_si_es_primo % numero == 0:\n",
    "            primo = False\n",
    "        numero = numero + 1\n",
    "    \n",
    "    if primo:\n",
    "        print(numero_a_adivinar_si_es_primo)\n",
    "        contador_numeros_primos = contador_numeros_primos + 1  # Solo incremento este contador si es primo, porque me piden los 10 primeros números\n",
    "        \n",
    "    numero_a_adivinar_si_es_primo = numero_a_adivinar_si_es_primo + 1  # Vamos evaluando en cada pasada el número siguiente: 2, 3, 4...    \n",
    "    primo = True  # Reinicio el booleano."
   ]
  },
  {
   "cell_type": "markdown",
   "metadata": {},
   "source": [
    "## Ejercicio 4. Cálculo de año bisiesto"
   ]
  },
  {
   "cell_type": "code",
   "execution_count": 34,
   "metadata": {},
   "outputs": [
    {
     "name": "stdout",
     "output_type": "stream",
     "text": [
      "Es bisiesto\n"
     ]
    }
   ],
   "source": [
    "'''\n",
    "    Divisible entre 4.\n",
    "    Pero no es bisiesto si solo es divisible entre 100 \n",
    "    Divisible entre 400. \n",
    "    2000 y 2400 son bisiestos porque aunque sean divisbles entre 100 también lo son entre 400. \n",
    "    Los años 1700, 2100, 2200 no lo son porque sólo son divisibles entre 100.\n",
    "'''\n",
    "anyo = 2024\n",
    "\n",
    "if anyo % 4 == 0:\n",
    "    if anyo % 100 == 0:     \n",
    "        if anyo % 400 == 0:  \n",
    "            print(\"Es bisiesto\")\n",
    "        else:              \n",
    "            print(\"No es bisiesto\")\n",
    "    else:                 \n",
    "        print(\"Es bisiesto\")\n",
    "else:                    \n",
    "    print(\"No es bisiesto\")"
   ]
  },
  {
   "cell_type": "markdown",
   "metadata": {},
   "source": [
    "## Ejercicio 5. Tabla de multiplicar "
   ]
  },
  {
   "cell_type": "markdown",
   "metadata": {},
   "source": [
    "Mostrar la Tabla de multiplicar del 1 al 9, quedando algo similar a lo siguiente:\n",
    "\n",
    "```\n",
    "Tabla del 1 : 1 , 2 , 3 , 4 , 5 , 6 , 7 , 8 , 9 , \n",
    "Tabla del 2 : 2 , 4 , 6 , 8 , 10 , 12 , 14 , 16 , 18 , \n",
    "Tabla del 3 : 3 , 6 , 9 , 12 , 15 , 18 , 21 , 24 , 27 , \n",
    "Tabla del 4 : 4 , 8 , 12 , 16 , 20 , 24 , 28 , 32 , 36 , \n",
    "Tabla del 5 : 5 , 10 , 15 , 20 , 25 , 30 , 35 , 40 , 45 , \n",
    "Tabla del 6 : 6 , 12 , 18 , 24 , 30 , 36 , 42 , 48 , 54 , \n",
    "Tabla del 7 : 7 , 14 , 21 , 28 , 35 , 42 , 49 , 56 , 63 , \n",
    "Tabla del 8 : 8 , 16 , 24 , 32 , 40 , 48 , 56 , 64 , 72 , \n",
    "Tabla del 9 : 9 , 18 , 27 , 36 , 45 , 54 , 63 , 72 , 81 , \n",
    "```\n",
    "\n",
    "Si quieres mostrar dos instrucciones print en una línea escribe lo siguiente:\n",
    "```pyhon\n",
    "print(\"Hola\", end=\"\")\n",
    "print(\"Adiós\")\n",
    "print(\"-----\")\n",
    "```\n",
    "\n",
    "Salida:\n",
    "```\n",
    "HolaAdiós\n",
    "------\n",
    "```"
   ]
  },
  {
   "cell_type": "code",
   "execution_count": 33,
   "metadata": {},
   "outputs": [
    {
     "name": "stdout",
     "output_type": "stream",
     "text": [
      "Tabla del 1 : 1 , 2 , 3 , 4 , 5 , 6 , 7 , 8 , 9 , \n",
      "Tabla del 2 : 2 , 4 , 6 , 8 , 10 , 12 , 14 , 16 , 18 , \n",
      "Tabla del 3 : 3 , 6 , 9 , 12 , 15 , 18 , 21 , 24 , 27 , \n",
      "Tabla del 4 : 4 , 8 , 12 , 16 , 20 , 24 , 28 , 32 , 36 , \n",
      "Tabla del 5 : 5 , 10 , 15 , 20 , 25 , 30 , 35 , 40 , 45 , \n",
      "Tabla del 6 : 6 , 12 , 18 , 24 , 30 , 36 , 42 , 48 , 54 , \n",
      "Tabla del 7 : 7 , 14 , 21 , 28 , 35 , 42 , 49 , 56 , 63 , \n",
      "Tabla del 8 : 8 , 16 , 24 , 32 , 40 , 48 , 56 , 64 , 72 , \n",
      "Tabla del 9 : 9 , 18 , 27 , 36 , 45 , 54 , 63 , 72 , 81 , \n"
     ]
    }
   ],
   "source": [
    "numero = 1\n",
    "while numero < 10:\n",
    "    serie = 1\n",
    "    print(\"Tabla del\", numero, \": \", end = \"\")\n",
    "    while serie < 10:\n",
    "        print(numero*serie, \", \", end=\"\")\n",
    "        serie = serie + 1\n",
    "    print()\n",
    "    numero = numero + 1"
   ]
  },
  {
   "cell_type": "markdown",
   "metadata": {},
   "source": [
    "## Ejercicio 5. Cuenta dígitos\n",
    "\n",
    "Escribe un programa que cuente y muestre cuántos dígitos tiene un número entero dado."
   ]
  },
  {
   "cell_type": "code",
   "execution_count": 4,
   "metadata": {},
   "outputs": [
    {
     "name": "stdout",
     "output_type": "stream",
     "text": [
      "El número 12345 tiene 5 dígito(s)\n"
     ]
    }
   ],
   "source": [
    "numero = 12345\n",
    "contador = 0\n",
    "divisor = numero\n",
    "\n",
    "while divisor > 0:\n",
    "    divisor = divisor // 10\n",
    "    contador += 1\n",
    "\n",
    "print(\"El número\", numero, \"tiene\", contador, \"dígito(s)\")"
   ]
  },
  {
   "cell_type": "markdown",
   "metadata": {},
   "source": [
    "## Ejercicio 6. Adivina un número \n",
    "\n",
    "Escribe un programa que genere dado un número cualquiera entre 1 y 10, luego permita al usuario adivinar ese número. El programa debe dar pistas (mayor o menor) hasta que el usuario lo adivine correctamente.\n",
    "\n",
    "**Pista**\n",
    "\n",
    "Se pedira el número al usuario mediante el siguiente código:\n",
    "```\n",
    "numero_usuario = int(input(\"Adivina el número entre 1 y 10: \"))\n",
    "```\n",
    "\n",
    "**Salida**\n",
    "```\n",
    "Adivina el número entre 1 y 10: 4\n",
    "El número secreto es mayor.\n",
    "Adivina el número entre 1 y 10: 5\n",
    "El número secreto es mayor.\n",
    "Adivina el número entre 1 y 10: 6\n",
    "¡Correcto! Has adivinado el número secreto 6 en 3 intentos.\n",
    "```"
   ]
  },
  {
   "cell_type": "code",
   "execution_count": 9,
   "metadata": {},
   "outputs": [
    {
     "name": "stdout",
     "output_type": "stream",
     "text": [
      "Adivina el número entre 1 y 10: 2\n",
      "El número secreto es mayor.\n",
      "Adivina el número entre 1 y 10: 3\n",
      "El número secreto es mayor.\n",
      "Adivina el número entre 1 y 10: 4\n",
      "El número secreto es mayor.\n",
      "Adivina el número entre 1 y 10: 5\n",
      "El número secreto es mayor.\n",
      "Adivina el número entre 1 y 10: 6\n",
      "¡Correcto! Has adivinado el número secreto 6 en 5 intentos.\n"
     ]
    }
   ],
   "source": [
    "numero_secreto = 6\n",
    "numero_usuario = 0\n",
    "intentos = 0\n",
    "\n",
    "while numero_usuario != numero_secreto:\n",
    "    numero_usuario = int(input(\"Adivina el número entre 1 y 10: \"))\n",
    "    intentos += 1\n",
    "\n",
    "    if numero_usuario < numero_secreto:\n",
    "        print(\"El número secreto es mayor.\")\n",
    "    elif numero_usuario > numero_secreto:\n",
    "        print(\"El número secreto es menor.\")\n",
    "\n",
    "print(\"¡Correcto! Has adivinado el número secreto\", numero_secreto, \"en\", intentos, \"intentos.\")"
   ]
  },
  {
   "cell_type": "markdown",
   "metadata": {},
   "source": [
    "## Ejercicio 7. Serie de Fibonacci\n",
    "\n",
    "Escribe un programa que genere los primeros 10 términos de la serie Fibonacci utilizando un bucle while."
   ]
  },
  {
   "cell_type": "code",
   "execution_count": 1,
   "metadata": {},
   "outputs": [
    {
     "name": "stdout",
     "output_type": "stream",
     "text": [
      "0\n",
      "1\n",
      "1\n",
      "2\n",
      "3\n",
      "5\n",
      "8\n",
      "13\n",
      "21\n",
      "34\n"
     ]
    }
   ],
   "source": [
    "numeros = 10\n",
    "a = 0\n",
    "b = 1\n",
    "contador = 0\n",
    "\n",
    "while contador < numeros:\n",
    "    print(a)\n",
    "    aux = a\n",
    "    a = b\n",
    "    b = aux + b\n",
    "    contador = contador + 1"
   ]
  }
 ],
 "metadata": {
  "kernelspec": {
   "display_name": "Python 3 (ipykernel)",
   "language": "python",
   "name": "python3"
  },
  "language_info": {
   "codemirror_mode": {
    "name": "ipython",
    "version": 3
   },
   "file_extension": ".py",
   "mimetype": "text/x-python",
   "name": "python",
   "nbconvert_exporter": "python",
   "pygments_lexer": "ipython3",
   "version": "3.9.13"
  },
  "vscode": {
   "interpreter": {
    "hash": "03f549537fa19b43efbf5aa4d6467b94388b966112c368cc66a2484d89a4a6bd"
   }
  }
 },
 "nbformat": 4,
 "nbformat_minor": 4
}
