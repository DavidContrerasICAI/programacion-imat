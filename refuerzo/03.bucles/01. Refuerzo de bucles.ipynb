{
 "cells": [
  {
   "cell_type": "markdown",
   "metadata": {},
   "source": [
    "# Ejercicios de refuerzo: bucles y condicionales"
   ]
  },
  {
   "cell_type": "markdown",
   "metadata": {},
   "source": [
    "## Ejercicio #1. Secuencia\n",
    "\n",
    "a) Mostrar los números de 10 al 20 incluidos"
   ]
  },
  {
   "cell_type": "code",
   "execution_count": null,
   "metadata": {},
   "outputs": [],
   "source": []
  },
  {
   "cell_type": "markdown",
   "metadata": {},
   "source": [
    "b) Mostrar los números del 0 al 100 con saltos de 10 en 10: 0, 10, 20, ...., 100"
   ]
  },
  {
   "cell_type": "code",
   "execution_count": null,
   "metadata": {},
   "outputs": [],
   "source": []
  },
  {
   "cell_type": "markdown",
   "metadata": {},
   "source": [
    "## Ejercicio #2 \n",
    "\n",
    "### a) Mostrar los múltiplos de 2 y 3 entre los números 10 y 20"
   ]
  },
  {
   "cell_type": "code",
   "execution_count": null,
   "metadata": {},
   "outputs": [],
   "source": []
  },
  {
   "cell_type": "markdown",
   "metadata": {},
   "source": [
    "## Ejercicio #3\n",
    "\n",
    "### Mostrar los 10 primeros números primos.\n",
    "\n",
    "El primer número primo es 2, y los 10 primeros números primos son: 2, 3, 5, 7, 11, 13, 17, 19, 23, 29.\n",
    "\n",
    "Piensa en atacar el problema por partes."
   ]
  },
  {
   "cell_type": "markdown",
   "metadata": {},
   "source": [
    "#### Pista #1: Primero pienso en la lógica del programa... \n",
    "\n",
    "Un número primo N es aquel número natural mayor que 1 que tiene únicamente dos divisores positivos distintos: él mismo y la unidad. Así, debo ser capaz de dividir un número mayor que 1, entre otros números que vayan desde [2, N-1]. Si no es múltiplo de ninguno de ellos, será primo.\n",
    "\n",
    "Lo programo de forma separada."
   ]
  },
  {
   "cell_type": "code",
   "execution_count": null,
   "metadata": {},
   "outputs": [],
   "source": []
  },
  {
   "cell_type": "markdown",
   "metadata": {},
   "source": [
    "Podemos decir que 10 no es primo. Sin embargo 7, como no muestra nada, será primo."
   ]
  },
  {
   "cell_type": "code",
   "execution_count": null,
   "metadata": {},
   "outputs": [],
   "source": []
  },
  {
   "cell_type": "markdown",
   "metadata": {},
   "source": [
    "Ya tenemos la lógica del programa. Añadimos una variabe booleana para que nos avise de este hecho a final del bucle."
   ]
  },
  {
   "cell_type": "code",
   "execution_count": null,
   "metadata": {},
   "outputs": [],
   "source": []
  },
  {
   "cell_type": "markdown",
   "metadata": {},
   "source": [
    "### Pista #2: Como piden los 10 primeros números, hago un primer bucle que muestre del 1 al 10."
   ]
  },
  {
   "cell_type": "code",
   "execution_count": null,
   "metadata": {},
   "outputs": [],
   "source": []
  },
  {
   "cell_type": "markdown",
   "metadata": {},
   "source": [
    "Ahora mezclo los dos códigos, la lógica del programa con la iteración de los n primeros números primos."
   ]
  },
  {
   "cell_type": "code",
   "execution_count": null,
   "metadata": {},
   "outputs": [],
   "source": []
  },
  {
   "cell_type": "markdown",
   "metadata": {},
   "source": [
    "## Ejercicio 4. Cálculo de año bisiesto"
   ]
  },
  {
   "cell_type": "code",
   "execution_count": null,
   "metadata": {},
   "outputs": [],
   "source": []
  },
  {
   "cell_type": "markdown",
   "metadata": {},
   "source": [
    "## Ejercicio 5. Tabla de multiplicar "
   ]
  },
  {
   "cell_type": "markdown",
   "metadata": {},
   "source": [
    "Mostrar la Tabla de multiplicar del 1 al 9, quedando algo similar a lo siguiente:\n",
    "\n",
    "```\n",
    "Tabla del 1 : 1 , 2 , 3 , 4 , 5 , 6 , 7 , 8 , 9 , \n",
    "Tabla del 2 : 2 , 4 , 6 , 8 , 10 , 12 , 14 , 16 , 18 , \n",
    "Tabla del 3 : 3 , 6 , 9 , 12 , 15 , 18 , 21 , 24 , 27 , \n",
    "Tabla del 4 : 4 , 8 , 12 , 16 , 20 , 24 , 28 , 32 , 36 , \n",
    "Tabla del 5 : 5 , 10 , 15 , 20 , 25 , 30 , 35 , 40 , 45 , \n",
    "Tabla del 6 : 6 , 12 , 18 , 24 , 30 , 36 , 42 , 48 , 54 , \n",
    "Tabla del 7 : 7 , 14 , 21 , 28 , 35 , 42 , 49 , 56 , 63 , \n",
    "Tabla del 8 : 8 , 16 , 24 , 32 , 40 , 48 , 56 , 64 , 72 , \n",
    "Tabla del 9 : 9 , 18 , 27 , 36 , 45 , 54 , 63 , 72 , 81 , \n",
    "```\n",
    "\n",
    "Si quieres mostrar dos instrucciones print en una línea escribe lo siguiente:\n",
    "```pyhon\n",
    "print(\"Hola\", end=\"\")\n",
    "print(\"Adiós\")\n",
    "print(\"-----\")\n",
    "```\n",
    "\n",
    "Salida:\n",
    "```\n",
    "HolaAdiós\n",
    "------\n",
    "```"
   ]
  },
  {
   "cell_type": "code",
   "execution_count": null,
   "metadata": {},
   "outputs": [],
   "source": []
  },
  {
   "cell_type": "markdown",
   "metadata": {},
   "source": [
    "## Ejercicio 5. Cuenta dígitos\n",
    "\n",
    "Escribe un programa que cuente y muestre cuántos dígitos tiene un número entero dado."
   ]
  },
  {
   "cell_type": "code",
   "execution_count": null,
   "metadata": {},
   "outputs": [],
   "source": []
  },
  {
   "cell_type": "markdown",
   "metadata": {},
   "source": [
    "## Ejercicio 6. Adivina un número \n",
    "\n",
    "Escribe un programa que genere dado un número cualquiera entre 1 y 10, luego permita al usuario adivinar ese número. El programa debe dar pistas (mayor o menor) hasta que el usuario lo adivine correctamente.\n",
    "\n",
    "**Pista**\n",
    "\n",
    "Se pedira el número al usuario mediante el siguiente código:\n",
    "```\n",
    "numero_usuario = int(input(\"Adivina el número entre 1 y 10: \"))\n",
    "```\n",
    "\n",
    "**Salida**\n",
    "```\n",
    "Adivina el número entre 1 y 10: 4\n",
    "El número secreto es mayor.\n",
    "Adivina el número entre 1 y 10: 5\n",
    "El número secreto es mayor.\n",
    "Adivina el número entre 1 y 10: 6\n",
    "¡Correcto! Has adivinado el número secreto 6 en 3 intentos.\n",
    "```"
   ]
  },
  {
   "cell_type": "code",
   "execution_count": null,
   "metadata": {},
   "outputs": [],
   "source": []
  },
  {
   "cell_type": "markdown",
   "metadata": {},
   "source": [
    "## Ejercicio 7. Serie de Fibonacci\n",
    "\n",
    "Escribe un programa que genere los primeros 10 términos de la serie Fibonacci utilizando un bucle while."
   ]
  },
  {
   "cell_type": "code",
   "execution_count": null,
   "metadata": {},
   "outputs": [],
   "source": []
  }
 ],
 "metadata": {
  "kernelspec": {
   "display_name": "Python 3 (ipykernel)",
   "language": "python",
   "name": "python3"
  },
  "language_info": {
   "codemirror_mode": {
    "name": "ipython",
    "version": 3
   },
   "file_extension": ".py",
   "mimetype": "text/x-python",
   "name": "python",
   "nbconvert_exporter": "python",
   "pygments_lexer": "ipython3",
   "version": "3.9.13"
  },
  "vscode": {
   "interpreter": {
    "hash": "03f549537fa19b43efbf5aa4d6467b94388b966112c368cc66a2484d89a4a6bd"
   }
  }
 },
 "nbformat": 4,
 "nbformat_minor": 4
}
