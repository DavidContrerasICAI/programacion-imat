{
 "cells": [
  {
   "cell_type": "markdown",
   "id": "aa9255c6-a1c4-4d9b-bf10-339cd976cf47",
   "metadata": {},
   "source": [
    "## Ejercicio 1: Conversión de binario a decimal\n",
    "\n",
    "Convierte los siguientes números binarios a decimal:\n",
    "\n",
    "1. `1011₂` → **11**\n",
    "2. `11001₂` → **25**\n",
    "3. `111111₂` → **63**"
   ]
  },
  {
   "cell_type": "code",
   "execution_count": 4,
   "id": "ce0bb5de-9057-4edf-afe8-6b57aaae735f",
   "metadata": {},
   "outputs": [
    {
     "data": {
      "text/plain": [
       "11"
      ]
     },
     "execution_count": 4,
     "metadata": {},
     "output_type": "execute_result"
    }
   ],
   "source": [
    "int(\"1011\", 2)"
   ]
  },
  {
   "cell_type": "code",
   "execution_count": 6,
   "id": "7f678a0c-e843-4442-b187-118c9134a2a8",
   "metadata": {},
   "outputs": [
    {
     "data": {
      "text/plain": [
       "25"
      ]
     },
     "execution_count": 6,
     "metadata": {},
     "output_type": "execute_result"
    }
   ],
   "source": [
    "int(\"11001\", 2)"
   ]
  },
  {
   "cell_type": "code",
   "execution_count": 8,
   "id": "3be62403-685b-4601-8af4-0536e4003cfa",
   "metadata": {},
   "outputs": [
    {
     "data": {
      "text/plain": [
       "63"
      ]
     },
     "execution_count": 8,
     "metadata": {},
     "output_type": "execute_result"
    }
   ],
   "source": [
    "int(\"111111\", 2)"
   ]
  },
  {
   "cell_type": "markdown",
   "id": "fd3bd64b-8cf7-4353-8f1f-12ade66318be",
   "metadata": {},
   "source": [
    "## Ejercicio 2: Conversión de decimal a hexadecimal\n",
    "1. `25₁₀` → **19₁₆**\n",
    "2. `255₁₀` → **FF₁₆**\n",
    "3. `1023₁₀` → **3FF₁₆**"
   ]
  },
  {
   "cell_type": "code",
   "execution_count": 14,
   "id": "6cd81300-ad0f-419b-b277-52c913c04371",
   "metadata": {},
   "outputs": [
    {
     "data": {
      "text/plain": [
       "'0x19'"
      ]
     },
     "execution_count": 14,
     "metadata": {},
     "output_type": "execute_result"
    }
   ],
   "source": [
    "hex(25)"
   ]
  },
  {
   "cell_type": "code",
   "execution_count": 20,
   "id": "832a3c58-91e8-4904-9959-242c1eab1296",
   "metadata": {},
   "outputs": [
    {
     "data": {
      "text/plain": [
       "'0xff'"
      ]
     },
     "execution_count": 20,
     "metadata": {},
     "output_type": "execute_result"
    }
   ],
   "source": [
    "hex(255)"
   ]
  },
  {
   "cell_type": "code",
   "execution_count": 18,
   "id": "5e3de669-9471-4e0d-94ce-ccd927261079",
   "metadata": {},
   "outputs": [
    {
     "data": {
      "text/plain": [
       "'0x3ff'"
      ]
     },
     "execution_count": 18,
     "metadata": {},
     "output_type": "execute_result"
    }
   ],
   "source": [
    "hex(1023)"
   ]
  },
  {
   "cell_type": "markdown",
   "id": "b6dc8445-e956-4b17-8ebc-7c05ff3c4c97",
   "metadata": {},
   "source": [
    "## Ejercicio 3: Conversión de hexadecimal a binario\n",
    "1. `A₁₆` → **1010₂**\n",
    "2. `1F₁₆` → **11111₂**\n",
    "3. `7B₁₆` → **1111011₂**"
   ]
  },
  {
   "cell_type": "code",
   "execution_count": 26,
   "id": "5d863c41-9359-4fe4-a180-26327208a143",
   "metadata": {},
   "outputs": [
    {
     "data": {
      "text/plain": [
       "'0b1010'"
      ]
     },
     "execution_count": 26,
     "metadata": {},
     "output_type": "execute_result"
    }
   ],
   "source": [
    "num_dec = int(\"A\", 16)\n",
    "bin(num_dec)"
   ]
  },
  {
   "cell_type": "code",
   "execution_count": 28,
   "id": "ea0216ef-faef-4a0b-b7e3-5140036bc0f8",
   "metadata": {},
   "outputs": [
    {
     "data": {
      "text/plain": [
       "'0b11111'"
      ]
     },
     "execution_count": 28,
     "metadata": {},
     "output_type": "execute_result"
    }
   ],
   "source": [
    "num_dec = int(\"1F\", 16)\n",
    "bin(num_dec)"
   ]
  },
  {
   "cell_type": "code",
   "execution_count": 30,
   "id": "1689f93b-c8ec-4919-9f56-5fb4f5384da0",
   "metadata": {},
   "outputs": [
    {
     "data": {
      "text/plain": [
       "'0b1111011'"
      ]
     },
     "execution_count": 30,
     "metadata": {},
     "output_type": "execute_result"
    }
   ],
   "source": [
    "num_dec = int(\"7B\", 16)\n",
    "bin(num_dec)"
   ]
  },
  {
   "cell_type": "markdown",
   "id": "a0554460-ed8a-4d69-85a8-cb52ec10658e",
   "metadata": {},
   "source": [
    "## Ejercicio 4: Suma binaria\n",
    "1. `1011₂ + 1101₂ = 11000₂ (24₁₀)`\n",
    "2. `1110₂ + 1010₂ = 11000₂ (24₁₀)`\n",
    "3. `10011₂ + 11101₂ = 110000₂ (48₁₀)`"
   ]
  },
  {
   "cell_type": "code",
   "execution_count": 37,
   "id": "dedf5faa-962e-4751-994a-440b91e85443",
   "metadata": {},
   "outputs": [
    {
     "data": {
      "text/plain": [
       "'0b11000'"
      ]
     },
     "execution_count": 37,
     "metadata": {},
     "output_type": "execute_result"
    }
   ],
   "source": [
    "bin(0b1011 + 0b1101) "
   ]
  },
  {
   "cell_type": "code",
   "execution_count": 39,
   "id": "01a06ff2-c9bf-4d31-85b4-3c381c761412",
   "metadata": {},
   "outputs": [
    {
     "data": {
      "text/plain": [
       "'0b11000'"
      ]
     },
     "execution_count": 39,
     "metadata": {},
     "output_type": "execute_result"
    }
   ],
   "source": [
    "bin(0b1110 + 0b1010) "
   ]
  },
  {
   "cell_type": "code",
   "execution_count": 41,
   "id": "e3b284d6-320f-4771-a89c-86f7b3a64da7",
   "metadata": {},
   "outputs": [
    {
     "data": {
      "text/plain": [
       "'0b110000'"
      ]
     },
     "execution_count": 41,
     "metadata": {},
     "output_type": "execute_result"
    }
   ],
   "source": [
    "bin(0b10011 + 0b11101) "
   ]
  },
  {
   "cell_type": "markdown",
   "id": "053f3cf0-1575-4835-a591-c99e079ac5d7",
   "metadata": {},
   "source": [
    "## Extras"
   ]
  },
  {
   "cell_type": "code",
   "execution_count": 48,
   "id": "ec6e27bb-bb7c-4613-a170-21a4e400ee0e",
   "metadata": {},
   "outputs": [
    {
     "name": "stdout",
     "output_type": "stream",
     "text": [
      "10\n"
     ]
    }
   ],
   "source": [
    "numero_hex = 0xA\n",
    "print(numero_hex)    # La impresión siempre es en decimal"
   ]
  },
  {
   "cell_type": "code",
   "execution_count": 60,
   "id": "ad1e631d-5f48-4e9d-a252-163df99bdc3d",
   "metadata": {},
   "outputs": [
    {
     "name": "stdout",
     "output_type": "stream",
     "text": [
      "10\n"
     ]
    }
   ],
   "source": [
    "numero_bin = 0b1010\n",
    "print(numero_bin)    # La impresión siempre es en decimal"
   ]
  },
  {
   "cell_type": "code",
   "execution_count": 56,
   "id": "92200175-5997-486f-ac5c-02e677f904aa",
   "metadata": {},
   "outputs": [
    {
     "name": "stdout",
     "output_type": "stream",
     "text": [
      "10\n"
     ]
    }
   ],
   "source": [
    "numero_dec = 10\n",
    "print(numero_dec)"
   ]
  },
  {
   "cell_type": "code",
   "execution_count": null,
   "id": "5f87d768-f080-4828-b6f0-1cf641cbc566",
   "metadata": {},
   "outputs": [],
   "source": []
  }
 ],
 "metadata": {
  "kernelspec": {
   "display_name": "Python 3 (ipykernel)",
   "language": "python",
   "name": "python3"
  },
  "language_info": {
   "codemirror_mode": {
    "name": "ipython",
    "version": 3
   },
   "file_extension": ".py",
   "mimetype": "text/x-python",
   "name": "python",
   "nbconvert_exporter": "python",
   "pygments_lexer": "ipython3",
   "version": "3.12.4"
  }
 },
 "nbformat": 4,
 "nbformat_minor": 5
}
