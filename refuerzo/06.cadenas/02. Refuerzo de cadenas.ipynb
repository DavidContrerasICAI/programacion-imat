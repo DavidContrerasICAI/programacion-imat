{
 "cells": [
  {
   "cell_type": "markdown",
   "metadata": {},
   "source": [
    "# Ejercicios de refuerzo: cadenas de caracteres"
   ]
  },
  {
   "cell_type": "markdown",
   "metadata": {},
   "source": [
    "## Ejercicio #1. ASCII\n",
    "Muestra la tabla ASCII correspondiente a los caracteres \"A\" hasta la \"z\", quedando una salida similar a la siguiente. Se imprimirán tabulaciones entre la información de caracter->código:\n",
    "\n",
    "**Salida**\n",
    "\n",
    "```\n",
    "Char  ASCII\n",
    "================\n",
    "A->65    B->66    C->67    D->68    E->69    F->70    G-> 71\n",
    "...\n",
    "x->120 y->121    z->122\n",
    "``"
   ]
  },
  {
   "cell_type": "markdown",
   "metadata": {},
   "source": [
    "## Ejercicio #2a\n",
    "\n",
    "Detectar si el número float introducido (en este caso asignado directamente a una variable) es realmente un float o no. Para ello, se deberá evaluar si los caracteres son números y existe un punto decimal (y solo uno) caracter a caracter.\n",
    "\n",
    "Se desarrollará la solución mediante **for** y **while**.\n",
    "\n",
    "**No se podrán utilizar métodos de string para programar esta solución**."
   ]
  },
  {
   "cell_type": "markdown",
   "metadata": {},
   "source": [
    "## Ejercicio #2b\n",
    "\n",
    "Realizar la misma funcionalidad pero utilizando esta vez métodos de string."
   ]
  },
  {
   "cell_type": "markdown",
   "metadata": {},
   "source": [
    "## Ejercicio #3\n",
    "Realizar un programa que cree un string con el contenido invertido a partir de otro ya exsitente.\n",
    "\n",
    "Se realizará mediante bucles y mediante las operaciones de slicing e índices inversos.\n",
    "\n",
    "Pasar de \"Hola\" a \"aloH\", por ejemplo."
   ]
  },
  {
   "cell_type": "code",
   "execution_count": null,
   "metadata": {},
   "outputs": [],
   "source": []
  }
 ],
 "metadata": {
  "kernelspec": {
   "display_name": "Python 3 (ipykernel)",
   "language": "python",
   "name": "python3"
  },
  "language_info": {
   "codemirror_mode": {
    "name": "ipython",
    "version": 3
   },
   "file_extension": ".py",
   "mimetype": "text/x-python",
   "name": "python",
   "nbconvert_exporter": "python",
   "pygments_lexer": "ipython3",
   "version": "3.12.4"
  }
 },
 "nbformat": 4,
 "nbformat_minor": 4
}
