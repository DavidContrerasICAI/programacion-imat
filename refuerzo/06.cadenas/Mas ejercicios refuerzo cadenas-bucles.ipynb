{
 "cells": [
  {
   "cell_type": "markdown",
   "id": "2b24c609",
   "metadata": {},
   "source": [
    "# Ejercicios refuerzo cadenas-bucles\n",
    "## Generados por ChatGPT\n",
    "\n",
    "### OJO: aunque han sido generados por la IA, muchos de ellos han sido reprogramados y adaptados. La IA nos ayuda, pero no nos reemplaza (por ahora)."
   ]
  },
  {
   "cell_type": "markdown",
   "id": "6d422efa",
   "metadata": {},
   "source": [
    "### Prompt\n",
    "Crea 10 ejercicios con solución que trabajen únicamente con cadenas de caracteres utilizando bucles while en Pyhton que recorran bucles anidados (al menos un bucle dentro de otro) que sea de nivel medio/avanzado para alumnos que ya sepan programar. El código generado no puede tener sentencias break ni trabajar con el operador in ni estructuras for."
   ]
  },
  {
   "cell_type": "markdown",
   "id": "3c04cb21",
   "metadata": {},
   "source": [
    "#### Ejercicio 1: Contar Vocales\n",
    "Descripción: Escribe un programa que cuente la cantidad de vocales (a, e, i, o, u) en una cadena de texto."
   ]
  },
  {
   "cell_type": "code",
   "execution_count": 17,
   "id": "9d39b638",
   "metadata": {},
   "outputs": [
    {
     "name": "stdout",
     "output_type": "stream",
     "text": [
      "Ingrese una cadena de texto: cadena\n",
      "La cadena tiene 3 vocales.\n"
     ]
    }
   ],
   "source": [
    "# Ejercicio 1: Contar Vocales\n",
    "cadena = input(\"Ingrese una cadena de texto: \")\n",
    "vocales = \"aeiouAEIOU\"\n",
    "contador = 0\n",
    "\n",
    "i = 0\n",
    "while i < len(cadena):\n",
    "    j = 0\n",
    "    vocal_actual = cadena[i]\n",
    "    es_vocal = False\n",
    "    while j < len(vocales):\n",
    "        if vocal_actual == vocales[j]:\n",
    "            es_vocal = True\n",
    "            j = len(vocales)\n",
    "        j += 1\n",
    "\n",
    "    if es_vocal:\n",
    "        contador += 1\n",
    "\n",
    "    i += 1\n",
    "\n",
    "print(f\"La cadena tiene {contador} vocales.\")"
   ]
  },
  {
   "cell_type": "markdown",
   "id": "4cf578fd",
   "metadata": {},
   "source": [
    "#### Ejercicio 2: Invertir Palabras\n",
    "Descripción: Escribe un programa que invierta el orden de las palabras en una cadena de texto."
   ]
  },
  {
   "cell_type": "code",
   "execution_count": 18,
   "id": "83977cdd",
   "metadata": {},
   "outputs": [
    {
     "name": "stdout",
     "output_type": "stream",
     "text": [
      "Ingrese una cadena de texto: una dos tres cuatro\n",
      "cuatro tres dos una \n"
     ]
    }
   ],
   "source": [
    "# Ejercicio 2: Invertir Palabras\n",
    "cadena = input(\"Ingrese una cadena de texto: \")\n",
    "resultado = \"\"\n",
    "palabra_actual = \"\"\n",
    "i = 0\n",
    "\n",
    "while i < len(cadena):\n",
    "    j = 0\n",
    "    while i < len(cadena) and cadena[i] != ' ':\n",
    "        palabra_actual += cadena[i]\n",
    "        i += 1\n",
    "        j += 1\n",
    "\n",
    "    resultado = palabra_actual + \" \" + resultado\n",
    "    palabra_actual = \"\"\n",
    "\n",
    "    while i < len(cadena) and cadena[i] == ' ':\n",
    "        i += 1\n",
    "\n",
    "print(resultado)\n"
   ]
  },
  {
   "cell_type": "markdown",
   "id": "01075dba",
   "metadata": {},
   "source": [
    "#### Ejercicio 3: Contar Letras Mayúsculas y Minúsculas\n",
    "Descripción: Cuenta la cantidad de letras mayúsculas y minúsculas en una cadena de texto"
   ]
  },
  {
   "cell_type": "code",
   "execution_count": 19,
   "id": "5af21797",
   "metadata": {},
   "outputs": [
    {
     "name": "stdout",
     "output_type": "stream",
     "text": [
      "Ingrese una cadena de texto: holAcueNta\n",
      "Mayúsculas: 2, Minúsculas: 8\n"
     ]
    }
   ],
   "source": [
    "# Ejercicio 3: Contar Letras Mayúsculas y Minúsculas\n",
    "cadena = input(\"Ingrese una cadena de texto: \")\n",
    "mayusculas = \"ABCDEFGHIJKLMNOPQRSTUVWXYZ\"\n",
    "minusculas = \"abcdefghijklmnopqrstuvwxyz\"\n",
    "mayusculas_contador = 0\n",
    "minusculas_contador = 0\n",
    "\n",
    "i = 0\n",
    "while i < len(cadena):\n",
    "    j = 0\n",
    "    letra_actual = cadena[i]\n",
    "    es_mayuscula = False\n",
    "    es_minuscula = False\n",
    "\n",
    "    while j < len(mayusculas):\n",
    "        if letra_actual == mayusculas[j]:\n",
    "            es_mayuscula = True\n",
    "            j = len(mayusculas)\n",
    "        j += 1\n",
    "\n",
    "    j = 0\n",
    "    while j < len(minusculas):\n",
    "        if letra_actual == minusculas[j]:\n",
    "            es_minuscula = True\n",
    "            j = len(mayusculas)\n",
    "        j += 1\n",
    "\n",
    "    if es_mayuscula:\n",
    "        mayusculas_contador += 1\n",
    "\n",
    "    if es_minuscula:\n",
    "        minusculas_contador += 1\n",
    "\n",
    "    i += 1\n",
    "\n",
    "print(f\"Mayúsculas: {mayusculas_contador}, Minúsculas: {minusculas_contador}\")"
   ]
  },
  {
   "cell_type": "markdown",
   "id": "087dffe8",
   "metadata": {},
   "source": [
    "#### Solución David"
   ]
  },
  {
   "cell_type": "code",
   "execution_count": 23,
   "id": "fff95278",
   "metadata": {},
   "outputs": [
    {
     "name": "stdout",
     "output_type": "stream",
     "text": [
      "Ingrese una cadena de texto: holAcueNta\n",
      "Mayúsculas: 2, Minúsculas: 8\n"
     ]
    }
   ],
   "source": [
    "# Ejercicio 3: Contar Letras Mayúsculas y Minúsculas\n",
    "cadena = input(\"Ingrese una cadena de texto: \")\n",
    "\n",
    "mayusculas_contador = 0\n",
    "minusculas_contador = 0\n",
    "\n",
    "i = 0\n",
    "while i < len(cadena):\n",
    "    letra_actual = cadena[i]\n",
    "\n",
    "    if ord(letra_actual) >= ord(\"A\") and ord(letra_actual) <= ord(\"Z\"):\n",
    "        mayusculas_contador += 1\n",
    "    elif ord(letra_actual) >= ord(\"a\") and ord(letra_actual) <= ord(\"z\"):\n",
    "        minusculas_contador += 1\n",
    "\n",
    "    i += 1\n",
    "\n",
    "print(f\"Mayúsculas: {mayusculas_contador}, Minúsculas: {minusculas_contador}\")"
   ]
  },
  {
   "cell_type": "markdown",
   "id": "3064b6ef",
   "metadata": {},
   "source": [
    "#### Ejercicio 5: Limpiar oraciones con upper\n",
    "Descripción: Capitaliza y elimina/crea espacios en una frase separada por puntos.\n",
    "\n",
    "Convierte:\n",
    "- \"una.dos.tres\" en \"Una. Dos. Tres\"\n",
    "- \"uno.   dos. tres.cuatro\" en Uno. Dos. Tres. Cuatro\n"
   ]
  },
  {
   "cell_type": "code",
   "execution_count": 36,
   "id": "6e2899d2",
   "metadata": {},
   "outputs": [
    {
     "name": "stdout",
     "output_type": "stream",
     "text": [
      "Ingrese frases que terminen en . : una.dos.tres\n",
      "Una. Dos. Tres\n"
     ]
    }
   ],
   "source": [
    "# Ejercicio 5: Capitalizar Oraciones\n",
    "cadena = input(\"Ingrese frases que terminen en . : \")\n",
    "resultado = \"\"\n",
    "i = 0\n",
    "\n",
    "while i < len(cadena):\n",
    "    if i == 0:\n",
    "        resultado = cadena[i].upper()\n",
    "        i += 1\n",
    "        \n",
    "    if cadena[i] != '.':\n",
    "        resultado += cadena[i]\n",
    "    else:\n",
    "        i += 1\n",
    "        while cadena[i] == \" \":\n",
    "            i += 1\n",
    "        resultado += \". \" + cadena[i].upper()\n",
    "    i += 1\n",
    "\n",
    "print(resultado)\n"
   ]
  },
  {
   "cell_type": "markdown",
   "id": "dc6fb55e",
   "metadata": {},
   "source": [
    "#### Ejercicio 6: Encontrar la Palabra Más Larga\n",
    "Descripción: Encuentra y muestra la palabra más larga en una cadena de texto."
   ]
  },
  {
   "cell_type": "code",
   "execution_count": 41,
   "id": "08d47bdd",
   "metadata": {},
   "outputs": [
    {
     "name": "stdout",
     "output_type": "stream",
     "text": [
      "Ingrese una cadena de texto: una dos tres cuatro seis dos\n",
      "La palabra más larga es: cuatro\n"
     ]
    }
   ],
   "source": [
    "# Ejercicio 6: Encontrar la Palabra Más Larga\n",
    "cadena = input(\"Ingrese una cadena de texto: \")\n",
    "palabra_mas_larga = \"\"\n",
    "palabra_actual = \"\"\n",
    "i = 0\n",
    "\n",
    "while i < len(cadena):\n",
    "    while i < len(cadena) and cadena[i] != ' ':\n",
    "        palabra_actual += cadena[i]\n",
    "        i += 1\n",
    "\n",
    "    if len(palabra_actual) > len(palabra_mas_larga):\n",
    "        palabra_mas_larga = palabra_actual\n",
    "\n",
    "    palabra_actual = \"\"\n",
    "    i += 1\n",
    "\n",
    "print(f\"La palabra más larga es: {palabra_mas_larga}\")"
   ]
  },
  {
   "cell_type": "markdown",
   "id": "a95f95f4",
   "metadata": {},
   "source": [
    "#### Ejercicio 9: Contar Consonantes\n",
    "Descripción: Cuenta la cantidad de consonantes en una cadena de texto."
   ]
  },
  {
   "cell_type": "code",
   "execution_count": 47,
   "id": "e99c1f32",
   "metadata": {},
   "outputs": [
    {
     "name": "stdout",
     "output_type": "stream",
     "text": [
      "Ingrese una cadena de texto: ejemplo\n",
      "La cadena tiene 4 consonantes.\n"
     ]
    }
   ],
   "source": [
    "# Ejercicio 9: Contar Consonantes\n",
    "cadena = input(\"Ingrese una cadena de texto: \")\n",
    "consonantes = \"bcdfghjklmnpqrstvwxyzBCDFGHJKLMNPQRSTVWXYZ\"\n",
    "contador = 0\n",
    "\n",
    "i = 0\n",
    "while i < len(cadena):\n",
    "    j = 0\n",
    "    letra_actual = cadena[i]\n",
    "    es_consonante = False\n",
    "\n",
    "    while j < len(consonantes):\n",
    "        if letra_actual == consonantes[j]:\n",
    "            es_consonante = True\n",
    "            j = len(consonantes)\n",
    "        j += 1\n",
    "\n",
    "    if es_consonante:\n",
    "        contador += 1\n",
    "\n",
    "    i += 1\n",
    "\n",
    "print(f\"La cadena tiene {contador} consonantes.\")"
   ]
  },
  {
   "cell_type": "markdown",
   "id": "6433738a",
   "metadata": {},
   "source": [
    "#### Versión David"
   ]
  },
  {
   "cell_type": "code",
   "execution_count": 51,
   "id": "59c5497d",
   "metadata": {},
   "outputs": [
    {
     "name": "stdout",
     "output_type": "stream",
     "text": [
      "Ingrese una cadena de texto: ejemplo\n",
      "La cadena tiene 4 consonantes.\n"
     ]
    }
   ],
   "source": [
    "# Ejercicio 9: Contar Consonantes\n",
    "cadena = input(\"Ingrese una cadena de texto: \")\n",
    "vocales = \"aeiou\"\n",
    "contador_vocales = 0\n",
    "\n",
    "i = 0\n",
    "while i < len(cadena):\n",
    "    j = 0\n",
    "    while j < len(vocales):\n",
    "        if cadena[i] == vocales[j]:\n",
    "            contador_vocales += 1\n",
    "            j = len(vocales)\n",
    "        else:\n",
    "            j += 1\n",
    "    i += 1\n",
    "\n",
    "print(f\"La cadena tiene {len(cadena) - contador_vocales} consonantes.\")"
   ]
  },
  {
   "cell_type": "markdown",
   "id": "e5a9df8a",
   "metadata": {},
   "source": [
    "#### Ejercicio 11: Reemplazar Subcadenas\n",
    "Descripción: Reemplaza todas las instancias de una subcadena con otra en una cadena de texto."
   ]
  },
  {
   "cell_type": "code",
   "execution_count": 52,
   "id": "8f275eb3",
   "metadata": {},
   "outputs": [
    {
     "name": "stdout",
     "output_type": "stream",
     "text": [
      "Ingrese una cadena de texto: hola\n",
      "Subcadena a reemplazar: ol\n",
      "Nueva subcadena: X\n",
      "hXa\n"
     ]
    }
   ],
   "source": [
    "# Ejercicio 11: Reemplazar Subcadenas\n",
    "cadena = input(\"Ingrese una cadena de texto: \")\n",
    "subcadena_a_reemplazar = input(\"Subcadena a reemplazar: \")\n",
    "nueva_subcadena = input(\"Nueva subcadena: \")\n",
    "resultado = \"\"\n",
    "i = 0\n",
    "\n",
    "while i < len(cadena):\n",
    "    j = 0\n",
    "    coincide = True\n",
    "\n",
    "    while j < len(subcadena_a_reemplazar):\n",
    "        if i + j >= len(cadena) or cadena[i + j] != subcadena_a_reemplazar[j]:\n",
    "            coincide = False\n",
    "            j = len(subcadena_a_reemplazar)\n",
    "        j += 1\n",
    "\n",
    "    if coincide:\n",
    "        resultado += nueva_subcadena\n",
    "        i += len(subcadena_a_reemplazar)\n",
    "    else:\n",
    "        resultado += cadena[i]\n",
    "        i += 1\n",
    "\n",
    "print(resultado)\n"
   ]
  },
  {
   "cell_type": "markdown",
   "id": "bbc8b203",
   "metadata": {},
   "source": [
    "#### Ejercicio 12: Indica si una palabra es Palíndroma"
   ]
  },
  {
   "cell_type": "code",
   "execution_count": 74,
   "id": "361b0b22",
   "metadata": {},
   "outputs": [
    {
     "name": "stdout",
     "output_type": "stream",
     "text": [
      "Palabra palíndroma: True\n"
     ]
    }
   ],
   "source": [
    "# Ejercicio 12\n",
    "cadena = \"yohagoyogahoy\"\n",
    "palindroma = True\n",
    "i = 0\n",
    "while i < len(cadena)//2:\n",
    "    if cadena[i] != cadena[len(cadena)-i-1]:\n",
    "        palindroma = False\n",
    "    i += 1\n",
    "\n",
    "print(f\"Palabra palíndroma: {palindroma}\")"
   ]
  },
  {
   "cell_type": "markdown",
   "id": "139fef14",
   "metadata": {},
   "source": [
    "#### Otra solución David"
   ]
  },
  {
   "cell_type": "code",
   "execution_count": 75,
   "id": "90204ccd",
   "metadata": {},
   "outputs": [
    {
     "name": "stdout",
     "output_type": "stream",
     "text": [
      "Palabra palíndroma: True\n"
     ]
    }
   ],
   "source": [
    "cadena = \"yohagoyogahoy\"\n",
    "print(f\"Palabra palíndroma: {cadena == cadena[::-1]}\")"
   ]
  },
  {
   "cell_type": "code",
   "execution_count": null,
   "id": "d2e7f7c7",
   "metadata": {},
   "outputs": [],
   "source": []
  }
 ],
 "metadata": {
  "kernelspec": {
   "display_name": "Python 3 (ipykernel)",
   "language": "python",
   "name": "python3"
  },
  "language_info": {
   "codemirror_mode": {
    "name": "ipython",
    "version": 3
   },
   "file_extension": ".py",
   "mimetype": "text/x-python",
   "name": "python",
   "nbconvert_exporter": "python",
   "pygments_lexer": "ipython3",
   "version": "3.12.4"
  }
 },
 "nbformat": 4,
 "nbformat_minor": 5
}
