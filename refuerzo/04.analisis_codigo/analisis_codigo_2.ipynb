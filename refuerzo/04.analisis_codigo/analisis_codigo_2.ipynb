{
 "cells": [
  {
   "cell_type": "markdown",
   "id": "e2334e91-0112-450a-ad30-499a559fe289",
   "metadata": {},
   "source": [
    "# Ejercicios de refuerzo: análisis de código II\n",
    "## ¿Cuál es la salida del programa?"
   ]
  },
  {
   "cell_type": "markdown",
   "id": "b411c1a4-9545-4db7-b286-0e7e74d256f8",
   "metadata": {},
   "source": [
    "#### Programa #1"
   ]
  },
  {
   "cell_type": "code",
   "execution_count": null,
   "id": "2f086fc5-7355-4d62-af3e-bf2fa64efc28",
   "metadata": {},
   "outputs": [],
   "source": [
    "r = 3\n",
    "c = 5\n",
    "i = 0\n",
    "while i < r:\n",
    "    j = 0\n",
    "    s = \"\"\n",
    "    while j < c:\n",
    "        s = s + \"*\"\n",
    "        j = j + 1\n",
    "    print(s)\n",
    "    i = i + 1"
   ]
  },
  {
   "cell_type": "markdown",
   "id": "eeca3e42-2b54-437c-9812-e4c1ee0a034e",
   "metadata": {},
   "source": [
    "#### Programa #2"
   ]
  },
  {
   "cell_type": "code",
   "execution_count": null,
   "id": "10f6a23a-3c5b-41f9-a610-2d3715fdc168",
   "metadata": {},
   "outputs": [],
   "source": [
    "n = 5\n",
    "i = 1\n",
    "while i <= n:\n",
    "    j = 0\n",
    "    s = \"\"\n",
    "    while j < i:\n",
    "        s = s + \"*\"\n",
    "        j = j + 1\n",
    "    print(s)\n",
    "    i = i + 1"
   ]
  },
  {
   "cell_type": "markdown",
   "id": "9610602e-5edc-4ac1-b085-e69d840a76e6",
   "metadata": {},
   "source": [
    "#### Programa #3"
   ]
  },
  {
   "cell_type": "code",
   "execution_count": null,
   "id": "ea7f04ea-dbec-41a5-b10c-ad1dfbad8e22",
   "metadata": {},
   "outputs": [],
   "source": [
    "c = 6\n",
    "i = 0\n",
    "while i < r:\n",
    "    j = 0\n",
    "    s = \"\"\n",
    "    while j < c:\n",
    "        if (i + j) % 2 == 0:\n",
    "            s = s + \"*\"\n",
    "        else:\n",
    "            s = s + \".\"\n",
    "        j = j + 1\n",
    "    print(s)\n",
    "    i = i + 1"
   ]
  },
  {
   "cell_type": "markdown",
   "id": "f56d5f38-a170-4740-a8a5-c7c66107a215",
   "metadata": {},
   "source": [
    "#### Programa #4"
   ]
  },
  {
   "cell_type": "code",
   "execution_count": null,
   "id": "3ff9f191-98c0-45f9-8a92-e11b228c50b2",
   "metadata": {},
   "outputs": [],
   "source": [
    "n = 6\n",
    "i = 0\n",
    "while i < n:\n",
    "    j = 0\n",
    "    s = \"\"\n",
    "    while j < n:\n",
    "        if j == i:\n",
    "            s = s + \"\\\\\"\n",
    "        else:\n",
    "            s = s + \".\"\n",
    "        j = j + 1\n",
    "    print(s)\n",
    "    i = i + 1"
   ]
  },
  {
   "cell_type": "markdown",
   "id": "023f4419-c9cc-4832-930a-4692eedce996",
   "metadata": {},
   "source": [
    "#### Programa #5"
   ]
  },
  {
   "cell_type": "code",
   "execution_count": null,
   "id": "dc1ca8df-78eb-434a-8e87-6a95ba5ecc78",
   "metadata": {},
   "outputs": [],
   "source": [
    "n = 5\n",
    "i = 1\n",
    "while i <= n:\n",
    "    j = 1\n",
    "    s = \"\"\n",
    "    while j <= i:\n",
    "        s = s + str(j)\n",
    "        j = j + 1\n",
    "    print(s)\n",
    "    i = i + 1"
   ]
  },
  {
   "cell_type": "markdown",
   "id": "848a2854-156a-439f-b90b-0688689187fc",
   "metadata": {},
   "source": [
    "#### Programa #6"
   ]
  },
  {
   "cell_type": "code",
   "execution_count": null,
   "id": "e39f9874-3221-4baf-ad7c-ceedaa81fcb4",
   "metadata": {},
   "outputs": [],
   "source": [
    "r = 4\n",
    "c = 7\n",
    "i = 0\n",
    "while i < r:\n",
    "    j = 0\n",
    "    s = \"\"\n",
    "    while j < c:\n",
    "        k = 65 + ((i + j) % 3)\n",
    "        ch = chr(k)\n",
    "        s = s + ch\n",
    "        j = j + 1\n",
    "    print(s)\n",
    "    i = i + 1"
   ]
  },
  {
   "cell_type": "markdown",
   "id": "f720bcd7-5317-4ca0-addc-bb5a542cf8c4",
   "metadata": {},
   "source": [
    "#### Programa #7"
   ]
  },
  {
   "cell_type": "code",
   "execution_count": null,
   "id": "d8cb6048-ebed-4a56-9e9c-e4646799fd7e",
   "metadata": {},
   "outputs": [],
   "source": [
    "r = 5\n",
    "c = 9\n",
    "i = 0\n",
    "while i < r:\n",
    "    j = 0\n",
    "    s = \"\"\n",
    "    while j < c:\n",
    "        if i == 0 or j == 0 or i == r - 1 or j == c - 1:\n",
    "            s = s + \"#\"\n",
    "        else:\n",
    "            s = s + \" \"\n",
    "        j = j + 1\n",
    "    print(s)\n",
    "    i = i + 1"
   ]
  },
  {
   "cell_type": "markdown",
   "id": "fbae2183-d8a7-4647-adb7-2e0067678d18",
   "metadata": {},
   "source": [
    "#### Programa #8"
   ]
  },
  {
   "cell_type": "code",
   "execution_count": null,
   "id": "68350309-30f9-46e9-98c4-51d79f91cf12",
   "metadata": {},
   "outputs": [],
   "source": [
    "r = 4\n",
    "c = 6\n",
    "i = 0\n",
    "while i < r:\n",
    "    j = 0\n",
    "    s = \"\"\n",
    "    while j < c:\n",
    "        s = s + str(i % 10) + str(j % 10)\n",
    "        j = j + 1\n",
    "    print(s)\n",
    "    i = i + 1"
   ]
  },
  {
   "cell_type": "markdown",
   "id": "ad66c31c-0aa0-40e1-97e9-9c729ed0aa17",
   "metadata": {},
   "source": [
    "#### Programa #9"
   ]
  },
  {
   "cell_type": "code",
   "execution_count": null,
   "id": "616cd1c1-f986-4afa-8c40-2e37e26853c5",
   "metadata": {},
   "outputs": [],
   "source": [
    "n = 5\n",
    "i = n\n",
    "while i > 0:\n",
    "    j = 0\n",
    "    s = \"\"\n",
    "    while j < i:\n",
    "        s = s + \"*\"\n",
    "        j = j + 1\n",
    "    print(s)\n",
    "    i = i - 1"
   ]
  },
  {
   "cell_type": "markdown",
   "id": "bc3dfa4e-9e64-450c-8283-ae19563d2778",
   "metadata": {},
   "source": [
    "#### Programa #10"
   ]
  },
  {
   "cell_type": "code",
   "execution_count": null,
   "id": "d493e3b0-b6f7-43c1-a8e8-cda4b3c841a7",
   "metadata": {},
   "outputs": [],
   "source": [
    "r = 5\n",
    "c = 8\n",
    "i = 0\n",
    "while i < r:\n",
    "    j = 0\n",
    "    s = \"\"\n",
    "    while j < c:\n",
    "        if (i % 2 == 0 and j % 2 == 0) or (i % 2 == 1 and j % 2 == 1):\n",
    "            s = s + \"*\"\n",
    "        else:\n",
    "            s = s + \"-\"\n",
    "        j = j + 1\n",
    "    print(s)\n",
    "    i = i + 1"
   ]
  }
 ],
 "metadata": {
  "kernelspec": {
   "display_name": "Python 3 (ipykernel)",
   "language": "python",
   "name": "python3"
  },
  "language_info": {
   "codemirror_mode": {
    "name": "ipython",
    "version": 3
   },
   "file_extension": ".py",
   "mimetype": "text/x-python",
   "name": "python",
   "nbconvert_exporter": "python",
   "pygments_lexer": "ipython3",
   "version": "3.12.4"
  }
 },
 "nbformat": 4,
 "nbformat_minor": 5
}
