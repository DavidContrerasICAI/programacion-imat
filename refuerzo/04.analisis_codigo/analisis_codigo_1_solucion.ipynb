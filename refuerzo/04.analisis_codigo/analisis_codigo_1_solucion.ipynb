{
 "cells": [
  {
   "cell_type": "markdown",
   "id": "e2334e91-0112-450a-ad30-499a559fe289",
   "metadata": {},
   "source": [
    "# Ejercicios de refuerzo: análisis de código I\n",
    "## ¿Cuál es la salida del programa?"
   ]
  },
  {
   "cell_type": "markdown",
   "id": "b411c1a4-9545-4db7-b286-0e7e74d256f8",
   "metadata": {},
   "source": [
    "#### Programa #1"
   ]
  },
  {
   "cell_type": "code",
   "execution_count": 35,
   "id": "2f086fc5-7355-4d62-af3e-bf2fa64efc28",
   "metadata": {},
   "outputs": [
    {
     "name": "stdout",
     "output_type": "stream",
     "text": [
      "12\n"
     ]
    }
   ],
   "source": [
    "a = 0\n",
    "x = 3\n",
    "y = 4\n",
    "i = 0\n",
    "while i < x:\n",
    "    j = 0\n",
    "    while j < y:\n",
    "        a = a + 1\n",
    "        j = j + 1\n",
    "    i = i + 1\n",
    "print(a)"
   ]
  },
  {
   "cell_type": "markdown",
   "id": "eeca3e42-2b54-437c-9812-e4c1ee0a034e",
   "metadata": {},
   "source": [
    "#### Programa #2"
   ]
  },
  {
   "cell_type": "code",
   "execution_count": 38,
   "id": "10f6a23a-3c5b-41f9-a610-2d3715fdc168",
   "metadata": {},
   "outputs": [
    {
     "name": "stdout",
     "output_type": "stream",
     "text": [
      "20\n"
     ]
    }
   ],
   "source": [
    "s = 0\n",
    "n = 4\n",
    "i = 1\n",
    "while i <= n:\n",
    "    j = 1\n",
    "    while j <= i:\n",
    "        s = s + j\n",
    "        j = j + 1\n",
    "    i = i+ 1\n",
    "print(s)"
   ]
  },
  {
   "cell_type": "markdown",
   "id": "9610602e-5edc-4ac1-b085-e69d840a76e6",
   "metadata": {},
   "source": [
    "#### Programa #3"
   ]
  },
  {
   "cell_type": "code",
   "execution_count": 41,
   "id": "ea7f04ea-dbec-41a5-b10c-ad1dfbad8e22",
   "metadata": {},
   "outputs": [
    {
     "name": "stdout",
     "output_type": "stream",
     "text": [
      "2 3\n"
     ]
    }
   ],
   "source": [
    "x = 17\n",
    "y = 5\n",
    "q = 0\n",
    "while x >= y:\n",
    "    j = 0\n",
    "    while j < y:\n",
    "        x = x - 1\n",
    "        j = j + 1\n",
    "    q = q + 1\n",
    "print(x, q)"
   ]
  },
  {
   "cell_type": "markdown",
   "id": "f56d5f38-a170-4740-a8a5-c7c66107a215",
   "metadata": {},
   "source": [
    "#### Programa #4"
   ]
  },
  {
   "cell_type": "code",
   "execution_count": 44,
   "id": "3ff9f191-98c0-45f9-8a92-e11b228c50b2",
   "metadata": {},
   "outputs": [
    {
     "name": "stdout",
     "output_type": "stream",
     "text": [
      "9\n"
     ]
    }
   ],
   "source": [
    "c = 0\n",
    "n = 5\n",
    "i = 0\n",
    "while i < n:\n",
    "    j = 0\n",
    "    while j <= i:\n",
    "        c = c + ((i + j) % 2 == 0)\n",
    "        j = j + 1\n",
    "    i = i + 1\n",
    "print(c)"
   ]
  },
  {
   "cell_type": "markdown",
   "id": "023f4419-c9cc-4832-930a-4692eedce996",
   "metadata": {},
   "source": [
    "#### Programa #5"
   ]
  },
  {
   "cell_type": "code",
   "execution_count": 47,
   "id": "dc1ca8df-78eb-434a-8e87-6a95ba5ecc78",
   "metadata": {},
   "outputs": [
    {
     "name": "stdout",
     "output_type": "stream",
     "text": [
      "False\n"
     ]
    }
   ],
   "source": [
    "ok = False\n",
    "n = 45231\n",
    "i = 0\n",
    "while n > 0 and not ok:\n",
    "    d = n % 10\n",
    "    m = n // 10\n",
    "    j = 0\n",
    "    while j < 1 and m > 0:\n",
    "        e = m % 10\n",
    "        ok = (10 * d + e) == 23 or ok\n",
    "        m = m // 10\n",
    "        j = j + 1\n",
    "    n = n // 10\n",
    "print(ok)"
   ]
  },
  {
   "cell_type": "markdown",
   "id": "848a2854-156a-439f-b90b-0688689187fc",
   "metadata": {},
   "source": [
    "#### Programa #6"
   ]
  },
  {
   "cell_type": "code",
   "execution_count": 50,
   "id": "e39f9874-3221-4baf-ad7c-ceedaa81fcb4",
   "metadata": {},
   "outputs": [
    {
     "name": "stdout",
     "output_type": "stream",
     "text": [
      "8\n"
     ]
    }
   ],
   "source": [
    "b = 0\n",
    "m = 3\n",
    "n = 3\n",
    "i = 0\n",
    "while i < m:\n",
    "    j = 0\n",
    "    while j < n:\n",
    "        if i == 0 or j == 0 or i == m - 1 or j == n - 1:\n",
    "            b = b + 1\n",
    "        j = j + 1\n",
    "    i = i + 1\n",
    "print(b)"
   ]
  },
  {
   "cell_type": "markdown",
   "id": "f720bcd7-5317-4ca0-addc-bb5a542cf8c4",
   "metadata": {},
   "source": [
    "#### Programa #7"
   ]
  },
  {
   "cell_type": "code",
   "execution_count": 53,
   "id": "d8cb6048-ebed-4a56-9e9c-e4646799fd7e",
   "metadata": {},
   "outputs": [
    {
     "name": "stdout",
     "output_type": "stream",
     "text": [
      "63\n"
     ]
    }
   ],
   "source": [
    "acc = 0\n",
    "a = 7\n",
    "b = 9\n",
    "while b > 0:\n",
    "    if b % 2 == 1:\n",
    "        j = 0\n",
    "        while j < a:\n",
    "            acc = acc + 1\n",
    "            j = j + 1\n",
    "    k = 0\n",
    "    t = 0\n",
    "    while k < a:\n",
    "        t = t + 1\n",
    "        k = k + 1\n",
    "    a = t + a\n",
    "    b = b // 2\n",
    "print(acc)"
   ]
  },
  {
   "cell_type": "markdown",
   "id": "fbae2183-d8a7-4647-adb7-2e0067678d18",
   "metadata": {},
   "source": [
    "#### Programa #8"
   ]
  },
  {
   "cell_type": "code",
   "execution_count": 56,
   "id": "68350309-30f9-46e9-98c4-51d79f91cf12",
   "metadata": {},
   "outputs": [
    {
     "name": "stdout",
     "output_type": "stream",
     "text": [
      "1\n"
     ]
    }
   ],
   "source": [
    "x = 64241\n",
    "c = 0\n",
    "while x > 0:\n",
    "    d = x % 10\n",
    "    y = x // 10\n",
    "    ok = True\n",
    "    while y > 0:\n",
    "        ok = ok and (y % 10) < d\n",
    "        y = y // 10\n",
    "    c = c + ok\n",
    "    x = x // 10\n",
    "print(c)"
   ]
  },
  {
   "cell_type": "markdown",
   "id": "ad66c31c-0aa0-40e1-97e9-9c729ed0aa17",
   "metadata": {},
   "source": [
    "#### Programa #9"
   ]
  },
  {
   "cell_type": "code",
   "execution_count": 59,
   "id": "616cd1c1-f986-4afa-8c40-2e37e26853c5",
   "metadata": {},
   "outputs": [
    {
     "name": "stdout",
     "output_type": "stream",
     "text": [
      "9\n"
     ]
    }
   ],
   "source": [
    "b = 0\n",
    "h = 3\n",
    "i = 1\n",
    "while i <= h:\n",
    "    j = 0\n",
    "    while j < 2 * i - 1:\n",
    "        b = b + 1\n",
    "        j = j + 1\n",
    "    i = i + 1\n",
    "print(b)"
   ]
  },
  {
   "cell_type": "markdown",
   "id": "bc3dfa4e-9e64-450c-8283-ae19563d2778",
   "metadata": {},
   "source": [
    "#### Programa #10"
   ]
  },
  {
   "cell_type": "code",
   "execution_count": 62,
   "id": "d493e3b0-b6f7-43c1-a8e8-cda4b3c841a7",
   "metadata": {},
   "outputs": [
    {
     "name": "stdout",
     "output_type": "stream",
     "text": [
      "3\n"
     ]
    }
   ],
   "source": [
    "s = 0\n",
    "h = 3\n",
    "i = 1\n",
    "while i <= 2 * h - 1:\n",
    "    a = i\n",
    "    if i > h:\n",
    "        a = 2 * h - i\n",
    "    j = 1\n",
    "    while j <= a:\n",
    "        if (i + j) % 2 == 0:\n",
    "            s = s + 1\n",
    "        else:\n",
    "            s = s - 1\n",
    "        j = j + 1\n",
    "    i = i + 1\n",
    "print(s)"
   ]
  },
  {
   "cell_type": "code",
   "execution_count": null,
   "id": "fc492a75-7efb-429e-8403-89f31090bd23",
   "metadata": {},
   "outputs": [],
   "source": []
  }
 ],
 "metadata": {
  "kernelspec": {
   "display_name": "Python 3 (ipykernel)",
   "language": "python",
   "name": "python3"
  },
  "language_info": {
   "codemirror_mode": {
    "name": "ipython",
    "version": 3
   },
   "file_extension": ".py",
   "mimetype": "text/x-python",
   "name": "python",
   "nbconvert_exporter": "python",
   "pygments_lexer": "ipython3",
   "version": "3.12.4"
  }
 },
 "nbformat": 4,
 "nbformat_minor": 5
}
