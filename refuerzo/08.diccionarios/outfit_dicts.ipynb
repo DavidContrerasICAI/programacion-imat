{
 "cells": [
  {
   "cell_type": "code",
   "execution_count": 22,
   "id": "8b990dca-3f0a-413b-95c2-7ebebb49c477",
   "metadata": {},
   "outputs": [
    {
     "name": "stdin",
     "output_type": "stream",
     "text": [
      "Número personas:  3\n"
     ]
    },
    {
     "name": "stdout",
     "output_type": "stream",
     "text": [
      "\n"
     ]
    },
    {
     "name": "stdin",
     "output_type": "stream",
     "text": [
      "Número de prendas de GGGG:  2\n"
     ]
    },
    {
     "name": "stdout",
     "output_type": "stream",
     "text": [
      "Generada una Falda de 80€\n",
      "Generada una Camiseta de 10€\n",
      "\n"
     ]
    },
    {
     "name": "stdin",
     "output_type": "stream",
     "text": [
      "Número de prendas de EEEE:  1\n"
     ]
    },
    {
     "name": "stdout",
     "output_type": "stream",
     "text": [
      "Generada una Camiseta de 90€\n",
      "\n"
     ]
    },
    {
     "name": "stdin",
     "output_type": "stream",
     "text": [
      "Número de prendas de DDDD:  4\n"
     ]
    },
    {
     "name": "stdout",
     "output_type": "stream",
     "text": [
      "Generada una Bañador de 60€\n",
      "Generada una Bañador de 70€\n",
      "Generada una Falda de 50€\n",
      "Generada una Falda de 90€\n",
      "{'GGGG': [('Falda', 80), ('Camiseta', 10)], 'EEEE': [('Camiseta', 90)], 'DDDD': [('Bañador', 60), ('Bañador', 70), ('Falda', 50), ('Falda', 90)]}\n"
     ]
    },
    {
     "name": "stdin",
     "output_type": "stream",
     "text": [
      "Nombre de la persona a calcular el coste de su outfit:  EEEE\n"
     ]
    },
    {
     "name": "stdout",
     "output_type": "stream",
     "text": [
      "El coste total del outfit de DDDD es 110€\n"
     ]
    }
   ],
   "source": [
    "import random\n",
    "\n",
    "ROPA = [\"Bañador\", \"Pantalón\", \"Camiseta\", \"Zapatos\", \"Falda\"]\n",
    "\n",
    "personas = {}\n",
    "\n",
    "numero_personas_str = input(\"Número personas: \")\n",
    "numero_personas = int(numero_personas_str)\n",
    "i = 0\n",
    "while i < numero_personas:\n",
    "    print()\n",
    "    nombre = chr(65+random.randint(0, 10)) * 4\n",
    "    numero_ropa_str = input(f\"Número de prendas de {nombre}: \")\n",
    "    numero_ropa = int(numero_ropa_str)\n",
    "    ropas = []\n",
    "    j = 0\n",
    "    while j < numero_ropa:\n",
    "        ropa  = ROPA[random.randint(0, len(ROPA)-1)]\n",
    "        precio = random.randint(1,10) * 10\n",
    "        ropas.append((ropa, precio))\n",
    "        print(f\"Generada una {ropa} de {precio}€\")\n",
    "        j += 1\n",
    "\n",
    "    personas[nombre] = ropas\n",
    "    i += 1\n",
    "\n",
    "print()\n",
    "\n",
    "persona_a_buscar = input(\"Nombre de la persona a calcular el coste de su outfit: \")\n",
    "\n",
    "for persona, ropas in personas.items():\n",
    "    if persona_a_buscar == nombre:\n",
    "        precio_total = 0\n",
    "        for ropa in ropas:\n",
    "            precio_total += ropa[1]\n",
    "\n",
    "print(f\"El coste total del outfit de {nombre} es {precio_total}€\")"
   ]
  },
  {
   "cell_type": "code",
   "execution_count": 6,
   "id": "1c0aefe7-fad4-4c34-a669-0db9e40374a2",
   "metadata": {},
   "outputs": [
    {
     "data": {
      "text/plain": [
       "[['GGGG', [['Zapatos', 40], ['Falda', 100], ['Camiseta', 70]]],\n",
       " ['IIII', [['Falda', 40], ['Bañador', 50]]],\n",
       " ['GGGG', [['Falda', 80], ['Pantalón', 10], ['Falda', 10]]],\n",
       " ['EEEE', [['Zapatos', 60], ['Pantalón', 80]]]]"
      ]
     },
     "execution_count": 6,
     "metadata": {},
     "output_type": "execute_result"
    }
   ],
   "source": [
    "personas"
   ]
  },
  {
   "cell_type": "code",
   "execution_count": null,
   "id": "3df62042-b8b4-47c5-b8ff-1dbff5810b40",
   "metadata": {},
   "outputs": [],
   "source": []
  }
 ],
 "metadata": {
  "kernelspec": {
   "display_name": "Python 3 (ipykernel)",
   "language": "python",
   "name": "python3"
  },
  "language_info": {
   "codemirror_mode": {
    "name": "ipython",
    "version": 3
   },
   "file_extension": ".py",
   "mimetype": "text/x-python",
   "name": "python",
   "nbconvert_exporter": "python",
   "pygments_lexer": "ipython3",
   "version": "3.12.4"
  }
 },
 "nbformat": 4,
 "nbformat_minor": 5
}
