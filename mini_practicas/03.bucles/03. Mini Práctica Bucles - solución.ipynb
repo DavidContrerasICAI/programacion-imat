{
 "cells": [
  {
   "cell_type": "markdown",
   "metadata": {},
   "source": [
    "# Mini Práctica 3 - Solución"
   ]
  },
  {
   "cell_type": "markdown",
   "metadata": {},
   "source": [
    "## Mini prácticas de bucles y condicionales\n"
   ]
  },
  {
   "cell_type": "markdown",
   "metadata": {},
   "source": [
    "### Mostrar los números pares entre el 1 y 10 inclusives\n",
    "\n",
    "No se deberá utilizar condicionales"
   ]
  },
  {
   "cell_type": "code",
   "execution_count": 2,
   "metadata": {},
   "outputs": [
    {
     "name": "stdout",
     "output_type": "stream",
     "text": [
      "2\n",
      "4\n",
      "6\n",
      "8\n",
      "10\n"
     ]
    }
   ],
   "source": [
    "contador = 2\n",
    "while contador < 11:\n",
    "    print(contador)\n",
    "    contador = contador + 2"
   ]
  },
  {
   "cell_type": "markdown",
   "metadata": {},
   "source": [
    "### Mostrar los números pares entre el 1 y 10 inclusives\n",
    "\n",
    "Se deberá hacer uso de un condicional para validar si el número a imprimir es divisible entre 2"
   ]
  },
  {
   "cell_type": "code",
   "execution_count": 3,
   "metadata": {},
   "outputs": [
    {
     "name": "stdout",
     "output_type": "stream",
     "text": [
      "2\n",
      "4\n",
      "6\n",
      "8\n",
      "10\n"
     ]
    }
   ],
   "source": [
    "contador = 1\n",
    "while contador < 11:\n",
    "    if contador % 2 == 0:\n",
    "        print(contador)\n",
    "    contador = contador + 1"
   ]
  },
  {
   "cell_type": "markdown",
   "metadata": {},
   "source": [
    "### Mostrar los números impares entre el 1 y 10 inclusives en orden descendente\n",
    "\n",
    "Se deberá hacer uso de un condicional para validar si el número a imprimir es divisible entre 2"
   ]
  },
  {
   "cell_type": "code",
   "execution_count": 5,
   "metadata": {},
   "outputs": [
    {
     "name": "stdout",
     "output_type": "stream",
     "text": [
      "9\n",
      "7\n",
      "5\n",
      "3\n",
      "1\n"
     ]
    }
   ],
   "source": [
    "contador = 10\n",
    "while contador > 0:\n",
    "    if contador % 2 != 0:\n",
    "        print(contador)\n",
    "    contador = contador - 1"
   ]
  },
  {
   "cell_type": "markdown",
   "metadata": {},
   "source": [
    "### Mostrar los números entre el 1 y 10 inclusives en orden descendente indicando si son pares o impares\n",
    "\n",
    "Se deberá hacer uso de un condicional para validar si el número a imprimir es divisible entre 2"
   ]
  },
  {
   "cell_type": "code",
   "execution_count": 7,
   "metadata": {},
   "outputs": [
    {
     "name": "stdout",
     "output_type": "stream",
     "text": [
      "10 PAR\n",
      "9 IMPAR\n",
      "8 PAR\n",
      "7 IMPAR\n",
      "6 PAR\n",
      "5 IMPAR\n",
      "4 PAR\n",
      "3 IMPAR\n",
      "2 PAR\n",
      "1 IMPAR\n"
     ]
    }
   ],
   "source": [
    "contador = 10\n",
    "while contador > 0:\n",
    "    if contador % 2 == 0:\n",
    "        print(contador, \"PAR\")\n",
    "    else:\n",
    "        print(contador, \"IMPAR\")\n",
    "    contador = contador - 1"
   ]
  },
  {
   "cell_type": "markdown",
   "metadata": {},
   "source": [
    "Y si alguien es un enamorado compulsivo de DRY..."
   ]
  },
  {
   "cell_type": "code",
   "execution_count": 10,
   "metadata": {},
   "outputs": [
    {
     "name": "stdout",
     "output_type": "stream",
     "text": [
      "10 PAR\n",
      "9 IMPAR\n",
      "8 PAR\n",
      "7 IMPAR\n",
      "6 PAR\n",
      "5 IMPAR\n",
      "4 PAR\n",
      "3 IMPAR\n",
      "2 PAR\n",
      "1 IMPAR\n"
     ]
    }
   ],
   "source": [
    "contador = 10\n",
    "while contador > 0:\n",
    "    print(contador, end = \" \")\n",
    "    if contador % 2 == 0:\n",
    "        print(\"PAR\")\n",
    "    else:\n",
    "        print(\"IMPAR\")\n",
    "    contador = contador - 1"
   ]
  },
  {
   "cell_type": "code",
   "execution_count": null,
   "metadata": {},
   "outputs": [],
   "source": []
  }
 ],
 "metadata": {
  "kernelspec": {
   "display_name": "base",
   "language": "python",
   "name": "python3"
  },
  "language_info": {
   "codemirror_mode": {
    "name": "ipython",
    "version": 3
   },
   "file_extension": ".py",
   "mimetype": "text/x-python",
   "name": "python",
   "nbconvert_exporter": "python",
   "pygments_lexer": "ipython3",
   "version": "3.12.4"
  }
 },
 "nbformat": 4,
 "nbformat_minor": 4
}
