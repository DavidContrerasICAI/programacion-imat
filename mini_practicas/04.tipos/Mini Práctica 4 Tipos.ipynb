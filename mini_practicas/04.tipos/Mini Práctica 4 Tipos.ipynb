{
 "cells": [
  {
   "cell_type": "markdown",
   "id": "682cc17e-a92b-4752-83b1-b443afd111cf",
   "metadata": {},
   "source": [
    "# Mini Práctica 4 Tipos - Solución"
   ]
  },
  {
   "cell_type": "markdown",
   "id": "4ff1b1e2-f243-4379-9f92-bdb811ffc034",
   "metadata": {},
   "source": [
    "### Mini práctica menús\n",
    "Mostrar por pantalla el siguiente menú:\n",
    "\n",
    "**OUTPUT**\n",
    "```\n",
    "#####################\n",
    "##  1. Crear       ## \n",
    "##  2. Mostrar     ## \n",
    "##  3. Salir       ## \n",
    "#####################\n",
    "```"
   ]
  },
  {
   "cell_type": "markdown",
   "id": "43253981-1b86-40f4-a305-ebf5f0abaa91",
   "metadata": {},
   "source": [
    "### Mini práctica bucles\n",
    "Crea un programa que muestre la spalabras que introduce el usuario por teclado. En el momento que introduzca el texto FIN, finalizará el programa.\n",
    "\n",
    "**OUTPUT**\n",
    "```\n",
    "Escribe una palabra: Hola\n",
    "Has dicho Hola\n",
    "Escribe una palabra: Qué tal?\n",
    "Has dicho Qué tal?\n",
    "Escribe una palabra: FIN\n",
    "\n",
    "Terminó el programa\n",
    "```"
   ]
  },
  {
   "cell_type": "markdown",
   "id": "c0096e97-5f34-4b39-96e5-6e4fcee6bfa7",
   "metadata": {},
   "source": [
    "### Mini práctica hexadecimal/binario\n",
    "Comprueba, mediante funciones Python, que el número decimal 157 equivale al número hexadecimal 9D:\n",
    "- Mediante la función hex()\n",
    "- Mediante la conversión a binario del número 157 y posterior paso a decimal por bloques de 4 bits."
   ]
  },
  {
   "cell_type": "markdown",
   "id": "14a1d0e1-98ba-48f0-b53f-743479c5b910",
   "metadata": {},
   "source": [
    "### Mini práctica complemento a 2\n",
    "\n",
    "Crea una variable llamada a que posea el valor binario 100.\n",
    "Obtén el Complemento 1 de esa variable con el operador binario ~.\n",
    "Suma la unidad a este valor para obtener el Complemento a 2 y comprueba que se corresponde con el valor decimal negativo."
   ]
  },
  {
   "cell_type": "code",
   "execution_count": 87,
   "id": "dea29477-3c37-4c8d-a8d0-7030b848ae34",
   "metadata": {},
   "outputs": [
    {
     "name": "stdout",
     "output_type": "stream",
     "text": [
      "Número:         4\n",
      "Número en C1:  -5\n",
      "Número: en C2: -4\n"
     ]
    }
   ],
   "source": [
    "a = 0b100\n",
    "print(\"Número:        \", a)\n",
    "a_c1 = ~a\n",
    "print(\"Número en C1: \", a_c1)\n",
    "a_c2 = a_c1 + 1\n",
    "print(\"Número: en C2:\", a_c2)"
   ]
  },
  {
   "cell_type": "markdown",
   "id": "628419f8-04a7-42ea-b24a-cd4638788dd2",
   "metadata": {},
   "source": [
    "### Mini práctica de tipos\n",
    "La función type() devuelve el tipo al que pertence cada variable de Python. Muestra el tipo de las siguientes variables:\n",
    "\n",
    "**INPUT**\n",
    "```\n",
    "a = \"Hola\"\n",
    "b = 12\n",
    "c = 13.5\n",
    "d = True\n",
    "e = 12+4j\n",
    "```\n",
    "**OUTPUT**\n",
    "```\n",
    "a es del tipo: <class 'str'>\n",
    "b es del tipo: <class 'int'>\n",
    "c es del tipo: <class 'float'>\n",
    "d es del tipo: <class 'bool'>\n",
    "e es del tipo: <class 'complex'>\n",
    "```"
   ]
  },
  {
   "cell_type": "markdown",
   "id": "4bf24c70-b465-4775-bd62-8f508bfb04da",
   "metadata": {},
   "source": [
    "### Mini práctica de conversión de tipos\n",
    "\n",
    "Desarrollar un programa que lea 3 notas por teclado y calcule la edad media. Si la nota introducida no se encuentra entre el rango [0, 10] no se tendrá en cuenta, por lo que siempre serán 3 notas válidas. \n",
    "\n",
    "**OUTPUT**\n",
    " ```\n",
    "Introduce la nota #1: 7.5\n",
    "Introduce la nota #2: 3.2\n",
    "Introduce la nota #3: 15\n",
    "Introduce la nota #3: -4\n",
    "Introduce la nota #3: 5\n",
    "La nota media es: 2.5\n",
    "```"
   ]
  },
  {
   "cell_type": "markdown",
   "id": "f36a4c6f-b00e-493e-b298-443fcad91a97",
   "metadata": {},
   "source": [
    "### Mini práctica Números en coma flotante\n",
    "\n",
    "Demuestra que el número en notación científica de estos números equivalen a MANTISA*10**EXPONENTE:\n",
    "- 2.57e-3\n",
    "- 4.15e4"
   ]
  },
  {
   "cell_type": "code",
   "execution_count": null,
   "id": "1a8a2a6f-9e31-414d-9c32-5c6b35085ffe",
   "metadata": {},
   "outputs": [],
   "source": []
  }
 ],
 "metadata": {
  "kernelspec": {
   "display_name": "Python 3 (ipykernel)",
   "language": "python",
   "name": "python3"
  },
  "language_info": {
   "codemirror_mode": {
    "name": "ipython",
    "version": 3
   },
   "file_extension": ".py",
   "mimetype": "text/x-python",
   "name": "python",
   "nbconvert_exporter": "python",
   "pygments_lexer": "ipython3",
   "version": "3.12.4"
  }
 },
 "nbformat": 4,
 "nbformat_minor": 5
}
