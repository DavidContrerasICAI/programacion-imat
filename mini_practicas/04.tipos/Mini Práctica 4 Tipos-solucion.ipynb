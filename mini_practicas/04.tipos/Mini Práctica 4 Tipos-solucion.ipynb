{
 "cells": [
  {
   "cell_type": "markdown",
   "id": "682cc17e-a92b-4752-83b1-b443afd111cf",
   "metadata": {},
   "source": [
    "# Mini Práctica 4 Tipos - Solución"
   ]
  },
  {
   "cell_type": "markdown",
   "id": "4ff1b1e2-f243-4379-9f92-bdb811ffc034",
   "metadata": {},
   "source": [
    "### Mini práctica menús\n",
    "Mostrar por pantalla el siguiente menú:\n",
    "\n",
    "**OUTPUT**\n",
    "```\n",
    "#####################\n",
    "##  1. Crear       ## \n",
    "##  2. Mostrar     ## \n",
    "##  3. Salir       ## \n",
    "#####################\n",
    "```"
   ]
  },
  {
   "cell_type": "code",
   "execution_count": 22,
   "id": "50b0dbcf-4cbb-49ff-8705-6378415fc1a1",
   "metadata": {},
   "outputs": [
    {
     "name": "stdout",
     "output_type": "stream",
     "text": [
      "#####################\n",
      "##  1. Crear       ## \n",
      "##  2. Mostrar     ## \n",
      "##  3. Salir       ## \n",
      "#####################\n"
     ]
    }
   ],
   "source": [
    "print(\"#####################\")\n",
    "print(\"##  1. Crear       ## \")\n",
    "print(\"##  2. Mostrar     ## \")\n",
    "print(\"##  3. Salir       ## \")\n",
    "print(\"#####################\")"
   ]
  },
  {
   "cell_type": "code",
   "execution_count": 24,
   "id": "48fa7c0d-322d-4938-ba76-62a7fa0ba89c",
   "metadata": {},
   "outputs": [
    {
     "name": "stdout",
     "output_type": "stream",
     "text": [
      "\n",
      "#####################\n",
      "##  1. Crear       ##\n",
      "##  2. Mostrar     ##\n",
      "##  3. Salir       ##\n",
      "#####################\n",
      "\n"
     ]
    }
   ],
   "source": [
    "MENU = \"\"\"\n",
    "#####################\n",
    "##  1. Crear       ##\n",
    "##  2. Mostrar     ##\n",
    "##  3. Salir       ##\n",
    "#####################\n",
    "\"\"\"\n",
    "\n",
    "print(MENU)"
   ]
  },
  {
   "cell_type": "markdown",
   "id": "43253981-1b86-40f4-a305-ebf5f0abaa91",
   "metadata": {},
   "source": [
    "### Mini práctica bucles\n",
    "Crea un programa que muestre la spalabras que introduce el usuario por teclado. En el momento que introduzca el texto FIN, finalizará el programa.\n",
    "\n",
    "**OUTPUT**\n",
    "```\n",
    "Escribe una palabra: Hola\n",
    "Has dicho Hola\n",
    "Escribe una palabra: Qué tal?\n",
    "Has dicho Qué tal?\n",
    "Escribe una palabra: FIN\n",
    "\n",
    "Terminó el programa\n",
    "```"
   ]
  },
  {
   "cell_type": "code",
   "execution_count": 112,
   "id": "e37e1939-6c87-409f-b180-25e0f1db2138",
   "metadata": {},
   "outputs": [
    {
     "name": "stdin",
     "output_type": "stream",
     "text": [
      "Escribe una palabra: Hola\n"
     ]
    },
    {
     "name": "stdout",
     "output_type": "stream",
     "text": [
      "Has dicho Hola\n"
     ]
    },
    {
     "name": "stdin",
     "output_type": "stream",
     "text": [
      "Escribe una palabra: Qué tal?\n"
     ]
    },
    {
     "name": "stdout",
     "output_type": "stream",
     "text": [
      "Has dicho Qué tal?\n"
     ]
    },
    {
     "name": "stdin",
     "output_type": "stream",
     "text": [
      "Escribe una palabra: FIN\n"
     ]
    },
    {
     "name": "stdout",
     "output_type": "stream",
     "text": [
      "\n",
      "Terminó el programa\n"
     ]
    }
   ],
   "source": [
    "palabra = input(\"Escribe una palabra:\") \n",
    "while palabra != \"FIN\":\n",
    "    print(\"Has dicho\", palabra)\n",
    "    palabra = input(\"Escribe una palabra:\")\n",
    "print(\"\\nTerminó el programa\")"
   ]
  },
  {
   "cell_type": "markdown",
   "id": "c0096e97-5f34-4b39-96e5-6e4fcee6bfa7",
   "metadata": {},
   "source": [
    "### Mini práctica hexadecimal/binario\n",
    "Comprueba, mediante funciones Python, que el número decimal 157 equivale al número hexadecimal 9D:\n",
    "- Mediante la función hex()\n",
    "- Mediante la conversión a binario del número 157 y posterior paso a decimal por bloques de 4 bits."
   ]
  },
  {
   "cell_type": "code",
   "execution_count": 34,
   "id": "5dec5049-e5b6-43ce-9180-ec21db5c9dbb",
   "metadata": {},
   "outputs": [
    {
     "name": "stdout",
     "output_type": "stream",
     "text": [
      "0x9d\n"
     ]
    }
   ],
   "source": [
    "numero = 157\n",
    "print(hex(numero))"
   ]
  },
  {
   "cell_type": "code",
   "execution_count": 38,
   "id": "a6aa1a69-9e03-4d63-8bf3-fca9c090b683",
   "metadata": {},
   "outputs": [
    {
     "name": "stdout",
     "output_type": "stream",
     "text": [
      "0b10011101\n"
     ]
    }
   ],
   "source": [
    "numero_bin = bin(numero)\n",
    "print(numero_bin)"
   ]
  },
  {
   "cell_type": "code",
   "execution_count": 40,
   "id": "cdd0cfc4-f37b-4de2-94a5-0580829cea64",
   "metadata": {},
   "outputs": [
    {
     "name": "stdout",
     "output_type": "stream",
     "text": [
      "9 13\n"
     ]
    }
   ],
   "source": [
    "parte1 = 0b1001\n",
    "parte2 = 0b1101\n",
    "print(parte1, parte2)"
   ]
  },
  {
   "cell_type": "code",
   "execution_count": 42,
   "id": "cd46fdb4-aa14-4d23-a1f5-56887b3131ed",
   "metadata": {},
   "outputs": [
    {
     "name": "stdout",
     "output_type": "stream",
     "text": [
      "0x9 0xd\n"
     ]
    }
   ],
   "source": [
    "numero_hex1 = hex(9)\n",
    "numero_hex2 = hex(13)\n",
    "print(numero_hex1, numero_hex2)"
   ]
  },
  {
   "cell_type": "markdown",
   "id": "14a1d0e1-98ba-48f0-b53f-743479c5b910",
   "metadata": {},
   "source": [
    "### Mini práctica complemento a 2\n",
    "\n",
    "Crea una variable llamada a que posea el valor binario 100.\n",
    "Obtén el Complemento 1 de esa variable con el operador binario ~.\n",
    "Suma la unidad a este valor para obtener el Complemento a 2 y comprueba que se corresponde con el valor decimal negativo."
   ]
  },
  {
   "cell_type": "code",
   "execution_count": 87,
   "id": "dea29477-3c37-4c8d-a8d0-7030b848ae34",
   "metadata": {},
   "outputs": [
    {
     "name": "stdout",
     "output_type": "stream",
     "text": [
      "Número:         4\n",
      "Número en C1:  -5\n",
      "Número: en C2: -4\n"
     ]
    }
   ],
   "source": [
    "a = 0b100\n",
    "print(\"Número:        \", a)\n",
    "a_c1 = ~a\n",
    "print(\"Número en C1: \", a_c1)\n",
    "a_c2 = a_c1 + 1\n",
    "print(\"Número: en C2:\", a_c2)"
   ]
  },
  {
   "cell_type": "markdown",
   "id": "628419f8-04a7-42ea-b24a-cd4638788dd2",
   "metadata": {},
   "source": [
    "### Mini práctica de tipos\n",
    "La función type() devuelve el tipo al que pertence cada variable de Python. Muestra el tipo de las siguientes variables:\n",
    "\n",
    "**INPUT**\n",
    "```\n",
    "a = \"Hola\"\n",
    "b = 12\n",
    "c = 13.5\n",
    "d = True\n",
    "e = 12+4j\n",
    "```\n",
    "**OUTPUT**\n",
    "```\n",
    "a es del tipo: <class 'str'>\n",
    "b es del tipo: <class 'int'>\n",
    "c es del tipo: <class 'float'>\n",
    "d es del tipo: <class 'bool'>\n",
    "e es del tipo: <class 'complex'>\n",
    "```"
   ]
  },
  {
   "cell_type": "code",
   "execution_count": 96,
   "id": "b62ebf00-7a23-4bcc-b158-04bffb419d2a",
   "metadata": {},
   "outputs": [
    {
     "name": "stdout",
     "output_type": "stream",
     "text": [
      "a es del tipo: <class 'str'>\n",
      "b es del tipo: <class 'int'>\n",
      "c es del tipo: <class 'float'>\n",
      "d es del tipo: <class 'bool'>\n",
      "e es del tipo: <class 'complex'>\n"
     ]
    }
   ],
   "source": [
    "a = \"Hola\"\n",
    "b = 12\n",
    "c = 13.5\n",
    "d = True\n",
    "e = 12+4j\n",
    "\n",
    "print(\"a es del tipo:\", type(a))\n",
    "print(\"b es del tipo:\", type(b))\n",
    "print(\"c es del tipo:\", type(c))\n",
    "print(\"d es del tipo:\", type(d))\n",
    "print(\"e es del tipo:\", type(e))"
   ]
  },
  {
   "cell_type": "markdown",
   "id": "4bf24c70-b465-4775-bd62-8f508bfb04da",
   "metadata": {},
   "source": [
    "### Mini práctica de conversión de tipos\n",
    "\n",
    "Desarrollar un programa que lea 3 notas por teclado y calcule la edad media. Si la nota introducida no se encuentra entre el rango [0, 10] no se tendrá en cuenta, por lo que siempre serán 3 notas válidas. \n",
    "\n",
    "**OUTPUT**\n",
    " ```\n",
    "Introduce la nota #1: 7.5\n",
    "Introduce la nota #2: 3.2\n",
    "Introduce la nota #3: 15\n",
    "Introduce la nota #3: -4\n",
    "Introduce la nota #3: 5\n",
    "La nota media es: 2.5\n",
    "```"
   ]
  },
  {
   "cell_type": "code",
   "execution_count": 141,
   "id": "9830d179-8e7b-4c7a-9a5c-e1bb0c7ba4d8",
   "metadata": {},
   "outputs": [
    {
     "name": "stdin",
     "output_type": "stream",
     "text": [
      "Introduce la nota #1: 7.5\n",
      "Introduce la nota #2: 3.2\n",
      "Introduce la nota #3: 15\n",
      "Introduce la nota #3: -4\n",
      "Introduce la nota #3: 5\n"
     ]
    },
    {
     "name": "stdout",
     "output_type": "stream",
     "text": [
      "La nota media es: 2.5\n"
     ]
    }
   ],
   "source": [
    "media = 0\n",
    "i = 0\n",
    "while i < 3:\n",
    "    nota_str = input(\"Introduce la nota #\" + str(i+1) + \":\")\n",
    "    nota = float(nota_str)\n",
    "    if nota >= 0 and nota <= 10:\n",
    "        media += nota\n",
    "        i += 1\n",
    "print(\"La nota media es:\", nota/(i-1))"
   ]
  },
  {
   "cell_type": "code",
   "execution_count": null,
   "id": "14691965-d9a1-4e11-9d91-50afbf196d04",
   "metadata": {},
   "outputs": [],
   "source": []
  }
 ],
 "metadata": {
  "kernelspec": {
   "display_name": "Python 3 (ipykernel)",
   "language": "python",
   "name": "python3"
  },
  "language_info": {
   "codemirror_mode": {
    "name": "ipython",
    "version": 3
   },
   "file_extension": ".py",
   "mimetype": "text/x-python",
   "name": "python",
   "nbconvert_exporter": "python",
   "pygments_lexer": "ipython3",
   "version": "3.12.4"
  }
 },
 "nbformat": 4,
 "nbformat_minor": 5
}
