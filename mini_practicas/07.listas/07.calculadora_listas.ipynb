{
 "cells": [
  {
   "cell_type": "markdown",
   "metadata": {},
   "source": [
    "# 7. Mini-práctica Listas - Calculadora (Tema 7)\n",
    "\n",
    "A partir de la **Mini-práctica del Tema 6. Calculadora Estructurada** resuelta por el profesor, añadir la siguiente funcionalidad:\n",
    "- Crear una nueva opción de menú: **10. Historial de operaciones**.\n",
    "\n",
    "```\n",
    "******** Calculadora iMAT ********\n",
    "1. Sumar\n",
    "2. Restar\n",
    "3. Multiplicar\n",
    "4. Dividir\n",
    " \n",
    "5. Valor absoluto\n",
    "6. Redondeo de un número al alza\n",
    "7. Valor ASCII de un carácter\n",
    "8. Carácter de un código ASCII\n",
    "\n",
    "9. Salir\n",
    "10. Historial de operaciones\n",
    "**********************************\n",
    "```\n",
    "- Se mostrarán todas las operaciones ejecutadas.\n",
    "\n",
    "```\n",
    "     Historial      \n",
    "====================\n",
    "· 2 + 3 = 5\n",
    "· 8 / 4 = 2.0\n",
    "· 50 - 25 = 25\n",
    "```\n",
    "\n",
    "- Adaptar todas las salidas con f-strings."
   ]
  }
 ],
 "metadata": {
  "kernelspec": {
   "display_name": "Python 3",
   "language": "python",
   "name": "python3"
  },
  "language_info": {
   "codemirror_mode": {
    "name": "ipython",
    "version": 3
   },
   "file_extension": ".py",
   "mimetype": "text/x-python",
   "name": "python",
   "nbconvert_exporter": "python",
   "pygments_lexer": "ipython3",
   "version": "3.7.6"
  }
 },
 "nbformat": 4,
 "nbformat_minor": 5
}
