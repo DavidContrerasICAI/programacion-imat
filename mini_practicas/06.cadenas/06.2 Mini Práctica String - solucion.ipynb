{
 "cells": [
  {
   "cell_type": "markdown",
   "metadata": {},
   "source": [
    "# Mini Práctica 5.2 Passwords (strings) - Solución"
   ]
  },
  {
   "cell_type": "markdown",
   "metadata": {},
   "source": [
    "## Objetivo\n",
    "Generar contraseñas de forma automática a partir de un alfabeto dado de letras, números y caracteres especiales. \n",
    "\n",
    "Se partirá del siguiente alfabeto:\n",
    "\n",
    "```python\n",
    "letras = \"abcdefghijklmnopqrstuvwxyz\"\n",
    "numero = \"1234567890\"\n",
    "caracteres = \"·$%&/()=\"\n",
    "```\n",
    "Se le pedirá al usuario el número de letras (l), números (n) y caracteres especiales (c) que contendrá su contraseña. \n",
    "\n",
    "Obtención de números aleatorios:\n",
    "```python\n",
    "import random\n",
    "random.randint(inicio, fin)\n",
    "\n",
    "```\n",
    "\n",
    "## Restricciones\n",
    "\n",
    "No se podrán utilizar bucles for ni operador in.\n",
    "\n",
    "Solo se podrá trabajar con direccionamiento por índices y slicing\n",
    "```python\n",
    "cadena[i]\n",
    "cadena[n:m]\n",
    "```\n",
    "\n",
    "## Funcionalidad\n",
    "\n",
    "Se abordará el problema en tres incrementos.\n",
    "\n",
    "### Incremento 1. Extracción de valores aleatorios\n",
    "\n",
    "Se extraerán caracteres aleatorios de las tres cadenas: letras, números y caracteres especiales.\n",
    "\n",
    "### Incremento 2. Generación de una contraseña temporal con orden determinado\n",
    "\n",
    "Se generará una contraseña tomando de forma aleatoria tantos caracteres como se especificaron en l, n y c. El orden de los caracteres será ese mismo: primero letras, después números y pro último caracteres. Por ejemplo, para una contraseña de l=4, n=2 y c=2, quedará de esta forma:\n",
    "\n",
    "```\n",
    "gmje48(&\n",
    "--------\n",
    "llllnncc\n",
    "```\n",
    "\n",
    "### Incremento 3. Generación de la contraseña definitiva con orden aleatorio \n",
    "\n",
    "A continuación, se moverán los caracteres para que el orden de los mismos sea aleatorio, quedando así, por ejemplo:\n",
    "\n",
    "```\n",
    "m8(gje4&\n",
    "--------\n",
    "lnclllnc\n",
    "```\n",
    "\n",
    "## Salida\n",
    "\n",
    "Contraseña generada: m8(gje4&\n",
    "\n",
    "Para una entrada de:\n",
    "```python\n",
    "num_letras = 4\n",
    "num_numero = 2\n",
    "num_caracteres = 2\n",
    "```"
   ]
  },
  {
   "cell_type": "markdown",
   "metadata": {},
   "source": [
    "## Solución"
   ]
  },
  {
   "cell_type": "code",
   "execution_count": 1,
   "metadata": {},
   "outputs": [
    {
     "name": "stdout",
     "output_type": "stream",
     "text": [
      "Contraseña generada: vkh%$p61\n"
     ]
    }
   ],
   "source": [
    "import random\n",
    "\n",
    "letras = \"abcdefghijklmnopqrstuvwxyz\"\n",
    "numeros = \"1234567890\"\n",
    "caracteres = \"·$%&/()=\"\n",
    "\n",
    "passwd = \"\"\n",
    "\n",
    "\"\"\"\n",
    "num_letras = int(input(\"Letras: \"))\n",
    "num_numeros = int(input(\"Números: \"))\n",
    "num_caracteres = int(input(\"Caracteres especiales: \"))\n",
    "\"\"\"\n",
    "\n",
    "num_letras = 4\n",
    "num_numeros = 2\n",
    "num_caracteres = 2\n",
    "\n",
    "size = num_letras + num_numeros + num_caracteres\n",
    "\n",
    "contador = 0\n",
    "while contador < num_letras:\n",
    "    posicion = random.randint(0, len(letras)-1)\n",
    "    passwd += letras[posicion]\n",
    "    contador += 1\n",
    "\n",
    "contador = 0\n",
    "while contador < num_numeros:\n",
    "    posicion = random.randint(0, len(numeros)-1)\n",
    "    passwd += numeros[posicion]\n",
    "    contador += 1\n",
    "    \n",
    "contador = 0\n",
    "while contador < num_caracteres:\n",
    "    posicion = random.randint(0, len(caracteres)-1)\n",
    "    passwd += caracteres[posicion]\n",
    "    contador += 1\n",
    "\n",
    "passwd_aleatoria = \"\"\n",
    "\n",
    "contador = 0\n",
    "longitud = len(passwd)\n",
    "while contador < longitud:\n",
    "    posicion = random.randint(0, len(passwd)-1)\n",
    "    passwd_aleatoria += passwd[posicion]\n",
    "    passwd = passwd[:posicion] + passwd[posicion+1:]\n",
    "    contador += 1\n",
    "\n",
    "print(\"Contraseña generada:\", passwd_aleatoria)"
   ]
  }
 ],
 "metadata": {
  "kernelspec": {
   "display_name": "Python 3 (ipykernel)",
   "language": "python",
   "name": "python3"
  },
  "language_info": {
   "codemirror_mode": {
    "name": "ipython",
    "version": 3
   },
   "file_extension": ".py",
   "mimetype": "text/x-python",
   "name": "python",
   "nbconvert_exporter": "python",
   "pygments_lexer": "ipython3",
   "version": "3.9.13"
  }
 },
 "nbformat": 4,
 "nbformat_minor": 4
}
