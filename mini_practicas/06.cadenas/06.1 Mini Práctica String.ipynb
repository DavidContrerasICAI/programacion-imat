{
 "cells": [
  {
   "cell_type": "markdown",
   "metadata": {},
   "source": [
    "# Mini Práctica 5.1 Cadenas de caracteres"
   ]
  },
  {
   "cell_type": "markdown",
   "metadata": {},
   "source": [
    "## Mini práctica\n",
    "A partir de dos cadenas de caracteres de la misma longitud, que serán pedidas al usuaario por teclado, generar las combinaciones que se describen a continuación. Se partirá, a modo de ejemplo de las siguientes cadenas introducidas: \"abc\" y \"xyz\".\n",
    "\n",
    "EL programa deberá comprobar que las cadenas son de la misma longitud. De no ser así se volverán a pedir.\n",
    "\n",
    "Combinaciones a obtener:\n",
    "- a) Mostrar los caracteres alternos de las dos palabras: \"axbycz\"\n",
    "- b) Mostrar cada una de las letras de la primera palabra más la segunda palabra: \"axyz\", \"bxyz\" y \"cxyz\".\n",
    "- c) Mostrar cada una de las letras de la primera palabra más la segunda palabra a la inversa: \"azyx\", \"bzyx\" y \"czyx\".\n",
    "- d) Mostrar cada una de las letras de los caracteres de la segunda alternando ambas: \"axayaz\", \"bxbybz\" y \"cxcycz\"."
   ]
  }
 ],
 "metadata": {
  "kernelspec": {
   "display_name": "Python 3 (ipykernel)",
   "language": "python",
   "name": "python3"
  },
  "language_info": {
   "codemirror_mode": {
    "name": "ipython",
    "version": 3
   },
   "file_extension": ".py",
   "mimetype": "text/x-python",
   "name": "python",
   "nbconvert_exporter": "python",
   "pygments_lexer": "ipython3",
   "version": "3.9.13"
  }
 },
 "nbformat": 4,
 "nbformat_minor": 4
}
