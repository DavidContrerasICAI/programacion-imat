{
 "cells": [
  {
   "cell_type": "markdown",
   "metadata": {},
   "source": [
    "# Mini Práctica 5.1 Cadenas de caracteres - Solución"
   ]
  },
  {
   "cell_type": "markdown",
   "metadata": {},
   "source": [
    "## Mini práctica\n",
    "A partir de dos cadenas de caracteres de la misma longitud, que serán pedidas al usuaario por teclado, generar las combinaciones que se describen a continuación. Se partirá, a modo de ejemplo de las siguientes cadenas introducidas: \"abc\" y \"xyz\".\n",
    "\n",
    "EL programa deberá comprobar que las cadenas son de la misma longitud. De no ser así se volverán a pedir.\n",
    "\n",
    "Combinaciones a obtener:\n",
    "- a) Mostrar los caracteres alternos de las dos palabras: \"axbycz\"\n",
    "- b) Mostrar cada una de las letras de la primera palabra más la segunda palabra: \"axyz\", \"bxyz\" y \"cxyz\".\n",
    "- c) Mostrar cada una de las letras de la primera palabra más la segunda palabra a la inversa: \"azyx\", \"bzyx\" y \"czyx\".\n",
    "- d) Mostrar cada una de las letras de los caracteres de la segunda alternando ambas: \"axayaz\", \"bxbybz\" y \"cxcycz\"."
   ]
  },
  {
   "cell_type": "markdown",
   "metadata": {},
   "source": [
    "### Código de validación de palabras\n",
    "\n",
    "Este código se debería incluir al inicio de cada programa. Se muestra el input sin input y el output para que se entienda mejor la funcionalidad de cada programa."
   ]
  },
  {
   "cell_type": "code",
   "execution_count": 13,
   "metadata": {},
   "outputs": [
    {
     "name": "stdout",
     "output_type": "stream",
     "text": [
      "1ª palabra: e\n",
      "2ª palabra: e\n",
      "¡Bien! \"e\" y \"e\" tienen la misma longitud: 1 caracteres\n"
     ]
    }
   ],
   "source": [
    "primera_palabra = input(\"1ª palabra: \")\n",
    "segunda_palabra = input(\"2ª palabra: \")\n",
    "while len(primera_palabra) != len(segunda_palabra):\n",
    "    print(\"Longitud distinta. Prueba de nuevo\")\n",
    "    primera_palabra = input(\"1ª palabra: \")\n",
    "    segunda_palabra = input(\"2ª palabra: \")\n",
    "\n",
    "print(f\"¡Bien! \\\"{primera_palabra}\\\" y \\\"{segunda_palabra}\\\" tienen la misma longitud: {len(primera_palabra)} caracteres\")"
   ]
  },
  {
   "cell_type": "markdown",
   "metadata": {},
   "source": [
    "### Solución a"
   ]
  },
  {
   "cell_type": "code",
   "execution_count": 8,
   "metadata": {},
   "outputs": [
    {
     "name": "stdout",
     "output_type": "stream",
     "text": [
      "axbycz"
     ]
    }
   ],
   "source": [
    "primera_palabra = \"abc\"\n",
    "segunda_palabra = \"xyz\"\n",
    "\n",
    "contador = 0\n",
    "while contador < len(primera_palabra):\n",
    "    print(primera_palabra[contador] + segunda_palabra[contador], end=\"\")\n",
    "    contador += 1"
   ]
  },
  {
   "cell_type": "markdown",
   "metadata": {},
   "source": [
    "### Solución b"
   ]
  },
  {
   "cell_type": "code",
   "execution_count": 6,
   "metadata": {},
   "outputs": [
    {
     "name": "stdout",
     "output_type": "stream",
     "text": [
      "axyz\n",
      "bxyz\n",
      "cxyz\n"
     ]
    }
   ],
   "source": [
    "primera_palabra = \"abc\"\n",
    "segunda_palabra = \"xyz\"\n",
    "\n",
    "contador1 = 0\n",
    "while contador1 < len(primera_palabra):\n",
    "    print(primera_palabra[contador1], end=\"\")\n",
    "    contador2 = 0\n",
    "    while contador2 < len(segunda_palabra):\n",
    "        print(segunda_palabra[contador2], end=\"\")\n",
    "        contador2 += 1\n",
    "    contador1 += 1\n",
    "    print()"
   ]
  },
  {
   "cell_type": "markdown",
   "metadata": {},
   "source": [
    "### Solución c"
   ]
  },
  {
   "cell_type": "code",
   "execution_count": 7,
   "metadata": {},
   "outputs": [
    {
     "name": "stdout",
     "output_type": "stream",
     "text": [
      "azyx\n",
      "bzyx\n",
      "czyx\n"
     ]
    }
   ],
   "source": [
    "primera_palabra = \"abc\"\n",
    "segunda_palabra = \"xyz\"\n",
    "\n",
    "contador1 = 0\n",
    "while contador1 < len(primera_palabra):\n",
    "    print(primera_palabra[contador1], end=\"\")\n",
    "    contador2 = len(segunda_palabra) -1\n",
    "    while contador2 >= 0:\n",
    "        print(segunda_palabra[contador2], end=\"\")\n",
    "        contador2 -= 1\n",
    "    contador1 += 1\n",
    "    print()"
   ]
  },
  {
   "cell_type": "markdown",
   "metadata": {},
   "source": [
    "### Solución d"
   ]
  },
  {
   "cell_type": "code",
   "execution_count": 5,
   "metadata": {},
   "outputs": [
    {
     "name": "stdout",
     "output_type": "stream",
     "text": [
      "axayaz\n",
      "bxbybz\n",
      "cxcycz\n"
     ]
    }
   ],
   "source": [
    "primera_palabra = \"abc\"\n",
    "segunda_palabra = \"xyz\"\n",
    "\n",
    "contador1 = 0\n",
    "while contador1 < len(primera_palabra):\n",
    "    contador2 = 0\n",
    "    while contador2 < len(segunda_palabra):\n",
    "        print(primera_palabra[contador1] + segunda_palabra[contador2], end=\"\")\n",
    "        contador2 += 1\n",
    "    contador1 += 1\n",
    "    print()"
   ]
  }
 ],
 "metadata": {
  "kernelspec": {
   "display_name": "Python 3 (ipykernel)",
   "language": "python",
   "name": "python3"
  },
  "language_info": {
   "codemirror_mode": {
    "name": "ipython",
    "version": 3
   },
   "file_extension": ".py",
   "mimetype": "text/x-python",
   "name": "python",
   "nbconvert_exporter": "python",
   "pygments_lexer": "ipython3",
   "version": "3.9.13"
  }
 },
 "nbformat": 4,
 "nbformat_minor": 4
}
