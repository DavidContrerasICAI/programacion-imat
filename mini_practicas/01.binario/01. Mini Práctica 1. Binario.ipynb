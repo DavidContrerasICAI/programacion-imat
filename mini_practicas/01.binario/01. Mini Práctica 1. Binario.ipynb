{
 "cells": [
  {
   "cell_type": "markdown",
   "id": "c40546a4",
   "metadata": {},
   "source": [
    "# Mini Práctica 1. Binario\n",
    "\n",
    "## Objetivo\n",
    "Conocer la importancia de la representación binaria.\n",
    "Dominar la conversión entre el sistema decimal y el binario, y viceversa.\n",
    "\n",
    "## Funcionalidad\n",
    "\n",
    "Representar en binario y hexadecimal la representación de los caracteres que forman tu nombre (primer nombre en el caso de ser compuesto).\n",
    "\n",
    "En el caso de llamarte Marta, deberás conocer los valores en decimal, binario y hexadecimal de los caracteres M, a, r, t y a según la tabla de código de caracteres que podrás encontrar, por ejemplo, aquí: https://www.ascii-code.com/.\n",
    "\n",
    "### Método 1\n",
    "\n",
    "Tomar de la web https://www.ascii-code.com/ los valores en binario y hexadecimal de cada uno de los caracteres directamente.\n",
    "\n",
    "### Método 2\n",
    "\n",
    "Tomar de la web https://www.ascii-code.com/ los valores en decimal y realizar la conversión a binario de cada uno de los caracteres de forma manual.\n",
    "\n",
    "### Método 3\n",
    "\n",
    "Tomar de la web https://www.ascii-code.com/ los valores en decimal y realizar la conversión a binario de cada uno de los caracteres según el código escrito en Python que escribimos el primer día.\n"
   ]
  },
  {
   "cell_type": "code",
   "execution_count": 4,
   "id": "b95e48b1",
   "metadata": {},
   "outputs": [
    {
     "data": {
      "text/plain": [
       "65"
      ]
     },
     "execution_count": 4,
     "metadata": {},
     "output_type": "execute_result"
    }
   ],
   "source": [
    "ord(\"A\")"
   ]
  },
  {
   "cell_type": "code",
   "execution_count": 1,
   "id": "16c1920c",
   "metadata": {},
   "outputs": [
    {
     "data": {
      "text/plain": [
       "'0b1000001'"
      ]
     },
     "execution_count": 1,
     "metadata": {},
     "output_type": "execute_result"
    }
   ],
   "source": [
    "bin(65)"
   ]
  },
  {
   "cell_type": "code",
   "execution_count": 6,
   "id": "9f816f43",
   "metadata": {},
   "outputs": [
    {
     "data": {
      "text/plain": [
       "'0x41'"
      ]
     },
     "execution_count": 6,
     "metadata": {},
     "output_type": "execute_result"
    }
   ],
   "source": [
    "hex(65)"
   ]
  },
  {
   "cell_type": "code",
   "execution_count": null,
   "id": "a520f021",
   "metadata": {},
   "outputs": [],
   "source": []
  }
 ],
 "metadata": {
  "kernelspec": {
   "display_name": "Python 3 (ipykernel)",
   "language": "python",
   "name": "python3"
  },
  "language_info": {
   "codemirror_mode": {
    "name": "ipython",
    "version": 3
   },
   "file_extension": ".py",
   "mimetype": "text/x-python",
   "name": "python",
   "nbconvert_exporter": "python",
   "pygments_lexer": "ipython3",
   "version": "3.9.13"
  }
 },
 "nbformat": 4,
 "nbformat_minor": 5
}
