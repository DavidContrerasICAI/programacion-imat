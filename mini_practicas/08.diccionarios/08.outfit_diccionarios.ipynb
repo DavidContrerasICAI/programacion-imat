{
 "cells": [
  {
   "cell_type": "markdown",
   "id": "e6215822-15dd-456e-af7d-3ae086724e6d",
   "metadata": {},
   "source": [
    "# Mini-práctica Diccionarios\n",
    "\n",
    "Programa una aplicación de consola que gestione outfits de varias personas y calcule el coste total del outfit de una persona concreta. El programa pedirá primero cuántas personas se van a generar.\n",
    "\n",
    "Para cada persona:\n",
    "- Se creará automáticamente un nombre ficticio formado por 4 veces la misma letra mayúscula elegida al azar entre A y K (p. ej., BBBB, JJJJ).\n",
    "- Se pedirá cuántas prendas tiene esa persona. Para cada prenda, el programa generará aleatoriamente:\n",
    "    + Un tipo de prenda a partir de la lista fija: [\"Bañador\", \"Pantalón\", \"Camiseta\", \"Zapatos\", \"Falda\"].\n",
    "    + Un precio entero múltiplo de 10, entre 10€ y 100€ (ambos incluidos).\n",
    "    + Generada una <Prenda> de <Precio>€\n",
    "\n",
    "Al terminar de crear todas las personas, el programa pedirá el nombre de una persona yse deberá  calcular el coste total de su outfit (la suma de los precios de sus prendas), mostrando el resultado con el formato:\n",
    "El coste total del outfit de <Nombre> es <Total>€\n",
    "\n",
    "**El acceso al outfit a partir del nombre de la persona se realizará de la forma más rápida posible.**"
   ]
  },
  {
   "cell_type": "code",
   "execution_count": 8,
   "id": "6bd070a5-75a8-428a-a5d2-0d784e86cc5f",
   "metadata": {},
   "outputs": [
    {
     "name": "stdin",
     "output_type": "stream",
     "text": [
      "Número personas:  3\n"
     ]
    },
    {
     "name": "stdout",
     "output_type": "stream",
     "text": [
      "\n"
     ]
    },
    {
     "name": "stdin",
     "output_type": "stream",
     "text": [
      "Número de prendas de AAAA:  2\n"
     ]
    },
    {
     "name": "stdout",
     "output_type": "stream",
     "text": [
      "Generada una Pantalón de 30€\n",
      "Generada una Zapatos de 50€\n",
      "\n"
     ]
    },
    {
     "name": "stdin",
     "output_type": "stream",
     "text": [
      "Número de prendas de CCCC:  3\n"
     ]
    },
    {
     "name": "stdout",
     "output_type": "stream",
     "text": [
      "Generada una Bañador de 10€\n",
      "Generada una Zapatos de 60€\n",
      "Generada una Zapatos de 30€\n",
      "\n"
     ]
    },
    {
     "name": "stdin",
     "output_type": "stream",
     "text": [
      "Número de prendas de CCCC:  2\n"
     ]
    },
    {
     "name": "stdout",
     "output_type": "stream",
     "text": [
      "Generada una Bañador de 50€\n",
      "Generada una Falda de 50€\n",
      "{'AAAA': [('Pantalón', 30), ('Zapatos', 50)], 'CCCC': [('Bañador', 50), ('Falda', 50)]}\n",
      "\n"
     ]
    },
    {
     "name": "stdin",
     "output_type": "stream",
     "text": [
      "Nombre de la persona a calcular el coste de su outfit:  AAAA\n"
     ]
    },
    {
     "name": "stdout",
     "output_type": "stream",
     "text": [
      "El coste total del outfit de CCCC es 80€\n"
     ]
    }
   ],
   "source": [
    "import random\n",
    "\n",
    "ROPA = [\"Bañador\", \"Pantalón\", \"Camiseta\", \"Zapatos\", \"Falda\"]\n",
    "\n",
    "personas = {}\n",
    "\n",
    "numero_personas_str = input(\"Número personas: \")\n",
    "numero_personas = int(numero_personas_str)\n",
    "i = 0\n",
    "while i < numero_personas:\n",
    "    print()\n",
    "    nombre = chr(65+random.randint(0, 10)) * 4\n",
    "    numero_ropa_str = input(f\"Número de prendas de {nombre}: \")\n",
    "    numero_ropa = int(numero_ropa_str)\n",
    "    ropas = []\n",
    "    j = 0\n",
    "    while j < numero_ropa:\n",
    "        ropa  = ROPA[random.randint(0, len(ROPA)-1)]\n",
    "        precio = random.randint(1,10) * 10\n",
    "        ropas.append((ropa, precio))\n",
    "        print(f\"Generada una {ropa} de {precio}€\")\n",
    "        j += 1\n",
    "\n",
    "    personas[nombre] = ropas\n",
    "    i += 1\n",
    "\n",
    "print()\n",
    "\n",
    "persona_a_buscar = input(\"Nombre de la persona a calcular el coste de su outfit: \")\n",
    "\n",
    "if persona_a_buscar in personas:\n",
    "    ropa_persona = personas[persona_a_buscar]\n",
    "    precio_total = 0\n",
    "    for ropa in ropa_persona:\n",
    "        nombre_ropa, precio = ropa\n",
    "        precio_total += precio\n",
    "    print(f\"El coste total del outfit de {nombre} es {precio_total}€\")\n",
    "else:\n",
    "    print(\"La persona no existe\")\n"
   ]
  }
 ],
 "metadata": {
  "kernelspec": {
   "display_name": "Python 3 (ipykernel)",
   "language": "python",
   "name": "python3"
  },
  "language_info": {
   "codemirror_mode": {
    "name": "ipython",
    "version": 3
   },
   "file_extension": ".py",
   "mimetype": "text/x-python",
   "name": "python",
   "nbconvert_exporter": "python",
   "pygments_lexer": "ipython3",
   "version": "3.12.4"
  }
 },
 "nbformat": 4,
 "nbformat_minor": 5
}
