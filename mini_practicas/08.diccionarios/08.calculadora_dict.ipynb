{
 "cells": [
  {
   "cell_type": "markdown",
   "id": "0a8d0f0e",
   "metadata": {},
   "source": [
    "# 8. Mini-práctica Diccionarios - Calculadora (Tema 8)\n",
    "\n",
    "## Solución\n",
    "\n",
    "A partir de la **Mini-práctica del Tema 7. Calculadora Listas** resuelta por el profesor, añadir la siguiente funcionalidad:\n",
    "- Convertir la lista creada pra guardar el historial en un diccionario, que tenga como clave un número secuencial y como valor, una tupla con los elementos que intervienen en la operación: operandos, operador y resultado. Por ejemplo:\n",
    "    - 2 + 2 = 4, se generará la tupla: (2, \"+\", 2, 4) \n",
    "    - abs(-3), se generará la tupla: (-3, \"abs\", 3)\n",
    "- El historial de operaciones mostrará la información como tal y como se muestra en el ejemplo: **clave:valor**, diferenciando la parte de INPUT y OUTPUT descomponiendo la tupla. \n",
    "```\n",
    "Operación: 10\n",
    "     Historial      \n",
    "====================\n",
    "· 1: INPUT: (2, '+', 3) -> OUTPUT: 5\n",
    "· 2: INPUT: (8, '/', 2) -> OUTPUT: 4.0\n",
    "· 3: INPUT: (-5, 'abs') -> OUTPUT: 5\n",
    "```\n",
    "- Crear una nueva opción de menú: **11. Repetir operación**. Al introducir el número que representa la clave, se mostrará el resultado como se muestra. Aquí, igualmente se descompondrá la tupla. Ojo en las descomposiciones, ya que todas las tuplas de resultados notendrán el mismo número de elementos.\n",
    "\n",
    "```\n",
    "******** Calculadora iMAT ********\n",
    "1. Sumar\n",
    "2. Restar\n",
    "3. Multiplicar\n",
    "4. Dividir\n",
    " \n",
    "5. Valor absoluto\n",
    "6. Redondeo de un número al alza\n",
    "7. Valor ASCII de un carácter\n",
    "8. Carácter de un código ASCII\n",
    "\n",
    "9. Salir\n",
    "10. Historial de operaciones\n",
    "11. Repetir operación\n",
    "**********************************\n",
    "Operación: 11\n",
    "Clave de la operación: 2\n",
    "Operación 2:  8 / 2 = 4.0\n",
    "```\n"
   ]
  },
  {
   "cell_type": "code",
   "execution_count": null,
   "id": "1dfad0a1",
   "metadata": {},
   "outputs": [],
   "source": []
  }
 ],
 "metadata": {
  "kernelspec": {
   "display_name": "Python 3 (ipykernel)",
   "language": "python",
   "name": "python3"
  },
  "language_info": {
   "codemirror_mode": {
    "name": "ipython",
    "version": 3
   },
   "file_extension": ".py",
   "mimetype": "text/x-python",
   "name": "python",
   "nbconvert_exporter": "python",
   "pygments_lexer": "ipython3",
   "version": "3.9.13"
  }
 },
 "nbformat": 4,
 "nbformat_minor": 5
}
