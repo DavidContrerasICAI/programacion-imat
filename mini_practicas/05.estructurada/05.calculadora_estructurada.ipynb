{
 "cells": [
  {
   "cell_type": "markdown",
   "id": "0b571fe9",
   "metadata": {},
   "source": [
    "# 5. Mini-práctica Programación Estructurada - Calculadora (Tema 5)\n",
    "\n",
    "## Solución\n",
    "\n",
    "Tomar la **Práctica 4. Calculadora** resuelta por el profesor e intentad mejorarla aplicando las estrategias y recomendaciones del **Tema 6. Programación Estructurada**."
   ]
  },
  {
   "cell_type": "code",
   "execution_count": null,
   "id": "ec612977",
   "metadata": {},
   "outputs": [],
   "source": []
  }
 ],
 "metadata": {
  "kernelspec": {
   "display_name": "Python 3 (ipykernel)",
   "language": "python",
   "name": "python3"
  },
  "language_info": {
   "codemirror_mode": {
    "name": "ipython",
    "version": 3
   },
   "file_extension": ".py",
   "mimetype": "text/x-python",
   "name": "python",
   "nbconvert_exporter": "python",
   "pygments_lexer": "ipython3",
   "version": "3.12.4"
  }
 },
 "nbformat": 4,
 "nbformat_minor": 5
}
