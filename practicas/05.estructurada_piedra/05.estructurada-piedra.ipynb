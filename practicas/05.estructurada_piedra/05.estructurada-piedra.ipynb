{
 "cells": [
  {
   "cell_type": "markdown",
   "metadata": {},
   "source": [
    "# Práctica 5. Programación Estructurada - Piedra, papel o tijera\n",
    "# Enunciado\n",
    "\n",
    "### Objetivos\n",
    "- Diseñar correctamente el flujo del programa para crear un programa correctamente estructurado.\n",
    "- Elegir los operadores lógicos adecuados para conseguir un código legible y bien estructurado.\n",
    "- Implementar una solución software a partir de unos requisitos dados.\n",
    "- Saber identificar los incrementos para llegar a la solución final.\n",
    "\n",
    "### Restricciones\n",
    "- Se prohibe utilizar:\n",
    "    + Estructura for.\n",
    "    + Operador in.\n",
    "    + Métodos de la clase **str**."
   ]
  },
  {
   "cell_type": "markdown",
   "metadata": {},
   "source": [
    "## Enunciado de la práctica\n",
    "\n",
    "Desarrollar un programa que replique el clásico Piedra, Papel o Tijera. El usuario introducirá su elección mediante teclado y jugará contra la máquina. Para ello, el ordenador deberá utilizar la librería random:\n",
    "```\n",
    "import random\n",
    "aleatorio:int = random.randint(1, 3)    # Devuelve un número entero entre [1, 3]\n",
    "```\n",
    "\n",
    "### Iteración 1 - Librería random\n",
    "\n",
    "Comprobar que la librería random realmente devuelve un número aleatoria mediante la Ley de los grandes números. Deberéis comprobar que la media de un conjunto de números entre el 0 y el 1 es 0,5. Demostrar la convergencia de esta ley mediante una muestra grande de números: esa muestra partirá de 10 números aleatroios hasta llegar a 10 millones.\n",
    "\n",
    "Para generar números entre el 0 y 1, se utiliará la función random():\n",
    "\n",
    "```\n",
    "import random\n",
    "aleatorio:float = random.random()    # Devuelve un número real entre [0, 1)\n",
    "```\n",
    "\n",
    "Para formatear la salida se emplearán los strings formateados que se verán en clase:\n",
    "```\n",
    "print(f\"{variable1:,.0f} números: {variable2:0.5f}\")\n",
    "```\n",
    "\n",
    "**Output:**\n",
    "```\n",
    "10 números: 0.57781\n",
    "100 números: 0.53937\n",
    "1,000 números: 0.49989\n",
    "10,000 números: 0.50166\n",
    "100,000 números: 0.49876\n",
    "1,000,000 números: 0.50030\n",
    "10,000,000 números: 0.50009\n",
    "```\n",
    "\n",
    "### Iteración 2 - Juego\n",
    "\n",
    "La ejecución del programa deberá generar una salida similar a la que se muestra y el programa se podrá diseñar de la forma que considere el alumno.\n",
    "\n",
    "## Salida\n",
    "\n",
    "```\n",
    "Nombre: David\n",
    "¿Cuántas partidas quieres jugar [1, 5]? 7\n",
    "¿Cuántas partidas quieres jugar [1, 5]? 3\n",
    "\n",
    "¿[P]iedra, [p]apel o [T]ijera? X\n",
    "¿[P]iedra, [p]apel o [T]ijera? P\n",
    "USER: P - MÁQUINA: T >>> GANAS\n",
    "\n",
    "¿[P]iedra, [p]apel o [T]ijera? p\n",
    "USER: p - MÁQUINA: P >>> GANAS\n",
    "\n",
    "¿[P]iedra, [p]apel o [T]ijera? T\n",
    "USER: T - MÁQUINA: P >>> PIERDES\n",
    "  \n",
    "Resultado Final  \n",
    "====================\n",
    "David 2 - 1 MÁQUINA\n",
    "Empates: 0\n",
    "```"
   ]
  },
  {
   "cell_type": "code",
   "execution_count": null,
   "metadata": {},
   "outputs": [],
   "source": []
  }
 ],
 "metadata": {
  "kernelspec": {
   "display_name": "Python 3 (ipykernel)",
   "language": "python",
   "name": "python3"
  },
  "language_info": {
   "codemirror_mode": {
    "name": "ipython",
    "version": 3
   },
   "file_extension": ".py",
   "mimetype": "text/x-python",
   "name": "python",
   "nbconvert_exporter": "python",
   "pygments_lexer": "ipython3",
   "version": "3.12.4"
  }
 },
 "nbformat": 4,
 "nbformat_minor": 4
}
