{
 "cells": [
  {
   "cell_type": "markdown",
   "id": "3d68b4fd",
   "metadata": {},
   "source": [
    "# Ayuda para afrontar la Practica 3 de Bucles"
   ]
  },
  {
   "cell_type": "markdown",
   "id": "04bb55ff",
   "metadata": {},
   "source": [
    "## Trabajando con acumuladores\n",
    "\n",
    "Son variables que acumulan (sumando, multiplicando, ...) los nuevos valores al valor que ya tenía anteriormente. \n",
    "\n",
    "Cuando realizamos operaciones, solemos guardar su resultado en otra nueva variable."
   ]
  },
  {
   "cell_type": "code",
   "execution_count": null,
   "id": "cdbde09e",
   "metadata": {},
   "outputs": [],
   "source": [
    "a = 5\n",
    "b = 10\n",
    "suma = a + b"
   ]
  },
  {
   "cell_type": "markdown",
   "id": "4400fdd1",
   "metadata": {},
   "source": [
    "Hay ocasiones, que no queremos generar nuevas variables y deseamos acumular el resultado a una ya existe. Veamos un ejemplo.\n",
    "\n",
    "Tenemos una jarra de agua y queremos rellenarla con el agua sobrante de unos vasos que nos van dejando en la mesa. En este caso, cada nuevo vaso de agua que se reciba, lo estaremos acumulando al que ya tuviera la jarra. La variable jarra, por lo tanto, hará hace las funciones de una variable acumuladora."
   ]
  },
  {
   "cell_type": "code",
   "execution_count": 23,
   "id": "2213fefb",
   "metadata": {},
   "outputs": [
    {
     "name": "stdout",
     "output_type": "stream",
     "text": [
      "17\n"
     ]
    }
   ],
   "source": [
    "jarra = 0\n",
    "vaso1 = 5\n",
    "jarra = jarra + vaso1\n",
    "\n",
    "vaso2 = 10\n",
    "jarra = jarra + vaso2\n",
    "\n",
    "vaso3 = 2\n",
    "jarra = jarra + vaso3\n",
    "\n",
    "print(jarra)"
   ]
  },
  {
   "cell_type": "markdown",
   "id": "5ff32be1",
   "metadata": {},
   "source": [
    "Si ahora, en lugar de sumar a la jarra un número aleatorio de agua, quiero sumarle las 2 cantidades de agua que poseen 10 vasos de agua, lo podré automatizar mediante un bucle:"
   ]
  },
  {
   "cell_type": "code",
   "execution_count": 11,
   "id": "76a3b926",
   "metadata": {},
   "outputs": [
    {
     "name": "stdout",
     "output_type": "stream",
     "text": [
      "20\n"
     ]
    }
   ],
   "source": [
    "contador = 0\n",
    "jarra = 0\n",
    "while contador < 10:\n",
    "    jarra = jarra + 2\n",
    "    contador = contador + 1\n",
    "    \n",
    "print(jarra)"
   ]
  },
  {
   "cell_type": "markdown",
   "id": "ac94a453",
   "metadata": {},
   "source": [
    "## Sumatorio del número 5"
   ]
  },
  {
   "cell_type": "markdown",
   "id": "34ad5ea3",
   "metadata": {},
   "source": [
    "Un avez que se entiende el funcionamiento de un acumulador, veamos cómo aplicarlo al cálculo de un sumatorio de un número.\n",
    "\n",
    "El sumatorio del número 5 se podría calcular de forma particular de la siguiente forma:"
   ]
  },
  {
   "cell_type": "code",
   "execution_count": 20,
   "id": "21be3a5b",
   "metadata": {},
   "outputs": [
    {
     "name": "stdout",
     "output_type": "stream",
     "text": [
      "15\n"
     ]
    }
   ],
   "source": [
    "sumatorio = 5 + 4 + 3 + 2 + 1\n",
    "print(sumatorio)"
   ]
  },
  {
   "cell_type": "markdown",
   "id": "00643431",
   "metadata": {},
   "source": [
    "Expresado formalmente:"
   ]
  },
  {
   "cell_type": "code",
   "execution_count": 21,
   "id": "b090f97a",
   "metadata": {},
   "outputs": [
    {
     "name": "stdout",
     "output_type": "stream",
     "text": [
      "15\n"
     ]
    }
   ],
   "source": [
    "numero = 5\n",
    "sumatorio = numero + (numero - 1) + (numero - 2) + (numero - 3) + (numero - 4) \n",
    "print(sumatorio)"
   ]
  },
  {
   "cell_type": "markdown",
   "id": "1b5d9b55",
   "metadata": {},
   "source": [
    "### Automatizando el proceso mediante un bucle"
   ]
  },
  {
   "cell_type": "markdown",
   "id": "bb0e7418",
   "metadata": {},
   "source": [
    "Si deseo sumar cada uno de los elementos de la serie n, n-1, n-2, ..., puedo utilizar el valor de contador para restar ese valor al número y conformar la serie. Cada elemento, lo deberé acumular a la variable creada llamada sumatorio.  "
   ]
  },
  {
   "cell_type": "code",
   "execution_count": 16,
   "id": "eab20bf2",
   "metadata": {},
   "outputs": [
    {
     "name": "stdout",
     "output_type": "stream",
     "text": [
      "15\n"
     ]
    }
   ],
   "source": [
    "contador = 0\n",
    "sumatorio = 0\n",
    "numero = 5\n",
    "\n",
    "while contador < numero:\n",
    "    sumatorio = sumatorio + (numero - contador)\n",
    "    contador = contador + 1\n",
    "    \n",
    "print(sumatorio)"
   ]
  },
  {
   "cell_type": "markdown",
   "id": "5c2052e1",
   "metadata": {},
   "source": [
    "Como nos da igual sumar desde n a 0, que desde 0 a n..."
   ]
  },
  {
   "cell_type": "code",
   "execution_count": 24,
   "id": "a732e13e",
   "metadata": {},
   "outputs": [
    {
     "name": "stdout",
     "output_type": "stream",
     "text": [
      "15\n"
     ]
    }
   ],
   "source": [
    "sumatorio = 1 + 2 + 3 + 4 + 5\n",
    "print(sumatorio)"
   ]
  },
  {
   "cell_type": "markdown",
   "id": "109c6082",
   "metadata": {},
   "source": [
    "...se podría resumir en lo siguente:"
   ]
  },
  {
   "cell_type": "code",
   "execution_count": 19,
   "id": "8e1f6664",
   "metadata": {},
   "outputs": [
    {
     "name": "stdout",
     "output_type": "stream",
     "text": [
      "15\n"
     ]
    }
   ],
   "source": [
    "contador = 0  # Podría ser 1\n",
    "sumatorio = 0\n",
    "numero = 5\n",
    "\n",
    "while contador <= numero:\n",
    "    sumatorio = sumatorio + contador\n",
    "    contador = contador + 1\n",
    "    \n",
    "print(sumatorio)"
   ]
  }
 ],
 "metadata": {
  "kernelspec": {
   "display_name": "Python 3 (ipykernel)",
   "language": "python",
   "name": "python3"
  },
  "language_info": {
   "codemirror_mode": {
    "name": "ipython",
    "version": 3
   },
   "file_extension": ".py",
   "mimetype": "text/x-python",
   "name": "python",
   "nbconvert_exporter": "python",
   "pygments_lexer": "ipython3",
   "version": "3.9.13"
  }
 },
 "nbformat": 4,
 "nbformat_minor": 5
}
