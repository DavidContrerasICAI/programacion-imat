{
 "cells": [
  {
   "cell_type": "markdown",
   "metadata": {},
   "source": [
    "# 3. Trabajando con condicionales y bucles (Tema 3)\n",
    "## Enunciado de la práctica"
   ]
  },
  {
   "cell_type": "markdown",
   "metadata": {},
   "source": [
    "**Objetivos**: \n",
    "- Dominar el almacenamiento de datos en variables.\n",
    "- Dominar las estructuras de control if y while."
   ]
  },
  {
   "cell_type": "markdown",
   "metadata": {},
   "source": [
    "Se programarán las soluciones en este mismo Notebook en la celda que se suministra al efecto.\n",
    "\n",
    "**IMPORTANTE**\n",
    "\n",
    "Cuando trabajamos con bucles es muy fácil crear bucles infinitos, es decir, bucles que no terminan nunca porque no se llega a cumplir la condición de parada. La forma de parar la ejecución infinita de una celda es pulsando en el botón de parar ejecución (en VSC a la izquierda de la celda y en Jupyter en la parte superior)."
   ]
  },
  {
   "cell_type": "markdown",
   "metadata": {},
   "source": [
    "### Programa #1. Bucles nivel básico\n",
    "\n",
    "Calcular el factorial y el sumatorio de un número dado.\n",
    "\n",
    "```\n",
    "numero = 5\n",
    "\n",
    "El sumatorio de 5 es 15\n",
    "El factorial de 5 es 120\n",
    "```\n",
    "\n",
    "**Solución en la celda siguiente**"
   ]
  },
  {
   "cell_type": "code",
   "execution_count": 1,
   "metadata": {},
   "outputs": [
    {
     "name": "stdout",
     "output_type": "stream",
     "text": [
      "El sumatorio de 5 es 15\n",
      "El factorial de 5 es 120\n"
     ]
    }
   ],
   "source": [
    "numero = 5\n",
    "\n",
    "contador = 1\n",
    "factorial = 1\n",
    "sumatorio = 0\n",
    "\n",
    "while(contador <= numero):\n",
    "    factorial = factorial * contador\n",
    "    sumatorio = sumatorio + contador\n",
    "    contador = contador + 1\n",
    "\n",
    "print(\"El sumatorio de\", numero, \"es\", sumatorio)\n",
    "print(\"El factorial de\", numero, \"es\", factorial)"
   ]
  },
  {
   "cell_type": "markdown",
   "metadata": {},
   "source": [
    "### Programa #2a. Bucles nivel medio\n",
    "\n",
    "Mostrar una lista de números sucesivos del 1 al 10 y del 10 al 1 con dos bucles while.\n",
    "```\n",
    "1, 2,...., 9, 10, 9, ..., 2, 1\n",
    "```\n",
    "\n",
    "**Solución en la celda siguiente**"
   ]
  },
  {
   "cell_type": "code",
   "execution_count": 2,
   "metadata": {},
   "outputs": [
    {
     "name": "stdout",
     "output_type": "stream",
     "text": [
      "1\n",
      "2\n",
      "3\n",
      "4\n",
      "5\n",
      "6\n",
      "7\n",
      "8\n",
      "9\n",
      "10\n",
      "9\n",
      "8\n",
      "7\n",
      "6\n",
      "5\n",
      "4\n",
      "3\n",
      "2\n",
      "1\n"
     ]
    }
   ],
   "source": [
    "contador = 1\n",
    "while contador < 11:\n",
    "    print(contador)\n",
    "    contador = contador + 1\n",
    "    \n",
    "contador = 9\n",
    "while contador > 0:\n",
    "    print(contador)\n",
    "    contador = contador - 1"
   ]
  },
  {
   "cell_type": "markdown",
   "metadata": {},
   "source": [
    "### Programa #2b. Bucles nivel avanzado\n",
    "\n",
    "Mostrar una cuenta de números del 1 al 10 y del 10 al 1 **con un solo bucle while**.\n",
    "```\n",
    "1, 2,...., 9, 10, 9, ..., 2, 1\n",
    "```\n",
    "\n",
    "**Solución en la celda siguiente**"
   ]
  },
  {
   "cell_type": "code",
   "execution_count": 1,
   "metadata": {},
   "outputs": [
    {
     "name": "stdout",
     "output_type": "stream",
     "text": [
      "1\n",
      "2\n",
      "3\n",
      "4\n",
      "5\n",
      "6\n",
      "7\n",
      "8\n",
      "9\n",
      "10\n",
      "9\n",
      "8\n",
      "7\n",
      "6\n",
      "5\n",
      "4\n",
      "3\n",
      "2\n",
      "1\n"
     ]
    }
   ],
   "source": [
    "contador = 1\n",
    "offset = 1\n",
    "while contador > 0:\n",
    "    print(contador)\n",
    "    if contador == 10:\n",
    "        offset = -1\n",
    "    contador = contador + offset"
   ]
  },
  {
   "cell_type": "markdown",
   "metadata": {},
   "source": [
    "### Programa #3. Condiciones anidadas\n",
    "\n",
    "Crear un sistema experto (principios de la IA) basado en reglas para que en función de los datos de entrada del usuario, diagnóstiquemos la enfermedad de un paciente. Se implementará este problema utilizando condicionales anidados.\n",
    "\n",
    "Primero se le preguntará por teclado si tiene fiebre el paciente. Si tiene fiebre, habrá que saber si le duele la garganta. Si la respuesta es cierta, se le preguntará otra vez si posee alguna dificultad respiratoria. Si fuese así, tendrá COVID, si no, una infección de garganta. Si no le duele la garganta habrá que preguntarle por la tos. Si tose, tendrá bronquitis y si no, una infección desonocida. Si no tiene fiebre, estará sano como un roble. :) \n",
    "\n",
    "**Entrada del programa**\n",
    "\n",
    "Una sugerencia puede ser esta:\n",
    "```\n",
    "\"¿Tienes dolor de garganta? (S/N)\"\n",
    "```\n",
    "\n",
    "**Salida del programa**\n",
    "```\n",
    "El Dr. IA te diagnostica:  COVID\n",
    "````\n",
    "\n",
    "**Realizar el diagrama de flujo antes de implementar este programa**\n",
    "\n",
    "**Solución en la celda siguiente**"
   ]
  },
  {
   "cell_type": "code",
   "execution_count": 2,
   "metadata": {},
   "outputs": [
    {
     "name": "stdout",
     "output_type": "stream",
     "text": [
      "El Dr. IA te diagnostica:  COVID\n"
     ]
    }
   ],
   "source": [
    "diagnostico = \"\"\n",
    "fiebre = input(\"¿Tienes fiebre? (S/N)\")\n",
    "\n",
    "if fiebre == \"S\":\n",
    "    dolor_garganta = input(\"¿Tienes dolor de garganta? (S/N)\")\n",
    "    if dolor_garganta == \"S\":\n",
    "        dificultad_respiratoria = input(\"¿Tienes dificultad para respirar? (S/N)\")\n",
    "        if dificultad_respiratoria == \"S\":\n",
    "            diagnostico = \"COVID\"\n",
    "        else:\n",
    "            diagnostico = \"Infección de garganta\"\n",
    "    else:\n",
    "        tos = input(\"¿Tienes tos (S/N)?\")\n",
    "        if tos == \"S\":\n",
    "            diagnostico = \"Bronquitis\"\n",
    "        else:\n",
    "            diagnostico = \"Infección desconocida\"\n",
    "else:\n",
    "    diagnostico = \"Estás sano como roble\"\n",
    "\n",
    "print(\"El Dr. IA te diagnostica: \", diagnostico)"
   ]
  },
  {
   "cell_type": "markdown",
   "metadata": {},
   "source": [
    "### Programa #4. Cálculo de una función\n",
    "\n",
    "Dada la siguiente función, calcular los valores de ésta en todos los números enteros del intervalo [-5,5] y mostrarlos por pantalla, como se sugiere a continuación.\n",
    "\n",
    "$f(x) = x^3 + 2x^2 - 3x +7$\n",
    "\n",
    "**Salida del programa**\n",
    "\n",
    "```\n",
    "( -5 ,  -53 )\n",
    "( -4 ,  -13 )\n",
    "( -3 ,  7 )\n",
    "( -2 ,  13 )\n",
    "( -1 ,  11 )\n",
    "( 0 ,  7 )\n",
    "( 1 ,  7 )\n",
    "( 2 ,  17 )\n",
    "( 3 ,  43 )\n",
    "( 4 ,  91 )\n",
    "( 5 ,  167 )\n",
    "```\n",
    "\n",
    "**Solución en la celda siguiente**"
   ]
  },
  {
   "cell_type": "code",
   "execution_count": 23,
   "metadata": {},
   "outputs": [
    {
     "name": "stdout",
     "output_type": "stream",
     "text": [
      "( -5 ,  -53 )\n",
      "( -4 ,  -13 )\n",
      "( -3 ,  7 )\n",
      "( -2 ,  13 )\n",
      "( -1 ,  11 )\n",
      "( 0 ,  7 )\n",
      "( 1 ,  7 )\n",
      "( 2 ,  17 )\n",
      "( 3 ,  43 )\n",
      "( 4 ,  91 )\n",
      "( 5 ,  167 )\n"
     ]
    }
   ],
   "source": [
    "x = -5\n",
    "while x < 6:\n",
    "    y = x**3 + 2*x**2 - 3*x + 7\n",
    "    print(\"(\", x, \", \", y, \")\")\n",
    "    x = x + 1\n"
   ]
  },
  {
   "cell_type": "markdown",
   "metadata": {},
   "source": [
    "### Programa #5. Conversión de decimal a binario\n",
    "\n",
    "Realizar un programa que convierta del sistema numérico decimal a binario. Programarlo de tal manera para que funcione para las bases desde 2 hasta 10.\n",
    "\n",
    "**Entrada de datos**\n",
    "\n",
    "Se inicializará las variables del numero a calcular y la base, no se pedirá por teclado.\n",
    "```\n",
    "numero_decimal = 8\n",
    "base = 2\n",
    "```\n",
    "\n",
    "**Salida**\n",
    "\n",
    "Se mostrará por pantalla el número obtenido de forma inversa, tal y como lo hacemos en papel.\n",
    "```\n",
    "0\n",
    "0\n",
    "0\n",
    "1\n",
    "```"
   ]
  },
  {
   "cell_type": "code",
   "execution_count": 7,
   "metadata": {},
   "outputs": [
    {
     "name": "stdout",
     "output_type": "stream",
     "text": [
      "0\n",
      "0\n",
      "0\n",
      "1\n"
     ]
    }
   ],
   "source": [
    "numero_decimal = 8\n",
    "base = 2\n",
    "dividendo = numero_decimal\n",
    "cociente = base\n",
    "\n",
    "while cociente >= base:\n",
    "    cociente = dividendo // base\n",
    "    resto = dividendo % base\n",
    "    print(resto)\n",
    "    dividendo = cociente\n",
    "\n",
    "print(cociente)"
   ]
  },
  {
   "cell_type": "code",
   "execution_count": 8,
   "metadata": {},
   "outputs": [
    {
     "data": {
      "text/plain": [
       "'0b1000'"
      ]
     },
     "execution_count": 8,
     "metadata": {},
     "output_type": "execute_result"
    }
   ],
   "source": [
    "# Validación\n",
    "bin(numero_decimal)"
   ]
  },
  {
   "cell_type": "markdown",
   "metadata": {},
   "source": [
    "#### Programa #5bis. Conversión a hexadecimal (Opcional)\n",
    "\n",
    "Modifica el programa anterior para que funcione para el Sistema Numérico Hexadecimal"
   ]
  },
  {
   "cell_type": "code",
   "execution_count": 10,
   "metadata": {},
   "outputs": [
    {
     "name": "stdout",
     "output_type": "stream",
     "text": [
      "F\n",
      "D\n",
      "2\n"
     ]
    }
   ],
   "source": [
    "numero_decimal = 735\n",
    "base = 16\n",
    "dividendo = numero_decimal\n",
    "cociente = base\n",
    "\n",
    "while cociente >= base:\n",
    "    cociente = dividendo // base\n",
    "    resto = dividendo % base\n",
    "    if resto < 10:\n",
    "        print(resto)\n",
    "    else:\n",
    "        if resto == 10:\n",
    "            print(\"A\")\n",
    "        else:\n",
    "            if resto == 11:\n",
    "                print(\"B\")\n",
    "            else:\n",
    "                if resto == 12:\n",
    "                    print(\"C\")\n",
    "                else:\n",
    "                    if resto == 13:\n",
    "                        print(\"D\")\n",
    "                    else:\n",
    "                        if resto == 14:\n",
    "                            print(\"E\")\n",
    "                        else:\n",
    "                            if resto == 15:\n",
    "                                print(\"F\")\n",
    "    dividendo = cociente\n",
    "\n",
    "print(cociente)"
   ]
  },
  {
   "cell_type": "code",
   "execution_count": 11,
   "metadata": {},
   "outputs": [
    {
     "data": {
      "text/plain": [
       "'0x2df'"
      ]
     },
     "execution_count": 11,
     "metadata": {},
     "output_type": "execute_result"
    }
   ],
   "source": [
    "# Validación\n",
    "hex(numero_decimal)"
   ]
  },
  {
   "cell_type": "markdown",
   "metadata": {},
   "source": []
  }
 ],
 "metadata": {
  "kernelspec": {
   "display_name": "Python 3 (ipykernel)",
   "language": "python",
   "name": "python3"
  },
  "language_info": {
   "codemirror_mode": {
    "name": "ipython",
    "version": 3
   },
   "file_extension": ".py",
   "mimetype": "text/x-python",
   "name": "python",
   "nbconvert_exporter": "python",
   "pygments_lexer": "ipython3",
   "version": "3.9.13"
  },
  "vscode": {
   "interpreter": {
    "hash": "03f549537fa19b43efbf5aa4d6467b94388b966112c368cc66a2484d89a4a6bd"
   }
  }
 },
 "nbformat": 4,
 "nbformat_minor": 4
}
